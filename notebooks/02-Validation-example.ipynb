{
 "cells": [
  {
   "cell_type": "markdown",
   "id": "6b56eb4b-3b28-46d1-ba60-885a41b1e648",
   "metadata": {},
   "source": [
    "# 02-Validation-example  \n",
    "Load a model and check the predictions"
   ]
  },
  {
   "cell_type": "code",
   "execution_count": 1,
   "id": "3612f429-695d-4574-b81c-8d6043b78b9f",
   "metadata": {
    "execution": {
     "iopub.execute_input": "2022-05-14T19:05:37.456638Z",
     "iopub.status.busy": "2022-05-14T19:05:37.456270Z",
     "iopub.status.idle": "2022-05-14T19:05:44.628035Z",
     "shell.execute_reply": "2022-05-14T19:05:44.626870Z",
     "shell.execute_reply.started": "2022-05-14T19:05:37.456560Z"
    },
    "tags": []
   },
   "outputs": [],
   "source": [
    "%load_ext autoreload\n",
    "%autoreload 2\n",
    "\n",
    "import gi_tract_seg as gt\n",
    "from gi_tract_seg.models.module import GITractSegmentatonLitModule\n",
    "import torch\n",
    "import segmentation_models_pytorch as smp\n",
    "import matplotlib.pyplot as plt\n",
    "import numpy as np\n",
    "from tqdm.auto import tqdm\n",
    "import matplotlib.pyplot as plt\n",
    "import pandas as pd\n",
    "import cv2\n",
    "import seaborn as sns\n",
    "from pytorch_toolbelt.inference import GeneralizedTTA, d4_image_augment, d4_image_deaugment\n",
    "from torchvision.utils import make_grid\n",
    "import torchvision"
   ]
  },
  {
   "cell_type": "code",
   "execution_count": null,
   "id": "bea5be6f-b36b-4e68-9b61-d7b90b837a61",
   "metadata": {
    "tags": []
   },
   "outputs": [],
   "source": [
    "model = torch.load('../models/deep_run_6_unet_fold0.pt')\n",
    "model.eval()\n",
    "model.cuda();"
   ]
  },
  {
   "cell_type": "code",
   "execution_count": null,
   "id": "e203535b-09a7-41e6-89c1-71ea96b22029",
   "metadata": {},
   "outputs": [],
   "source": [
    "font = cv2.FONT_HERSHEY_SIMPLEX\n",
    "org = (20, 20)\n",
    "fontScale = .5\n",
    "color = (1, 0, 0)\n",
    "thickness = 2"
   ]
  },
  {
   "cell_type": "code",
   "execution_count": null,
   "id": "d1b5d2e3-066c-4a87-ba77-4d63bd154628",
   "metadata": {
    "tags": []
   },
   "outputs": [],
   "source": [
    "datamodule = gt.data.datamodule.GITractDataModule(\n",
    "    '../data/processed/train_df_agg.parquet', \n",
    "    '../data/raw/train/', \n",
    "    '../data/processed/masks/', \n",
    "    val_fold=0,\n",
    "    batch_size=128,\n",
    "    num_workers=2,\n",
    "    shuffle_train=False\n",
    ")\n",
    "datamodule.prepare_data()\n",
    "datamodule.setup()"
   ]
  },
  {
   "cell_type": "code",
   "execution_count": null,
   "id": "e7a0de88-5b9b-4189-8af0-5101fcaf963f",
   "metadata": {
    "tags": []
   },
   "outputs": [],
   "source": [
    "dice_scores = []\n",
    "predictions = []\n",
    "dice_meter = gt.models.metrics.DiceMeter('multilabel')\n",
    "for batch in tqdm(datamodule.train_dataloader()):\n",
    "    with torch.no_grad():\n",
    "        batch_preds = model(batch['image'].cuda())\n",
    "        dice_scores.extend(\n",
    "            [dice_meter.score_fn(batch['mask'][i].cuda(), batch_preds[i]) for i in range(batch_preds.size()[0])]\n",
    "        )\n",
    "        predictions.append(torch.nn.Sigmoid()(batch_preds).cpu().numpy())\n",
    "dice_scores = np.array(dice_scores)\n",
    "dice_scores = pd.DataFrame(dice_scores, columns=[\"lb\", \"sb\", \"st\"])\n",
    "dice_scores['mean'] = np.nanmean(dice_scores, axis=1)\n",
    "predictions = np.concatenate(predictions)"
   ]
  },
  {
   "cell_type": "code",
   "execution_count": null,
   "id": "12beabb4-b9a8-45da-bb32-5194ce3afbd3",
   "metadata": {
    "tags": []
   },
   "outputs": [],
   "source": [
    "sns.boxplot(data = pd.melt(dice_scores, value_vars=[\"lb\", \"sb\", \"st\", \"mean\"]), x = 'variable', y = 'value')\n",
    "mean_values = np.nanmean(dice_scores, axis=0)\n",
    "mean_values_str =\\\n",
    "    ', '.join([f'{gi_c}:{val:.3f}' for gi_c, val in zip(dice_scores.columns, mean_values)])\n",
    "plt.title('GI tract DICE per class\\n'+mean_values_str);\n",
    "plt.xlabel('Class')\n",
    "plt.ylabel('Dice')"
   ]
  },
  {
   "cell_type": "code",
   "execution_count": null,
   "id": "7bd9acc1-58f4-4e06-b450-75414548c48a",
   "metadata": {
    "tags": []
   },
   "outputs": [],
   "source": [
    "train_df = datamodule.train_data.reset_index(drop=False)\n",
    "data_dices = pd.merge(\n",
    "    dice_scores, \n",
    "    train_df,\n",
    "    left_index=True, \n",
    "    right_index=True)\n",
    "data_dices.head()"
   ]
  },
  {
   "cell_type": "code",
   "execution_count": null,
   "id": "4f120f0d-4afc-42d4-8e73-b9091efb351e",
   "metadata": {
    "tags": []
   },
   "outputs": [],
   "source": [
    "mean_across_case_day = data_dices.groupby(['case', 'day'])['mean'].mean().reset_index().sort_values('mean')\n",
    "mean_across_case_day.head()"
   ]
  },
  {
   "cell_type": "code",
   "execution_count": null,
   "id": "1690fc68-82fd-4a81-ac99-6a8b852ea2c2",
   "metadata": {
    "tags": []
   },
   "outputs": [],
   "source": [
    "def extract_scan_predictions(scan_id):\n",
    "    image_data = datamodule.train_dataset[scan_id]\n",
    "    image_rgb = np.tile(image_data['image'].cpu().numpy().transpose(1, 2, 0), 3).astype(np.float32)\n",
    "    mask_rgb = image_data['mask']\n",
    "    with torch.no_grad():\n",
    "        prediction_rgb = model(image_data['image'][None,:].cuda()).cpu()[0]    \n",
    "        dice_score = dice_meter.score_fn(mask_rgb, prediction_rgb)\n",
    "    prediction_rgb = torch.nn.Sigmoid()(prediction_rgb)\n",
    "    mask_rgb = mask_rgb.cpu().numpy().transpose(1, 2, 0).astype(np.float32)\n",
    "    prediction_rgb = prediction_rgb.numpy()\n",
    "    prediction_rgb = prediction_rgb.transpose(1, 2, 0).astype(np.float32)\n",
    "    seg_overlay_gt = cv2.addWeighted(\n",
    "        src1=image_rgb, \n",
    "        alpha=0.999, \n",
    "        src2=mask_rgb, \n",
    "        beta=0.35, \n",
    "        gamma=0\n",
    "    )\n",
    "    seg_overlay_gt = cv2.putText(\n",
    "        seg_overlay_gt,\n",
    "        f'GT {scan_id}', \n",
    "        org, \n",
    "        font, \n",
    "        fontScale, \n",
    "        color, \n",
    "        thickness,\n",
    "        cv2.LINE_AA\n",
    "    )\n",
    "    seg_overlay_pred = cv2.addWeighted(\n",
    "        src1=image_rgb, \n",
    "        alpha=0.999, \n",
    "        src2=prediction_rgb, \n",
    "        beta=0.35, \n",
    "        gamma=0\n",
    "    )\n",
    "    seg_overlay_pred = cv2.putText(\n",
    "        seg_overlay_pred,\n",
    "        f'PRED {scan_id}', \n",
    "        org, \n",
    "        font, \n",
    "        fontScale, \n",
    "        color, \n",
    "        thickness,\n",
    "        cv2.LINE_AA\n",
    "    )\n",
    "    return seg_overlay_gt, seg_overlay_pred, dice_score\n",
    "\n",
    "def plot_scan(scan_id, figsize=(15, 7)):\n",
    "    seg_overlay_gt, seg_overlay_pred, dice_score = extract_scan_predictions(scan_id)\n",
    "    f, ax = plt.subplots(1, 1, figsize=figsize)\n",
    "    ax.imshow(np.concatenate([seg_overlay_gt, seg_overlay_pred], axis=1))\n",
    "\n",
    "def plot_around_id(scan_id, figsize=(15, 7), plot_around = 2, save=True, plot=True):\n",
    "    overlays = []\n",
    "    dice_scores = []\n",
    "    for scan_id_ in range(scan_id-plot_around, scan_id+plot_around+1):\n",
    "        seg_overlay_gt, seg_overlay_pred, dice_score = extract_scan_predictions(scan_id_)\n",
    "        overlay_ = np.concatenate([seg_overlay_gt, seg_overlay_pred], axis=1)\n",
    "        overlays.append(overlay_)\n",
    "    f, ax = plt.subplots(1, 1, figsize=(15, 7*len(overlays)))\n",
    "    ax.imshow(np.concatenate(overlays))\n",
    "    plt.tight_layout()\n",
    "    if save:\n",
    "        f.savefig(f'images/worst_cases/{scan_id}.jpg')\n",
    "    if not plot:\n",
    "        plt.close()\n",
    "        \n",
    "def plot_train_case(case_data, case, day, dice_score, show, save, ):\n",
    "    overlayed_images = []\n",
    "    for inner_idx, idx in enumerate(case_data.index):\n",
    "        image_data = datamodule.train_dataset[idx]\n",
    "        image_rgb = np.tile(image_data['image'].cpu().numpy().transpose(1, 2, 0), 3).astype(np.float32)\n",
    "        mask_rgb = image_data['mask'].cpu().numpy().transpose(1, 2, 0).astype(np.float32)\n",
    "        with torch.no_grad():\n",
    "            prediction_rgb = torch.nn.Sigmoid()(model(image_data['image'][None,:].cuda())).cpu().numpy()[0]\n",
    "        prediction_rgb = prediction_rgb.transpose(1, 2, 0).astype(np.float32)\n",
    "\n",
    "        seg_overlay_gt = cv2.addWeighted(\n",
    "            src1=image_rgb, \n",
    "            alpha=0.999, \n",
    "            src2=mask_rgb, \n",
    "            beta=0.35, \n",
    "            gamma=0\n",
    "        )\n",
    "        seg_overlay_gt = cv2.putText(\n",
    "            seg_overlay_gt,\n",
    "            f'GT ({inner_idx})', \n",
    "            org, \n",
    "            font, \n",
    "            fontScale, \n",
    "            color, \n",
    "            thickness,\n",
    "            cv2.LINE_AA\n",
    "        )\n",
    "        seg_overlay_gt = torch.from_numpy(seg_overlay_gt.transpose(2,0,1))\n",
    "\n",
    "        seg_overlay_pred = cv2.addWeighted(\n",
    "            src1=image_rgb, \n",
    "            alpha=0.999, \n",
    "            src2=prediction_rgb, \n",
    "            beta=0.35, \n",
    "            gamma=0\n",
    "        )\n",
    "        seg_overlay_pred = cv2.putText(\n",
    "            seg_overlay_pred,\n",
    "            f'PRED ({inner_idx})', \n",
    "            org, \n",
    "            font, \n",
    "            fontScale, \n",
    "            color, \n",
    "            thickness,\n",
    "            cv2.LINE_AA\n",
    "        )\n",
    "        seg_overlay_pred = torch.from_numpy(seg_overlay_pred.transpose(2,0,1))\n",
    "        overlayed_images.append(seg_overlay_gt)\n",
    "        overlayed_images.append(seg_overlay_pred)\n",
    "\n",
    "    grid = make_grid(overlayed_images, nrow=8)\n",
    "    img = torchvision.transforms.ToPILImage()(grid)\n",
    "    if show:\n",
    "        img.show()\n",
    "    if save:\n",
    "        img.save(f'images/cases/{case}_{day}_{dice_score:.3f}.jpg')"
   ]
  },
  {
   "cell_type": "code",
   "execution_count": null,
   "id": "7f10781d-a4fa-4ee3-9ae8-96c7aeb67f7c",
   "metadata": {
    "tags": []
   },
   "outputs": [],
   "source": [
    "selected_worst_cases = data_dices.loc[data_dices['empty']==0].sort_values('mean').head(100)"
   ]
  },
  {
   "cell_type": "code",
   "execution_count": null,
   "id": "bb251c53-d6b9-4f7c-a958-5d206119991a",
   "metadata": {
    "tags": []
   },
   "outputs": [],
   "source": [
    "for case_idx in selected_worst_cases.index:\n",
    "    plot_around_id(case_idx, plot=False)"
   ]
  },
  {
   "cell_type": "code",
   "execution_count": null,
   "id": "1b861ac7-7523-4582-afc2-d32d6983ccd5",
   "metadata": {
    "scrolled": true,
    "tags": []
   },
   "outputs": [],
   "source": [
    "for idx in tqdm(range(mean_across_case_day.shape[0])):\n",
    "    case = mean_across_case_day['case'].values[idx]\n",
    "    day = mean_across_case_day['day'].values[idx]\n",
    "    dice_score = mean_across_case_day['mean'].values[idx]\n",
    "    mask_case_day = (train_df['case']==case) & (train_df['day']==day)\n",
    "    case_data = train_df[mask_case_day]\n",
    "    print(f'========= {case}:{day} =======')\n",
    "    show = True if idx <=5 else False\n",
    "    plot_train_case(case_data, case, day, dice_score, show, True)"
   ]
  },
  {
   "cell_type": "code",
   "execution_count": 2,
   "id": "a8c88f9a-7bf6-4e06-a9be-fad2a66bc2aa",
   "metadata": {
    "execution": {
     "iopub.execute_input": "2022-05-14T19:05:46.106207Z",
     "iopub.status.busy": "2022-05-14T19:05:46.105893Z",
     "iopub.status.idle": "2022-05-14T19:05:46.627107Z",
     "shell.execute_reply": "2022-05-14T19:05:46.625954Z",
     "shell.execute_reply.started": "2022-05-14T19:05:46.106179Z"
    },
    "tags": []
   },
   "outputs": [],
   "source": [
    "train_data = pd.read_parquet('../data/processed/train_df_agg.parquet')"
   ]
  },
  {
   "cell_type": "code",
   "execution_count": 3,
   "id": "3e763fd0-a1fe-4012-90a1-15d5607dc919",
   "metadata": {
    "execution": {
     "iopub.execute_input": "2022-05-14T19:05:52.473269Z",
     "iopub.status.busy": "2022-05-14T19:05:52.472705Z",
     "iopub.status.idle": "2022-05-14T19:05:52.892016Z",
     "shell.execute_reply": "2022-05-14T19:05:52.885009Z",
     "shell.execute_reply.started": "2022-05-14T19:05:52.473219Z"
    },
    "tags": []
   },
   "outputs": [],
   "source": [
    "train_data_cleaned = train_data.loc[(train_data['case']!=7) & (train_data['day']!=0), :]\n",
    "train_data_cleaned = train_data_cleaned.loc[(train_data_cleaned['case']!=81) & (train_data_cleaned['day']!=30), :]\n",
    "train_data_cleaned.to_parquet('../data/processed/train_df_agg_cleaned.parquet')"
   ]
  },
  {
   "cell_type": "code",
   "execution_count": null,
   "id": "39332a57-5ae3-49ce-a8a9-fcd56f334d2d",
   "metadata": {},
   "outputs": [],
   "source": []
  }
 ],
 "metadata": {
  "kernelspec": {
   "display_name": "Python 3",
   "language": "python",
   "name": "python3"
  },
  "language_info": {
   "codemirror_mode": {
    "name": "ipython",
    "version": 3
   },
   "file_extension": ".py",
   "mimetype": "text/x-python",
   "name": "python",
   "nbconvert_exporter": "python",
   "pygments_lexer": "ipython3",
   "version": "3.8.10"
  },
  "uuid": "6c6150fa-07c9-4529-9253-63d8a68a13cb"
 },
 "nbformat": 4,
 "nbformat_minor": 5
}
