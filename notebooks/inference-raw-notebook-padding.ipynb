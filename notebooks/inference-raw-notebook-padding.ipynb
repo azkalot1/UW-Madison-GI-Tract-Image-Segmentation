{
 "cells": [
  {
   "cell_type": "code",
   "execution_count": 1,
   "id": "a2f46534",
   "metadata": {
    "execution": {
     "iopub.execute_input": "2022-07-05T20:11:14.054600Z",
     "iopub.status.busy": "2022-07-05T20:11:14.052911Z",
     "iopub.status.idle": "2022-07-05T20:11:22.307169Z",
     "shell.execute_reply": "2022-07-05T20:11:22.306509Z",
     "shell.execute_reply.started": "2022-07-05T20:06:24.755472Z"
    },
    "papermill": {
     "duration": 8.271065,
     "end_time": "2022-07-05T20:11:22.307361",
     "exception": false,
     "start_time": "2022-07-05T20:11:14.036296",
     "status": "completed"
    },
    "tags": []
   },
   "outputs": [],
   "source": [
    "import sys\n",
    "sys.path.append(\"../input/segmentation-models-pytorch/segmentation_models.pytorch-0.2.1/\")\n",
    "sys.path.append('../input/timm-pytorch-image-models/pytorch-image-models-master')\n",
    "sys.path.append(\"../input/pretrainedmodels/pretrainedmodels-0.7.4\")\n",
    "sys.path.append(\"../input/effnet-pytorch/efficientnet_pytorch-0.6.3/\")\n",
    "sys.path.append(\"../input/pytorch-toolbelt/pytorch-toolbelt-develop/\")\n",
    "import pandas as pd\n",
    "import numpy as np\n",
    "import os\n",
    "from glob import glob\n",
    "import gc\n",
    "gc.enable()\n",
    "import matplotlib.pyplot as plt\n",
    "import torch\n",
    "import torch.nn as nn\n",
    "from PIL import Image\n",
    "import cv2\n",
    "import albumentations as A\n",
    "import time\n",
    "import os\n",
    "from tqdm import tqdm\n",
    "import segmentation_models_pytorch as smp\n",
    "from torch.utils.data import Dataset\n",
    "from typing import List\n",
    "from pytorch_toolbelt.inference import (\n",
    "    GeneralizedTTA,\n",
    "    d4_image_augment,\n",
    "    d4_image_deaugment,\n",
    ")\n",
    "from os.path import join as path_join\n",
    "from skimage.filters import sobel, meijering\n",
    "from typing import Optional"
   ]
  },
  {
   "cell_type": "code",
   "execution_count": 2,
   "id": "894f8dcc",
   "metadata": {
    "execution": {
     "iopub.execute_input": "2022-07-05T20:11:22.336457Z",
     "iopub.status.busy": "2022-07-05T20:11:22.333420Z",
     "iopub.status.idle": "2022-07-05T20:11:27.079801Z",
     "shell.execute_reply": "2022-07-05T20:11:27.079131Z",
     "shell.execute_reply.started": "2022-07-05T20:06:25.020784Z"
    },
    "papermill": {
     "duration": 4.760445,
     "end_time": "2022-07-05T20:11:27.079943",
     "exception": false,
     "start_time": "2022-07-05T20:11:22.319498",
     "status": "completed"
    },
    "tags": []
   },
   "outputs": [
    {
     "name": "stdout",
     "output_type": "stream",
     "text": [
      "Found existing installation: pytorch-lightning 1.5.10\r\n",
      "Uninstalling pytorch-lightning-1.5.10:\r\n",
      "  Successfully uninstalled pytorch-lightning-1.5.10\r\n",
      "\u001b[33mWARNING: Running pip as the 'root' user can result in broken permissions and conflicting behaviour with the system package manager. It is recommended to use a virtual environment instead: https://pip.pypa.io/warnings/venv\u001b[0m\r\n"
     ]
    }
   ],
   "source": [
    "!pip uninstall -y pytorch_lightning\n",
    "sys.path.append('../input/lightning-163/pytorch_lightning/')\n",
    "sys.path.append('../input/lightning-163/')\n",
    "import pytorch_lightning as pl"
   ]
  },
  {
   "cell_type": "code",
   "execution_count": 3,
   "id": "b5a234fc",
   "metadata": {
    "execution": {
     "iopub.execute_input": "2022-07-05T20:11:27.110453Z",
     "iopub.status.busy": "2022-07-05T20:11:27.109782Z",
     "iopub.status.idle": "2022-07-05T20:11:27.612937Z",
     "shell.execute_reply": "2022-07-05T20:11:27.612453Z",
     "shell.execute_reply.started": "2022-07-05T20:06:26.563423Z"
    },
    "papermill": {
     "duration": 0.520668,
     "end_time": "2022-07-05T20:11:27.613072",
     "exception": false,
     "start_time": "2022-07-05T20:11:27.092404",
     "status": "completed"
    },
    "tags": []
   },
   "outputs": [
    {
     "name": "stdout",
     "output_type": "stream",
     "text": [
      "Using part of train data as example\n"
     ]
    },
    {
     "data": {
      "text/html": [
       "<div>\n",
       "<style scoped>\n",
       "    .dataframe tbody tr th:only-of-type {\n",
       "        vertical-align: middle;\n",
       "    }\n",
       "\n",
       "    .dataframe tbody tr th {\n",
       "        vertical-align: top;\n",
       "    }\n",
       "\n",
       "    .dataframe thead th {\n",
       "        text-align: right;\n",
       "    }\n",
       "</style>\n",
       "<table border=\"1\" class=\"dataframe\">\n",
       "  <thead>\n",
       "    <tr style=\"text-align: right;\">\n",
       "      <th></th>\n",
       "      <th>id</th>\n",
       "      <th>class</th>\n",
       "      <th>predicted</th>\n",
       "    </tr>\n",
       "  </thead>\n",
       "  <tbody>\n",
       "    <tr>\n",
       "      <th>0</th>\n",
       "      <td>case123_day20_slice_0001</td>\n",
       "      <td>large_bowel</td>\n",
       "      <td></td>\n",
       "    </tr>\n",
       "    <tr>\n",
       "      <th>1</th>\n",
       "      <td>case123_day20_slice_0001</td>\n",
       "      <td>small_bowel</td>\n",
       "      <td></td>\n",
       "    </tr>\n",
       "    <tr>\n",
       "      <th>2</th>\n",
       "      <td>case123_day20_slice_0001</td>\n",
       "      <td>stomach</td>\n",
       "      <td></td>\n",
       "    </tr>\n",
       "    <tr>\n",
       "      <th>3</th>\n",
       "      <td>case123_day20_slice_0002</td>\n",
       "      <td>large_bowel</td>\n",
       "      <td></td>\n",
       "    </tr>\n",
       "    <tr>\n",
       "      <th>4</th>\n",
       "      <td>case123_day20_slice_0002</td>\n",
       "      <td>small_bowel</td>\n",
       "      <td></td>\n",
       "    </tr>\n",
       "  </tbody>\n",
       "</table>\n",
       "</div>"
      ],
      "text/plain": [
       "                         id        class predicted\n",
       "0  case123_day20_slice_0001  large_bowel          \n",
       "1  case123_day20_slice_0001  small_bowel          \n",
       "2  case123_day20_slice_0001      stomach          \n",
       "3  case123_day20_slice_0002  large_bowel          \n",
       "4  case123_day20_slice_0002  small_bowel          "
      ]
     },
     "execution_count": 3,
     "metadata": {},
     "output_type": "execute_result"
    }
   ],
   "source": [
    "df = pd.read_csv(\"../input/uw-madison-gi-tract-image-segmentation/sample_submission.csv\")\n",
    "DEBUG = False\n",
    "if df.shape[0] == 0:\n",
    "    print('Using part of train data as example')\n",
    "    DEBUG = True\n",
    "if DEBUG == True:\n",
    "    df = pd.read_csv(\"../input/uw-madison-gi-tract-image-segmentation/train.csv\")\n",
    "    df.pop('segmentation')\n",
    "    df['predicted'] = \"\"\n",
    "df.head()"
   ]
  },
  {
   "cell_type": "code",
   "execution_count": 4,
   "id": "378859a2",
   "metadata": {
    "execution": {
     "iopub.execute_input": "2022-07-05T20:11:27.662611Z",
     "iopub.status.busy": "2022-07-05T20:11:27.661636Z",
     "iopub.status.idle": "2022-07-05T20:11:36.379085Z",
     "shell.execute_reply": "2022-07-05T20:11:36.379776Z",
     "shell.execute_reply.started": "2022-07-05T20:06:26.848761Z"
    },
    "papermill": {
     "duration": 8.752257,
     "end_time": "2022-07-05T20:11:36.380001",
     "exception": false,
     "start_time": "2022-07-05T20:11:27.627744",
     "status": "completed"
    },
    "tags": []
   },
   "outputs": [
    {
     "name": "stdout",
     "output_type": "stream",
     "text": [
      "(38496, 12)\n",
      "(144, 12)\n"
     ]
    }
   ],
   "source": [
    "df[\"case_id_str\"] = df[\"id\"].apply(lambda x: x.split(\"_\", 2)[0])\n",
    "df[\"case_id\"] = df[\"id\"].apply(lambda x: int(x.split(\"_\", 2)[0].replace(\"case\", \"\")))\n",
    "\n",
    "# 2. Get Day as a column\n",
    "df[\"day_num_str\"] = df[\"id\"].apply(lambda x: x.split(\"_\", 2)[1])\n",
    "df[\"day_num\"] = df[\"id\"].apply(lambda x: int(x.split(\"_\", 2)[1].replace(\"day\", \"\")))\n",
    "\n",
    "# 3. Get Slice Identifier as a column\n",
    "df[\"slice_id\"] = df[\"id\"].apply(lambda x: x.split(\"_\", 2)[2])\n",
    "\n",
    "if DEBUG:\n",
    "    TRAIN_DIR = '../input/uw-madison-gi-tract-image-segmentation/train'\n",
    "else:\n",
    "    TRAIN_DIR = '../input/uw-madison-gi-tract-image-segmentation/test'\n",
    "# Get all training images\n",
    "all_train_images = glob(os.path.join(TRAIN_DIR, \"**\", \"*.png\"), recursive=True)\n",
    "\"\"\n",
    "p = []\n",
    "x = all_train_images[0].rsplit(\"/\", 4)[0]\n",
    "for i in range(0, df.shape[0]):\n",
    "    p.append(os.path.join(x, df[\"case_id_str\"].values[i], df[\"case_id_str\"].values[i]+\"_\"+df[\"day_num_str\"].values[i], \"scans\", df[\"slice_id\"].values[i]))\n",
    "df[\"_partial_ident\"] = p\n",
    "\n",
    "p = []\n",
    "for i in range(0, len(all_train_images)):\n",
    "    p.append(str(all_train_images[i].rsplit(\"_\",4)[0]))\n",
    "    \n",
    "_tmp_merge_df = pd.DataFrame()\n",
    "_tmp_merge_df['_partial_ident'] = p\n",
    "_tmp_merge_df['f_path'] = all_train_images\n",
    "\n",
    "\n",
    "df = df.merge(_tmp_merge_df, on=\"_partial_ident\").drop(columns=[\"_partial_ident\"])\n",
    "\n",
    "# 5. Get slice dimensions from filepath (int in pixels)\n",
    "df[\"slice_h\"] = df[\"f_path\"].apply(lambda x: int(x[:-4].rsplit(\"_\",4)[1]))\n",
    "df[\"slice_w\"] = df[\"f_path\"].apply(lambda x: int(x[:-4].rsplit(\"_\",4)[2]))\n",
    "\n",
    "# 6. Pixel spacing from filepath (float in mm)\n",
    "df[\"px_spacing_h\"] = df[\"f_path\"].apply(lambda x: float(x[:-4].rsplit(\"_\",4)[3]))\n",
    "df[\"px_spacing_w\"] = df[\"f_path\"].apply(lambda x: float(x[:-4].rsplit(\"_\",4)[4]))\n",
    "\n",
    "df1 = df[df.index % 3 == 0]\n",
    "df2 = df[df.index % 3 == 1]\n",
    "df3 = df[df.index % 3 == 2]\n",
    "df = df1.copy()\n",
    "df.pop('class')\n",
    "gc.collect()\n",
    "\n",
    "del x, df1, df2, df3, _tmp_merge_df\n",
    "gc.collect()\n",
    "df = df.reset_index(drop=True)\n",
    "\n",
    "print (df.shape)\n",
    "if DEBUG:\n",
    "    df = df.loc[(df['case_id_str'] == df['case_id_str'].values[0]) & (df['day_num'] == df['day_num'].values[0])].reset_index(drop=True)\n",
    "print (df.shape)"
   ]
  },
  {
   "cell_type": "code",
   "execution_count": 5,
   "id": "40793aed",
   "metadata": {
    "execution": {
     "iopub.execute_input": "2022-07-05T20:11:36.437300Z",
     "iopub.status.busy": "2022-07-05T20:11:36.436236Z",
     "iopub.status.idle": "2022-07-05T20:11:36.438207Z",
     "shell.execute_reply": "2022-07-05T20:11:36.438618Z",
     "shell.execute_reply.started": "2022-07-05T20:09:50.267990Z"
    },
    "papermill": {
     "duration": 0.044374,
     "end_time": "2022-07-05T20:11:36.438769",
     "exception": false,
     "start_time": "2022-07-05T20:11:36.394395",
     "status": "completed"
    },
    "tags": []
   },
   "outputs": [],
   "source": [
    "def rle_encode(img):\n",
    "    \"\"\"\n",
    "    img: numpy array, 1 - mask, 0 - background\n",
    "    Returns run length as string formated\n",
    "\n",
    "    ref: https://www.kaggle.com/stainsby/fast-tested-rle\n",
    "    \"\"\"\n",
    "    pixels = img.flatten()\n",
    "    pixels = np.concatenate([[0], pixels, [0]])\n",
    "    runs = np.where(pixels[1:] != pixels[:-1])[0] + 1\n",
    "    runs[1::2] -= runs[::2]\n",
    "    return \" \".join(str(x) for x in runs)\n",
    "\n",
    "PREDICTION_CLASSES = [\"large_bowel\", \"small_bowel\", \"stomach\"]\n",
    "\n",
    "\n",
    "class SimpleInferencer(object):\n",
    "    def __init__(\n",
    "        self, models: List[nn.Module], threshold: float = 0.5, tta: bool = False\n",
    "    ):\n",
    "        self.models = models if not tta else self.make_tta_models(models)\n",
    "        self.threshold = threshold\n",
    "        self.tta = tta\n",
    "\n",
    "    def make_tta_models(self, models):\n",
    "        return [\n",
    "            GeneralizedTTA(\n",
    "                model, augment_fn=d4_image_augment, deaugment_fn=d4_image_deaugment\n",
    "            )\n",
    "            for model in models\n",
    "        ]\n",
    "\n",
    "    def infer_on_dataset(self, test_dataset: Dataset) -> pd.DataFrame:\n",
    "        ids = []\n",
    "        classes = []\n",
    "        rles = []\n",
    "        for idx in tqdm(range(len(test_dataset))):\n",
    "            with torch.no_grad():\n",
    "                # inference per individual image\n",
    "                image = test_dataset[idx][\"image\"][None, ...].cuda()\n",
    "                output = [model(image) for model in self.models]\n",
    "                output = torch.stack(output)\n",
    "                output = output.mean(dim=0)\n",
    "                output = torch.nn.Sigmoid()(output).cpu().numpy()\n",
    "            output = (output >= self.threshold).astype(\"uint8\")\n",
    "            \n",
    "            root_shape = (\n",
    "                test_dataset.data.iloc[idx][\"slice_h\"],\n",
    "                test_dataset.data.iloc[idx][\"slice_w\"],\n",
    "            )\n",
    "            # output = output[0, :, :root_shape[0], :root_shape[1]]\n",
    "            output = output[0, :, :root_shape[1], :root_shape[0]]\n",
    "            encoded_masks = []\n",
    "            for cls_idx in range(len(PREDICTION_CLASSES)):\n",
    "                pred_arr = output[cls_idx]\n",
    "                rle_str = rle_encode(pred_arr)\n",
    "                encoded_masks.append(rle_str)\n",
    "            ids.extend([test_dataset.data.iloc[idx][\"id\"]] * 3)\n",
    "            classes.extend(PREDICTION_CLASSES)\n",
    "            rles.extend(encoded_masks)\n",
    "\n",
    "        df = pd.DataFrame()\n",
    "        df[\"id\"] = ids\n",
    "        df[\"class\"] = classes\n",
    "        df[\"predicted\"] = rles\n",
    "        return df\n",
    "    \n",
    "class GITractDatasetTest(Dataset):\n",
    "    def __init__(\n",
    "        self, \n",
    "        data, \n",
    "        transform=A.Compose([A.Resize(256, 256)]),\n",
    "        apply_filters: bool = False,\n",
    "        use_pseudo_3d: bool = False,\n",
    "        channels: Optional[int] = None,\n",
    "        stride: Optional[int] = None,\n",
    "    ):\n",
    "        self.data = data\n",
    "        self.image_path = data[\"f_path\"]\n",
    "        self.transform = transform\n",
    "        self.apply_filters = apply_filters\n",
    "        self.use_pseudo_3d = use_pseudo_3d\n",
    "        self.channels = channels\n",
    "        self.stride = stride\n",
    "        if self.use_pseudo_3d:\n",
    "            for i in range(self.channels):\n",
    "                self.data[f\"image_path_{i:02}\"] = (\n",
    "                    self.data.groupby([\"case_id\", \"day_num\"])[\"f_path\"]\n",
    "                    .shift(-i * self.stride)\n",
    "                    .fillna(method=\"ffill\")\n",
    "                )\n",
    "            self.data[\"image_paths\"] = self.data[\n",
    "                [f\"image_path_{i:02d}\" for i in range(self.channels)]\n",
    "            ].values.tolist()\n",
    "            self.data = self.data.drop(\n",
    "                columns=[f\"image_path_{i:02d}\" for i in range(self.channels)]\n",
    "            )\n",
    "\n",
    "    def __len__(self):\n",
    "        return len(self.data)\n",
    "\n",
    "    def _load_image(self, path):\n",
    "        img = cv2.imread(path, cv2.IMREAD_UNCHANGED)\n",
    "        img = img.astype(\"float32\")  # original is uint16\n",
    "        min_val = img.min()\n",
    "        max_val = img.max()\n",
    "        img = img / img.max()  # scale image to [0, 1]\n",
    "        if self.apply_filters:\n",
    "            img_sobel = sobel(img)\n",
    "            img_meijering = meijering(img)\n",
    "            img = np.stack([img, img_sobel, img_meijering], -1)\n",
    "        else:\n",
    "            img = np.expand_dims(img, -1)\n",
    "        return img\n",
    "\n",
    "    \n",
    "    def _load_images(self, paths):\n",
    "        img = [\n",
    "            self._load_image(path) for path in paths\n",
    "        ]\n",
    "        img = np.concatenate(img, -1)\n",
    "        return img\n",
    "    \n",
    "    \n",
    "    def __getitem__(self, idx):\n",
    "        if self.use_pseudo_3d:\n",
    "            image_paths = self.data.image_paths.values[idx]\n",
    "            image = self._load_images(image_paths)\n",
    "        else:\n",
    "            image_path = self.data.f_path.values[idx]\n",
    "            image = self._load_image(image_path)\n",
    "        augmented = self.transform(image=image)\n",
    "        image = augmented[\"image\"]\n",
    "        image = image.transpose(2, 0, 1)\n",
    "        image = np.ascontiguousarray(image)\n",
    "        return {\"image\": torch.tensor(image, dtype=torch.float)}"
   ]
  },
  {
   "cell_type": "code",
   "execution_count": 6,
   "id": "cf7767fa",
   "metadata": {
    "execution": {
     "iopub.execute_input": "2022-07-05T20:11:36.470089Z",
     "iopub.status.busy": "2022-07-05T20:11:36.469555Z",
     "iopub.status.idle": "2022-07-05T20:11:45.071633Z",
     "shell.execute_reply": "2022-07-05T20:11:45.070692Z",
     "shell.execute_reply.started": "2022-07-05T20:09:50.401780Z"
    },
    "papermill": {
     "duration": 8.619883,
     "end_time": "2022-07-05T20:11:45.071783",
     "exception": false,
     "start_time": "2022-07-05T20:11:36.451900",
     "status": "completed"
    },
    "tags": []
   },
   "outputs": [],
   "source": [
    "models = []\n",
    "for fold_idx in range(4):\n",
    "    model = torch.load(f'../input/gi-tract-models/steroids_v1_fold{fold_idx}.pt', map_location='cpu')\n",
    "    model.eval()\n",
    "    model.cuda();\n",
    "    models.append(model)"
   ]
  },
  {
   "cell_type": "code",
   "execution_count": 7,
   "id": "e53f71e7",
   "metadata": {
    "execution": {
     "iopub.execute_input": "2022-07-05T20:11:45.115548Z",
     "iopub.status.busy": "2022-07-05T20:11:45.111398Z",
     "iopub.status.idle": "2022-07-05T20:11:45.117971Z",
     "shell.execute_reply": "2022-07-05T20:11:45.117522Z",
     "shell.execute_reply.started": "2022-07-05T20:09:51.094155Z"
    },
    "papermill": {
     "duration": 0.032949,
     "end_time": "2022-07-05T20:11:45.118094",
     "exception": false,
     "start_time": "2022-07-05T20:11:45.085145",
     "status": "completed"
    },
    "tags": []
   },
   "outputs": [],
   "source": [
    "test_set = GITractDatasetTest(\n",
    "    df.reset_index(drop=True),\n",
    "    use_pseudo_3d=True, \n",
    "    channels=3,\n",
    "    stride=2,\n",
    "    transform=A.Compose([A.PadIfNeeded(320, 384, border_mode=cv2.BORDER_CONSTANT, value=0, mask_value=0, position=\"top_left\")])\n",
    ")\n",
    "inferencer = SimpleInferencer(models, 0.5, tta=False)"
   ]
  },
  {
   "cell_type": "code",
   "execution_count": 8,
   "id": "04fba74d",
   "metadata": {
    "execution": {
     "iopub.execute_input": "2022-07-05T20:11:45.147543Z",
     "iopub.status.busy": "2022-07-05T20:11:45.146879Z",
     "iopub.status.idle": "2022-07-05T20:12:02.823298Z",
     "shell.execute_reply": "2022-07-05T20:12:02.823702Z",
     "shell.execute_reply.started": "2022-07-05T20:09:51.112421Z"
    },
    "papermill": {
     "duration": 17.692998,
     "end_time": "2022-07-05T20:12:02.823843",
     "exception": false,
     "start_time": "2022-07-05T20:11:45.130845",
     "status": "completed"
    },
    "tags": []
   },
   "outputs": [
    {
     "name": "stderr",
     "output_type": "stream",
     "text": [
      "100%|██████████| 144/144 [00:17<00:00,  8.15it/s]\n"
     ]
    },
    {
     "data": {
      "text/html": [
       "<div>\n",
       "<style scoped>\n",
       "    .dataframe tbody tr th:only-of-type {\n",
       "        vertical-align: middle;\n",
       "    }\n",
       "\n",
       "    .dataframe tbody tr th {\n",
       "        vertical-align: top;\n",
       "    }\n",
       "\n",
       "    .dataframe thead th {\n",
       "        text-align: right;\n",
       "    }\n",
       "</style>\n",
       "<table border=\"1\" class=\"dataframe\">\n",
       "  <thead>\n",
       "    <tr style=\"text-align: right;\">\n",
       "      <th></th>\n",
       "      <th>id</th>\n",
       "      <th>class</th>\n",
       "      <th>predicted</th>\n",
       "    </tr>\n",
       "  </thead>\n",
       "  <tbody>\n",
       "    <tr>\n",
       "      <th>0</th>\n",
       "      <td>case123_day20_slice_0001</td>\n",
       "      <td>large_bowel</td>\n",
       "      <td></td>\n",
       "    </tr>\n",
       "    <tr>\n",
       "      <th>1</th>\n",
       "      <td>case123_day20_slice_0001</td>\n",
       "      <td>small_bowel</td>\n",
       "      <td></td>\n",
       "    </tr>\n",
       "    <tr>\n",
       "      <th>2</th>\n",
       "      <td>case123_day20_slice_0001</td>\n",
       "      <td>stomach</td>\n",
       "      <td></td>\n",
       "    </tr>\n",
       "    <tr>\n",
       "      <th>3</th>\n",
       "      <td>case123_day20_slice_0002</td>\n",
       "      <td>large_bowel</td>\n",
       "      <td></td>\n",
       "    </tr>\n",
       "    <tr>\n",
       "      <th>4</th>\n",
       "      <td>case123_day20_slice_0002</td>\n",
       "      <td>small_bowel</td>\n",
       "      <td></td>\n",
       "    </tr>\n",
       "  </tbody>\n",
       "</table>\n",
       "</div>"
      ],
      "text/plain": [
       "                         id        class predicted\n",
       "0  case123_day20_slice_0001  large_bowel          \n",
       "1  case123_day20_slice_0001  small_bowel          \n",
       "2  case123_day20_slice_0001      stomach          \n",
       "3  case123_day20_slice_0002  large_bowel          \n",
       "4  case123_day20_slice_0002  small_bowel          "
      ]
     },
     "execution_count": 8,
     "metadata": {},
     "output_type": "execute_result"
    }
   ],
   "source": [
    "pred_df = inferencer.infer_on_dataset(test_set)\n",
    "pred_df.head()"
   ]
  },
  {
   "cell_type": "code",
   "execution_count": 9,
   "id": "1480d0b8",
   "metadata": {
    "execution": {
     "iopub.execute_input": "2022-07-05T20:12:02.909345Z",
     "iopub.status.busy": "2022-07-05T20:12:02.908383Z",
     "iopub.status.idle": "2022-07-05T20:12:02.911921Z",
     "shell.execute_reply": "2022-07-05T20:12:02.912374Z",
     "shell.execute_reply.started": "2022-07-05T20:10:01.801871Z"
    },
    "papermill": {
     "duration": 0.052058,
     "end_time": "2022-07-05T20:12:02.912518",
     "exception": false,
     "start_time": "2022-07-05T20:12:02.860460",
     "status": "completed"
    },
    "tags": []
   },
   "outputs": [
    {
     "data": {
      "text/html": [
       "<div>\n",
       "<style scoped>\n",
       "    .dataframe tbody tr th:only-of-type {\n",
       "        vertical-align: middle;\n",
       "    }\n",
       "\n",
       "    .dataframe tbody tr th {\n",
       "        vertical-align: top;\n",
       "    }\n",
       "\n",
       "    .dataframe thead th {\n",
       "        text-align: right;\n",
       "    }\n",
       "</style>\n",
       "<table border=\"1\" class=\"dataframe\">\n",
       "  <thead>\n",
       "    <tr style=\"text-align: right;\">\n",
       "      <th></th>\n",
       "      <th>id</th>\n",
       "      <th>class</th>\n",
       "      <th>predicted</th>\n",
       "    </tr>\n",
       "  </thead>\n",
       "  <tbody>\n",
       "    <tr>\n",
       "      <th>194</th>\n",
       "      <td>case123_day20_slice_0065</td>\n",
       "      <td>stomach</td>\n",
       "      <td>28624 3 28889 6 29154 8 29420 8 29686 9 29951 ...</td>\n",
       "    </tr>\n",
       "    <tr>\n",
       "      <th>197</th>\n",
       "      <td>case123_day20_slice_0066</td>\n",
       "      <td>stomach</td>\n",
       "      <td>27293 7 27558 9 27823 11 28088 13 28353 15 286...</td>\n",
       "    </tr>\n",
       "    <tr>\n",
       "      <th>200</th>\n",
       "      <td>case123_day20_slice_0067</td>\n",
       "      <td>stomach</td>\n",
       "      <td>15588 6 15853 8 16119 8 16384 10 16650 10 1691...</td>\n",
       "    </tr>\n",
       "    <tr>\n",
       "      <th>203</th>\n",
       "      <td>case123_day20_slice_0068</td>\n",
       "      <td>stomach</td>\n",
       "      <td>14789 7 15054 9 15319 12 15584 13 15850 14 161...</td>\n",
       "    </tr>\n",
       "    <tr>\n",
       "      <th>206</th>\n",
       "      <td>case123_day20_slice_0069</td>\n",
       "      <td>stomach</td>\n",
       "      <td>14259 3 14522 9 14787 12 15052 14 15318 15 155...</td>\n",
       "    </tr>\n",
       "  </tbody>\n",
       "</table>\n",
       "</div>"
      ],
      "text/plain": [
       "                           id    class  \\\n",
       "194  case123_day20_slice_0065  stomach   \n",
       "197  case123_day20_slice_0066  stomach   \n",
       "200  case123_day20_slice_0067  stomach   \n",
       "203  case123_day20_slice_0068  stomach   \n",
       "206  case123_day20_slice_0069  stomach   \n",
       "\n",
       "                                             predicted  \n",
       "194  28624 3 28889 6 29154 8 29420 8 29686 9 29951 ...  \n",
       "197  27293 7 27558 9 27823 11 28088 13 28353 15 286...  \n",
       "200  15588 6 15853 8 16119 8 16384 10 16650 10 1691...  \n",
       "203  14789 7 15054 9 15319 12 15584 13 15850 14 161...  \n",
       "206  14259 3 14522 9 14787 12 15052 14 15318 15 155...  "
      ]
     },
     "execution_count": 9,
     "metadata": {},
     "output_type": "execute_result"
    }
   ],
   "source": [
    "pred_df.loc[pred_df['predicted']!='', :].head()"
   ]
  },
  {
   "cell_type": "code",
   "execution_count": 10,
   "id": "5e152231",
   "metadata": {
    "execution": {
     "iopub.execute_input": "2022-07-05T20:12:02.993746Z",
     "iopub.status.busy": "2022-07-05T20:12:02.992834Z",
     "iopub.status.idle": "2022-07-05T20:12:03.002045Z",
     "shell.execute_reply": "2022-07-05T20:12:03.001459Z",
     "shell.execute_reply.started": "2022-07-05T20:10:01.817346Z"
    },
    "papermill": {
     "duration": 0.052399,
     "end_time": "2022-07-05T20:12:03.002186",
     "exception": false,
     "start_time": "2022-07-05T20:12:02.949787",
     "status": "completed"
    },
    "tags": []
   },
   "outputs": [],
   "source": [
    "pred_df.to_csv(\"submission.csv\", index=False)"
   ]
  },
  {
   "cell_type": "code",
   "execution_count": null,
   "id": "5b32c6a5",
   "metadata": {
    "papermill": {
     "duration": 0.037762,
     "end_time": "2022-07-05T20:12:03.077637",
     "exception": false,
     "start_time": "2022-07-05T20:12:03.039875",
     "status": "completed"
    },
    "tags": []
   },
   "outputs": [],
   "source": []
  }
 ],
 "metadata": {
  "kernelspec": {
   "display_name": "Python 3",
   "language": "python",
   "name": "python3"
  },
  "language_info": {
   "codemirror_mode": {
    "name": "ipython",
    "version": 3
   },
   "file_extension": ".py",
   "mimetype": "text/x-python",
   "name": "python",
   "nbconvert_exporter": "python",
   "pygments_lexer": "ipython3",
   "version": "3.7.12"
  },
  "papermill": {
   "default_parameters": {},
   "duration": 60.443303,
   "end_time": "2022-07-05T20:12:05.640371",
   "environment_variables": {},
   "exception": null,
   "input_path": "__notebook__.ipynb",
   "output_path": "__notebook__.ipynb",
   "parameters": {},
   "start_time": "2022-07-05T20:11:05.197068",
   "version": "2.3.3"
  }
 },
 "nbformat": 4,
 "nbformat_minor": 5
}
