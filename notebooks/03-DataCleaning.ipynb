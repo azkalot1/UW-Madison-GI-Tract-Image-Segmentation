{
 "cells": [
  {
   "cell_type": "markdown",
   "id": "27b9be4d-17ee-4431-8bdb-e3cd6079478a",
   "metadata": {},
   "source": [
    "# 03-AdditionalLayers  \n",
    "Can we extract additional features from the image? "
   ]
  },
  {
   "cell_type": "code",
   "execution_count": 1,
   "id": "8cce0735-8c5b-4435-b45f-0724105c3e85",
   "metadata": {
    "execution": {
     "iopub.execute_input": "2022-05-08T19:47:02.524942Z",
     "iopub.status.busy": "2022-05-08T19:47:02.524183Z",
     "iopub.status.idle": "2022-05-08T19:47:11.023726Z",
     "shell.execute_reply": "2022-05-08T19:47:11.019401Z",
     "shell.execute_reply.started": "2022-05-08T19:47:02.524823Z"
    },
    "tags": []
   },
   "outputs": [],
   "source": [
    "%load_ext autoreload\n",
    "%autoreload 2\n",
    "\n",
    "import gi_tract_seg as gt\n",
    "from gi_tract_seg.models.module import GITractSegmentatonLitModule\n",
    "import torch\n",
    "import segmentation_models_pytorch as smp\n",
    "import matplotlib.pyplot as plt\n",
    "import numpy as np\n",
    "from tqdm.auto import tqdm\n",
    "import matplotlib.pyplot as plt\n",
    "import pandas as pd\n",
    "import cv2\n",
    "import seaborn as sns"
   ]
  },
  {
   "cell_type": "code",
   "execution_count": 144,
   "id": "7bd2b4ce-e78c-4740-8fc2-ae57de1fa18a",
   "metadata": {
    "execution": {
     "iopub.execute_input": "2022-05-08T21:43:19.760283Z",
     "iopub.status.busy": "2022-05-08T21:43:19.759965Z",
     "iopub.status.idle": "2022-05-08T21:43:19.804296Z",
     "shell.execute_reply": "2022-05-08T21:43:19.803328Z",
     "shell.execute_reply.started": "2022-05-08T21:43:19.760253Z"
    },
    "tags": []
   },
   "outputs": [],
   "source": [
    "def plot_sus_pairs(case_day_data, case, day, idx, save):\n",
    "    data = datamodule.train_dataset[case_day_data.index.values[idx]]\n",
    "    mask = data['mask'].numpy().transpose(1,2,0)\n",
    "    image = np.tile(data['image'].numpy().transpose(1,2,0).astype(np.float32), 3)\n",
    "    data = datamodule.train_dataset[case_day_data.index.values[idx+1]]\n",
    "    mask_next = data['mask'].numpy().transpose(1,2,0)\n",
    "    image_next = np.tile(data['image'].numpy().transpose(1,2,0).astype(np.float32), 3)\n",
    "    image_dif = image[..., 0] - image_next[..., 0]\n",
    "    image = cv2.addWeighted(\n",
    "        src1=image, \n",
    "        alpha=0.999, \n",
    "        src2=mask, \n",
    "        beta=0.35, \n",
    "        gamma=0\n",
    "    )\n",
    "    image_next = cv2.addWeighted(\n",
    "        src1=image_next, \n",
    "        alpha=0.999, \n",
    "        src2=mask_next, \n",
    "        beta=0.35, \n",
    "        gamma=0\n",
    "    )    \n",
    "    f, ax = plt.subplots(1, 3, figsize=(15, 5))\n",
    "    ax[0].imshow(image)\n",
    "    ax[1].imshow(image_next)\n",
    "    ax[2].imshow(image_dif, cmap='coolwarm')\n",
    "    plt.tick_params()\n",
    "    if save:\n",
    "        f.savefig(f'images/sus_annotation//{case}_{day}_{idx}.jpg')\n",
    "    plt.close()"
   ]
  },
  {
   "cell_type": "code",
   "execution_count": 2,
   "id": "74aac920-3dbf-40a9-9bf2-3bf2aeb71f01",
   "metadata": {
    "execution": {
     "iopub.execute_input": "2022-05-08T19:47:12.687891Z",
     "iopub.status.busy": "2022-05-08T19:47:12.687366Z",
     "iopub.status.idle": "2022-05-08T19:47:13.565770Z",
     "shell.execute_reply": "2022-05-08T19:47:13.564592Z",
     "shell.execute_reply.started": "2022-05-08T19:47:12.687849Z"
    },
    "tags": []
   },
   "outputs": [],
   "source": [
    "datamodule = gt.data.datamodule.GITractDataModule(\n",
    "    '../data/processed/train_df_agg.parquet', \n",
    "    '../data/raw/train/', \n",
    "    '../data/processed/masks/', \n",
    "    val_fold=0,\n",
    "    batch_size=128,\n",
    "    num_workers=2,\n",
    "    shuffle_train=False\n",
    ")\n",
    "datamodule.prepare_data()\n",
    "datamodule.setup()"
   ]
  },
  {
   "cell_type": "code",
   "execution_count": 24,
   "id": "29c0c38f-d5cc-4e6b-886c-ede2dbaa45b5",
   "metadata": {
    "execution": {
     "iopub.execute_input": "2022-05-08T20:09:59.480219Z",
     "iopub.status.busy": "2022-05-08T20:09:59.479905Z",
     "iopub.status.idle": "2022-05-08T20:09:59.522340Z",
     "shell.execute_reply": "2022-05-08T20:09:59.521493Z",
     "shell.execute_reply.started": "2022-05-08T20:09:59.480191Z"
    },
    "tags": []
   },
   "outputs": [],
   "source": [
    "dice_meter = gt.models.metrics.DiceMeter('multilabel')"
   ]
  },
  {
   "cell_type": "code",
   "execution_count": 106,
   "id": "02911eca-67ab-4f74-a900-9e7af9cbe938",
   "metadata": {
    "execution": {
     "iopub.execute_input": "2022-05-08T21:14:48.540568Z",
     "iopub.status.busy": "2022-05-08T21:14:48.540149Z",
     "iopub.status.idle": "2022-05-08T21:14:48.765516Z",
     "shell.execute_reply": "2022-05-08T21:14:48.764518Z",
     "shell.execute_reply.started": "2022-05-08T21:14:48.540531Z"
    },
    "tags": []
   },
   "outputs": [
    {
     "data": {
      "text/html": [
       "<div>\n",
       "<style scoped>\n",
       "    .dataframe tbody tr th:only-of-type {\n",
       "        vertical-align: middle;\n",
       "    }\n",
       "\n",
       "    .dataframe tbody tr th {\n",
       "        vertical-align: top;\n",
       "    }\n",
       "\n",
       "    .dataframe thead th {\n",
       "        text-align: right;\n",
       "    }\n",
       "</style>\n",
       "<table border=\"1\" class=\"dataframe\">\n",
       "  <thead>\n",
       "    <tr style=\"text-align: right;\">\n",
       "      <th></th>\n",
       "      <th>index</th>\n",
       "      <th>id</th>\n",
       "      <th>case</th>\n",
       "      <th>day</th>\n",
       "      <th>slice</th>\n",
       "      <th>image_path</th>\n",
       "      <th>height</th>\n",
       "      <th>width</th>\n",
       "      <th>classes</th>\n",
       "      <th>segmentation</th>\n",
       "      <th>labels</th>\n",
       "      <th>empty</th>\n",
       "      <th>mask_path</th>\n",
       "      <th>segmentation_sizes</th>\n",
       "      <th>fold</th>\n",
       "    </tr>\n",
       "  </thead>\n",
       "  <tbody>\n",
       "    <tr>\n",
       "      <th>0</th>\n",
       "      <td>0</td>\n",
       "      <td>case123_day20_slice_0001</td>\n",
       "      <td>123</td>\n",
       "      <td>20</td>\n",
       "      <td>1</td>\n",
       "      <td>case123/case123_day20/scans/slice_0001_266_266...</td>\n",
       "      <td>266</td>\n",
       "      <td>266</td>\n",
       "      <td>[large_bowel, small_bowel, stomach]</td>\n",
       "      <td>[None, None, None]</td>\n",
       "      <td>[0, 0, 0]</td>\n",
       "      <td>1</td>\n",
       "      <td>case123/case123_day20/scans/slice_0001_266_266...</td>\n",
       "      <td>[0.0, 0.0, 0.0]</td>\n",
       "      <td>3</td>\n",
       "    </tr>\n",
       "    <tr>\n",
       "      <th>1</th>\n",
       "      <td>1</td>\n",
       "      <td>case123_day20_slice_0002</td>\n",
       "      <td>123</td>\n",
       "      <td>20</td>\n",
       "      <td>2</td>\n",
       "      <td>case123/case123_day20/scans/slice_0002_266_266...</td>\n",
       "      <td>266</td>\n",
       "      <td>266</td>\n",
       "      <td>[large_bowel, small_bowel, stomach]</td>\n",
       "      <td>[None, None, None]</td>\n",
       "      <td>[0, 0, 0]</td>\n",
       "      <td>1</td>\n",
       "      <td>case123/case123_day20/scans/slice_0002_266_266...</td>\n",
       "      <td>[0.0, 0.0, 0.0]</td>\n",
       "      <td>3</td>\n",
       "    </tr>\n",
       "    <tr>\n",
       "      <th>2</th>\n",
       "      <td>2</td>\n",
       "      <td>case123_day20_slice_0003</td>\n",
       "      <td>123</td>\n",
       "      <td>20</td>\n",
       "      <td>3</td>\n",
       "      <td>case123/case123_day20/scans/slice_0003_266_266...</td>\n",
       "      <td>266</td>\n",
       "      <td>266</td>\n",
       "      <td>[large_bowel, small_bowel, stomach]</td>\n",
       "      <td>[None, None, None]</td>\n",
       "      <td>[0, 0, 0]</td>\n",
       "      <td>1</td>\n",
       "      <td>case123/case123_day20/scans/slice_0003_266_266...</td>\n",
       "      <td>[0.0, 0.0, 0.0]</td>\n",
       "      <td>3</td>\n",
       "    </tr>\n",
       "    <tr>\n",
       "      <th>3</th>\n",
       "      <td>3</td>\n",
       "      <td>case123_day20_slice_0004</td>\n",
       "      <td>123</td>\n",
       "      <td>20</td>\n",
       "      <td>4</td>\n",
       "      <td>case123/case123_day20/scans/slice_0004_266_266...</td>\n",
       "      <td>266</td>\n",
       "      <td>266</td>\n",
       "      <td>[large_bowel, small_bowel, stomach]</td>\n",
       "      <td>[None, None, None]</td>\n",
       "      <td>[0, 0, 0]</td>\n",
       "      <td>1</td>\n",
       "      <td>case123/case123_day20/scans/slice_0004_266_266...</td>\n",
       "      <td>[0.0, 0.0, 0.0]</td>\n",
       "      <td>3</td>\n",
       "    </tr>\n",
       "    <tr>\n",
       "      <th>4</th>\n",
       "      <td>4</td>\n",
       "      <td>case123_day20_slice_0005</td>\n",
       "      <td>123</td>\n",
       "      <td>20</td>\n",
       "      <td>5</td>\n",
       "      <td>case123/case123_day20/scans/slice_0005_266_266...</td>\n",
       "      <td>266</td>\n",
       "      <td>266</td>\n",
       "      <td>[large_bowel, small_bowel, stomach]</td>\n",
       "      <td>[None, None, None]</td>\n",
       "      <td>[0, 0, 0]</td>\n",
       "      <td>1</td>\n",
       "      <td>case123/case123_day20/scans/slice_0005_266_266...</td>\n",
       "      <td>[0.0, 0.0, 0.0]</td>\n",
       "      <td>3</td>\n",
       "    </tr>\n",
       "  </tbody>\n",
       "</table>\n",
       "</div>"
      ],
      "text/plain": [
       "   index                        id  case  day  slice  \\\n",
       "0      0  case123_day20_slice_0001   123   20      1   \n",
       "1      1  case123_day20_slice_0002   123   20      2   \n",
       "2      2  case123_day20_slice_0003   123   20      3   \n",
       "3      3  case123_day20_slice_0004   123   20      4   \n",
       "4      4  case123_day20_slice_0005   123   20      5   \n",
       "\n",
       "                                          image_path  height  width  \\\n",
       "0  case123/case123_day20/scans/slice_0001_266_266...     266    266   \n",
       "1  case123/case123_day20/scans/slice_0002_266_266...     266    266   \n",
       "2  case123/case123_day20/scans/slice_0003_266_266...     266    266   \n",
       "3  case123/case123_day20/scans/slice_0004_266_266...     266    266   \n",
       "4  case123/case123_day20/scans/slice_0005_266_266...     266    266   \n",
       "\n",
       "                               classes        segmentation     labels  empty  \\\n",
       "0  [large_bowel, small_bowel, stomach]  [None, None, None]  [0, 0, 0]      1   \n",
       "1  [large_bowel, small_bowel, stomach]  [None, None, None]  [0, 0, 0]      1   \n",
       "2  [large_bowel, small_bowel, stomach]  [None, None, None]  [0, 0, 0]      1   \n",
       "3  [large_bowel, small_bowel, stomach]  [None, None, None]  [0, 0, 0]      1   \n",
       "4  [large_bowel, small_bowel, stomach]  [None, None, None]  [0, 0, 0]      1   \n",
       "\n",
       "                                           mask_path segmentation_sizes  fold  \n",
       "0  case123/case123_day20/scans/slice_0001_266_266...    [0.0, 0.0, 0.0]     3  \n",
       "1  case123/case123_day20/scans/slice_0002_266_266...    [0.0, 0.0, 0.0]     3  \n",
       "2  case123/case123_day20/scans/slice_0003_266_266...    [0.0, 0.0, 0.0]     3  \n",
       "3  case123/case123_day20/scans/slice_0004_266_266...    [0.0, 0.0, 0.0]     3  \n",
       "4  case123/case123_day20/scans/slice_0005_266_266...    [0.0, 0.0, 0.0]     3  "
      ]
     },
     "execution_count": 106,
     "metadata": {},
     "output_type": "execute_result"
    }
   ],
   "source": [
    "train_df = datamodule.train_data.reset_index(drop=False)\n",
    "train_df.head()"
   ]
  },
  {
   "cell_type": "code",
   "execution_count": 140,
   "id": "9bcdd069-db19-4e7e-a6fc-e94793447b46",
   "metadata": {
    "execution": {
     "iopub.execute_input": "2022-05-08T21:37:16.392981Z",
     "iopub.status.busy": "2022-05-08T21:37:16.392658Z",
     "iopub.status.idle": "2022-05-08T21:37:16.776156Z",
     "shell.execute_reply": "2022-05-08T21:37:16.775296Z",
     "shell.execute_reply.started": "2022-05-08T21:37:16.392952Z"
    },
    "tags": []
   },
   "outputs": [],
   "source": [
    "unique_case_days = train_df.apply(lambda x: str(x['case'])+\"_\"+str(x['day']),axis=1).unique()"
   ]
  },
  {
   "cell_type": "code",
   "execution_count": 120,
   "id": "451e6a7a-80da-4ca9-bb35-966a819c53d1",
   "metadata": {
    "execution": {
     "iopub.execute_input": "2022-05-08T21:34:14.777298Z",
     "iopub.status.busy": "2022-05-08T21:34:14.776739Z",
     "iopub.status.idle": "2022-05-08T21:34:14.927995Z",
     "shell.execute_reply": "2022-05-08T21:34:14.926718Z",
     "shell.execute_reply.started": "2022-05-08T21:34:14.777248Z"
    },
    "tags": []
   },
   "outputs": [],
   "source": []
  },
  {
   "cell_type": "code",
   "execution_count": 148,
   "id": "2037d6dc-65d5-442f-b2de-9d66628f57d4",
   "metadata": {
    "execution": {
     "iopub.execute_input": "2022-05-08T21:45:34.393277Z",
     "iopub.status.busy": "2022-05-08T21:45:34.392965Z",
     "iopub.status.idle": "2022-05-08T22:07:58.890052Z",
     "shell.execute_reply": "2022-05-08T22:07:58.889254Z",
     "shell.execute_reply.started": "2022-05-08T21:45:34.393249Z"
    },
    "scrolled": true,
    "tags": []
   },
   "outputs": [
    {
     "data": {
      "application/vnd.jupyter.widget-view+json": {
       "model_id": "36c8cb13c0d04f169de472991e6982e6",
       "version_major": 2,
       "version_minor": 0
      },
      "text/plain": [
       "  0%|          | 0/143 [00:00<?, ?it/s]"
      ]
     },
     "metadata": {},
     "output_type": "display_data"
    },
    {
     "name": "stderr",
     "output_type": "stream",
     "text": [
      "<ipython-input-148-7db04d123dcc>:14: RuntimeWarning: Mean of empty slice\n",
      "  masks_shift = np.nanmean(np.stack(dice_scores), 1)\n"
     ]
    },
    {
     "data": {
      "application/vnd.jupyter.widget-view+json": {
       "model_id": "0285504011de4c8dbc3a079e77269eee",
       "version_major": 2,
       "version_minor": 0
      },
      "text/plain": [
       "  0%|          | 0/143 [00:00<?, ?it/s]"
      ]
     },
     "metadata": {},
     "output_type": "display_data"
    },
    {
     "name": "stderr",
     "output_type": "stream",
     "text": [
      "<ipython-input-148-7db04d123dcc>:14: RuntimeWarning: Mean of empty slice\n",
      "  masks_shift = np.nanmean(np.stack(dice_scores), 1)\n",
      "Clipping input data to the valid range for imshow with RGB data ([0..1] for floats or [0..255] for integers).\n",
      "Clipping input data to the valid range for imshow with RGB data ([0..1] for floats or [0..255] for integers).\n"
     ]
    },
    {
     "data": {
      "application/vnd.jupyter.widget-view+json": {
       "model_id": "7fdbf07d9d3545fdb14e191b1c59a483",
       "version_major": 2,
       "version_minor": 0
      },
      "text/plain": [
       "  0%|          | 0/143 [00:00<?, ?it/s]"
      ]
     },
     "metadata": {},
     "output_type": "display_data"
    },
    {
     "name": "stderr",
     "output_type": "stream",
     "text": [
      "<ipython-input-148-7db04d123dcc>:14: RuntimeWarning: Mean of empty slice\n",
      "  masks_shift = np.nanmean(np.stack(dice_scores), 1)\n"
     ]
    },
    {
     "data": {
      "application/vnd.jupyter.widget-view+json": {
       "model_id": "8d857d9ddc9c4888a6f5bd829bfb90d0",
       "version_major": 2,
       "version_minor": 0
      },
      "text/plain": [
       "  0%|          | 0/143 [00:00<?, ?it/s]"
      ]
     },
     "metadata": {},
     "output_type": "display_data"
    },
    {
     "name": "stderr",
     "output_type": "stream",
     "text": [
      "<ipython-input-148-7db04d123dcc>:14: RuntimeWarning: Mean of empty slice\n",
      "  masks_shift = np.nanmean(np.stack(dice_scores), 1)\n"
     ]
    },
    {
     "data": {
      "application/vnd.jupyter.widget-view+json": {
       "model_id": "d383ad0d188145adb47b4e70dc72191b",
       "version_major": 2,
       "version_minor": 0
      },
      "text/plain": [
       "  0%|          | 0/143 [00:00<?, ?it/s]"
      ]
     },
     "metadata": {},
     "output_type": "display_data"
    },
    {
     "name": "stderr",
     "output_type": "stream",
     "text": [
      "<ipython-input-148-7db04d123dcc>:14: RuntimeWarning: Mean of empty slice\n",
      "  masks_shift = np.nanmean(np.stack(dice_scores), 1)\n"
     ]
    },
    {
     "data": {
      "application/vnd.jupyter.widget-view+json": {
       "model_id": "fc243d7cfed04cd79a7287ac822503d4",
       "version_major": 2,
       "version_minor": 0
      },
      "text/plain": [
       "  0%|          | 0/143 [00:00<?, ?it/s]"
      ]
     },
     "metadata": {},
     "output_type": "display_data"
    },
    {
     "name": "stderr",
     "output_type": "stream",
     "text": [
      "<ipython-input-148-7db04d123dcc>:14: RuntimeWarning: Mean of empty slice\n",
      "  masks_shift = np.nanmean(np.stack(dice_scores), 1)\n"
     ]
    },
    {
     "data": {
      "application/vnd.jupyter.widget-view+json": {
       "model_id": "f914a9d65aee4fc689f96cc8547b9cd6",
       "version_major": 2,
       "version_minor": 0
      },
      "text/plain": [
       "  0%|          | 0/143 [00:00<?, ?it/s]"
      ]
     },
     "metadata": {},
     "output_type": "display_data"
    },
    {
     "name": "stderr",
     "output_type": "stream",
     "text": [
      "<ipython-input-148-7db04d123dcc>:14: RuntimeWarning: Mean of empty slice\n",
      "  masks_shift = np.nanmean(np.stack(dice_scores), 1)\n"
     ]
    },
    {
     "data": {
      "application/vnd.jupyter.widget-view+json": {
       "model_id": "d47a426fceaa4e3c9451347b701fb1de",
       "version_major": 2,
       "version_minor": 0
      },
      "text/plain": [
       "  0%|          | 0/143 [00:00<?, ?it/s]"
      ]
     },
     "metadata": {},
     "output_type": "display_data"
    },
    {
     "name": "stderr",
     "output_type": "stream",
     "text": [
      "<ipython-input-148-7db04d123dcc>:14: RuntimeWarning: Mean of empty slice\n",
      "  masks_shift = np.nanmean(np.stack(dice_scores), 1)\n"
     ]
    },
    {
     "data": {
      "application/vnd.jupyter.widget-view+json": {
       "model_id": "29e42f0123054431ac38b5fb981e69ca",
       "version_major": 2,
       "version_minor": 0
      },
      "text/plain": [
       "  0%|          | 0/143 [00:00<?, ?it/s]"
      ]
     },
     "metadata": {},
     "output_type": "display_data"
    },
    {
     "name": "stderr",
     "output_type": "stream",
     "text": [
      "<ipython-input-148-7db04d123dcc>:14: RuntimeWarning: Mean of empty slice\n",
      "  masks_shift = np.nanmean(np.stack(dice_scores), 1)\n"
     ]
    },
    {
     "data": {
      "application/vnd.jupyter.widget-view+json": {
       "model_id": "33b28275c0ff413c97c5315bc305e73e",
       "version_major": 2,
       "version_minor": 0
      },
      "text/plain": [
       "  0%|          | 0/143 [00:00<?, ?it/s]"
      ]
     },
     "metadata": {},
     "output_type": "display_data"
    },
    {
     "name": "stderr",
     "output_type": "stream",
     "text": [
      "<ipython-input-148-7db04d123dcc>:14: RuntimeWarning: Mean of empty slice\n",
      "  masks_shift = np.nanmean(np.stack(dice_scores), 1)\n"
     ]
    },
    {
     "data": {
      "application/vnd.jupyter.widget-view+json": {
       "model_id": "874e9cae402e4e39a924b89d08a7266e",
       "version_major": 2,
       "version_minor": 0
      },
      "text/plain": [
       "  0%|          | 0/143 [00:00<?, ?it/s]"
      ]
     },
     "metadata": {},
     "output_type": "display_data"
    },
    {
     "name": "stderr",
     "output_type": "stream",
     "text": [
      "<ipython-input-148-7db04d123dcc>:14: RuntimeWarning: Mean of empty slice\n",
      "  masks_shift = np.nanmean(np.stack(dice_scores), 1)\n"
     ]
    },
    {
     "data": {
      "application/vnd.jupyter.widget-view+json": {
       "model_id": "df88b53e6212411d8e287d6cebe6ebc5",
       "version_major": 2,
       "version_minor": 0
      },
      "text/plain": [
       "  0%|          | 0/143 [00:00<?, ?it/s]"
      ]
     },
     "metadata": {},
     "output_type": "display_data"
    },
    {
     "name": "stderr",
     "output_type": "stream",
     "text": [
      "<ipython-input-148-7db04d123dcc>:14: RuntimeWarning: Mean of empty slice\n",
      "  masks_shift = np.nanmean(np.stack(dice_scores), 1)\n",
      "Clipping input data to the valid range for imshow with RGB data ([0..1] for floats or [0..255] for integers).\n"
     ]
    },
    {
     "data": {
      "application/vnd.jupyter.widget-view+json": {
       "model_id": "c9672ce29fe74125ab912c1e73a3d4bc",
       "version_major": 2,
       "version_minor": 0
      },
      "text/plain": [
       "  0%|          | 0/143 [00:00<?, ?it/s]"
      ]
     },
     "metadata": {},
     "output_type": "display_data"
    },
    {
     "name": "stderr",
     "output_type": "stream",
     "text": [
      "<ipython-input-148-7db04d123dcc>:14: RuntimeWarning: Mean of empty slice\n",
      "  masks_shift = np.nanmean(np.stack(dice_scores), 1)\n",
      "Clipping input data to the valid range for imshow with RGB data ([0..1] for floats or [0..255] for integers).\n"
     ]
    },
    {
     "data": {
      "application/vnd.jupyter.widget-view+json": {
       "model_id": "408e086f498644a7b4d32bc9f1e293a6",
       "version_major": 2,
       "version_minor": 0
      },
      "text/plain": [
       "  0%|          | 0/143 [00:00<?, ?it/s]"
      ]
     },
     "metadata": {},
     "output_type": "display_data"
    },
    {
     "name": "stderr",
     "output_type": "stream",
     "text": [
      "<ipython-input-148-7db04d123dcc>:14: RuntimeWarning: Mean of empty slice\n",
      "  masks_shift = np.nanmean(np.stack(dice_scores), 1)\n"
     ]
    },
    {
     "data": {
      "application/vnd.jupyter.widget-view+json": {
       "model_id": "128d5bae68724bf49f37809dc9c83009",
       "version_major": 2,
       "version_minor": 0
      },
      "text/plain": [
       "  0%|          | 0/143 [00:00<?, ?it/s]"
      ]
     },
     "metadata": {},
     "output_type": "display_data"
    },
    {
     "name": "stderr",
     "output_type": "stream",
     "text": [
      "<ipython-input-148-7db04d123dcc>:14: RuntimeWarning: Mean of empty slice\n",
      "  masks_shift = np.nanmean(np.stack(dice_scores), 1)\n"
     ]
    },
    {
     "data": {
      "application/vnd.jupyter.widget-view+json": {
       "model_id": "ded61ff28b54419a9ef5e3fcae36bb56",
       "version_major": 2,
       "version_minor": 0
      },
      "text/plain": [
       "  0%|          | 0/143 [00:00<?, ?it/s]"
      ]
     },
     "metadata": {},
     "output_type": "display_data"
    },
    {
     "name": "stderr",
     "output_type": "stream",
     "text": [
      "<ipython-input-148-7db04d123dcc>:14: RuntimeWarning: Mean of empty slice\n",
      "  masks_shift = np.nanmean(np.stack(dice_scores), 1)\n"
     ]
    },
    {
     "data": {
      "application/vnd.jupyter.widget-view+json": {
       "model_id": "577e142641ba486fa245489572de88ae",
       "version_major": 2,
       "version_minor": 0
      },
      "text/plain": [
       "  0%|          | 0/143 [00:00<?, ?it/s]"
      ]
     },
     "metadata": {},
     "output_type": "display_data"
    },
    {
     "name": "stderr",
     "output_type": "stream",
     "text": [
      "<ipython-input-148-7db04d123dcc>:14: RuntimeWarning: Mean of empty slice\n",
      "  masks_shift = np.nanmean(np.stack(dice_scores), 1)\n"
     ]
    },
    {
     "data": {
      "application/vnd.jupyter.widget-view+json": {
       "model_id": "b61c0364495f44419bf3b99c5794c3c3",
       "version_major": 2,
       "version_minor": 0
      },
      "text/plain": [
       "  0%|          | 0/143 [00:00<?, ?it/s]"
      ]
     },
     "metadata": {},
     "output_type": "display_data"
    },
    {
     "name": "stderr",
     "output_type": "stream",
     "text": [
      "<ipython-input-148-7db04d123dcc>:14: RuntimeWarning: Mean of empty slice\n",
      "  masks_shift = np.nanmean(np.stack(dice_scores), 1)\n",
      "Clipping input data to the valid range for imshow with RGB data ([0..1] for floats or [0..255] for integers).\n"
     ]
    },
    {
     "data": {
      "application/vnd.jupyter.widget-view+json": {
       "model_id": "20d517457dda41a78076f2838894e53a",
       "version_major": 2,
       "version_minor": 0
      },
      "text/plain": [
       "  0%|          | 0/143 [00:00<?, ?it/s]"
      ]
     },
     "metadata": {},
     "output_type": "display_data"
    },
    {
     "name": "stderr",
     "output_type": "stream",
     "text": [
      "<ipython-input-148-7db04d123dcc>:14: RuntimeWarning: Mean of empty slice\n",
      "  masks_shift = np.nanmean(np.stack(dice_scores), 1)\n"
     ]
    },
    {
     "data": {
      "application/vnd.jupyter.widget-view+json": {
       "model_id": "a4bc9e461d8541da84fcc53618ff08d3",
       "version_major": 2,
       "version_minor": 0
      },
      "text/plain": [
       "  0%|          | 0/143 [00:00<?, ?it/s]"
      ]
     },
     "metadata": {},
     "output_type": "display_data"
    },
    {
     "name": "stderr",
     "output_type": "stream",
     "text": [
      "<ipython-input-148-7db04d123dcc>:14: RuntimeWarning: Mean of empty slice\n",
      "  masks_shift = np.nanmean(np.stack(dice_scores), 1)\n"
     ]
    },
    {
     "data": {
      "application/vnd.jupyter.widget-view+json": {
       "model_id": "df169b4147ad42cd8e3a2868c9e186ff",
       "version_major": 2,
       "version_minor": 0
      },
      "text/plain": [
       "  0%|          | 0/143 [00:00<?, ?it/s]"
      ]
     },
     "metadata": {},
     "output_type": "display_data"
    },
    {
     "name": "stderr",
     "output_type": "stream",
     "text": [
      "<ipython-input-148-7db04d123dcc>:14: RuntimeWarning: Mean of empty slice\n",
      "  masks_shift = np.nanmean(np.stack(dice_scores), 1)\n",
      "Clipping input data to the valid range for imshow with RGB data ([0..1] for floats or [0..255] for integers).\n",
      "Clipping input data to the valid range for imshow with RGB data ([0..1] for floats or [0..255] for integers).\n",
      "Clipping input data to the valid range for imshow with RGB data ([0..1] for floats or [0..255] for integers).\n"
     ]
    },
    {
     "data": {
      "application/vnd.jupyter.widget-view+json": {
       "model_id": "26951f978971414fb048cf22208e46d0",
       "version_major": 2,
       "version_minor": 0
      },
      "text/plain": [
       "  0%|          | 0/143 [00:00<?, ?it/s]"
      ]
     },
     "metadata": {},
     "output_type": "display_data"
    },
    {
     "name": "stderr",
     "output_type": "stream",
     "text": [
      "<ipython-input-148-7db04d123dcc>:14: RuntimeWarning: Mean of empty slice\n",
      "  masks_shift = np.nanmean(np.stack(dice_scores), 1)\n"
     ]
    },
    {
     "data": {
      "application/vnd.jupyter.widget-view+json": {
       "model_id": "b77d41c82dd64e38825208e8c01d64d1",
       "version_major": 2,
       "version_minor": 0
      },
      "text/plain": [
       "  0%|          | 0/143 [00:00<?, ?it/s]"
      ]
     },
     "metadata": {},
     "output_type": "display_data"
    },
    {
     "name": "stderr",
     "output_type": "stream",
     "text": [
      "<ipython-input-148-7db04d123dcc>:14: RuntimeWarning: Mean of empty slice\n",
      "  masks_shift = np.nanmean(np.stack(dice_scores), 1)\n"
     ]
    },
    {
     "data": {
      "application/vnd.jupyter.widget-view+json": {
       "model_id": "6281d8d16d584bbba146088e1336ff2a",
       "version_major": 2,
       "version_minor": 0
      },
      "text/plain": [
       "  0%|          | 0/143 [00:00<?, ?it/s]"
      ]
     },
     "metadata": {},
     "output_type": "display_data"
    },
    {
     "name": "stderr",
     "output_type": "stream",
     "text": [
      "<ipython-input-148-7db04d123dcc>:14: RuntimeWarning: Mean of empty slice\n",
      "  masks_shift = np.nanmean(np.stack(dice_scores), 1)\n",
      "Clipping input data to the valid range for imshow with RGB data ([0..1] for floats or [0..255] for integers).\n",
      "Clipping input data to the valid range for imshow with RGB data ([0..1] for floats or [0..255] for integers).\n",
      "Clipping input data to the valid range for imshow with RGB data ([0..1] for floats or [0..255] for integers).\n"
     ]
    },
    {
     "data": {
      "application/vnd.jupyter.widget-view+json": {
       "model_id": "f051e6fb30c64b8692e0de24b35a4462",
       "version_major": 2,
       "version_minor": 0
      },
      "text/plain": [
       "  0%|          | 0/143 [00:00<?, ?it/s]"
      ]
     },
     "metadata": {},
     "output_type": "display_data"
    },
    {
     "name": "stderr",
     "output_type": "stream",
     "text": [
      "<ipython-input-148-7db04d123dcc>:14: RuntimeWarning: Mean of empty slice\n",
      "  masks_shift = np.nanmean(np.stack(dice_scores), 1)\n"
     ]
    },
    {
     "data": {
      "application/vnd.jupyter.widget-view+json": {
       "model_id": "8eda1f10b68c4e5a9111062aac2502ac",
       "version_major": 2,
       "version_minor": 0
      },
      "text/plain": [
       "  0%|          | 0/143 [00:00<?, ?it/s]"
      ]
     },
     "metadata": {},
     "output_type": "display_data"
    },
    {
     "name": "stderr",
     "output_type": "stream",
     "text": [
      "<ipython-input-148-7db04d123dcc>:14: RuntimeWarning: Mean of empty slice\n",
      "  masks_shift = np.nanmean(np.stack(dice_scores), 1)\n",
      "Clipping input data to the valid range for imshow with RGB data ([0..1] for floats or [0..255] for integers).\n"
     ]
    },
    {
     "data": {
      "application/vnd.jupyter.widget-view+json": {
       "model_id": "c798d1d70a954fd2bc171147b1680f3a",
       "version_major": 2,
       "version_minor": 0
      },
      "text/plain": [
       "  0%|          | 0/143 [00:00<?, ?it/s]"
      ]
     },
     "metadata": {},
     "output_type": "display_data"
    },
    {
     "name": "stderr",
     "output_type": "stream",
     "text": [
      "<ipython-input-148-7db04d123dcc>:14: RuntimeWarning: Mean of empty slice\n",
      "  masks_shift = np.nanmean(np.stack(dice_scores), 1)\n",
      "Clipping input data to the valid range for imshow with RGB data ([0..1] for floats or [0..255] for integers).\n"
     ]
    },
    {
     "data": {
      "application/vnd.jupyter.widget-view+json": {
       "model_id": "ff98c83e56d1434daabf9c69dd553603",
       "version_major": 2,
       "version_minor": 0
      },
      "text/plain": [
       "  0%|          | 0/143 [00:00<?, ?it/s]"
      ]
     },
     "metadata": {},
     "output_type": "display_data"
    },
    {
     "name": "stderr",
     "output_type": "stream",
     "text": [
      "<ipython-input-148-7db04d123dcc>:14: RuntimeWarning: Mean of empty slice\n",
      "  masks_shift = np.nanmean(np.stack(dice_scores), 1)\n",
      "Clipping input data to the valid range for imshow with RGB data ([0..1] for floats or [0..255] for integers).\n"
     ]
    },
    {
     "data": {
      "application/vnd.jupyter.widget-view+json": {
       "model_id": "6e2b26d90cfd4dd9885934ab13a18c6e",
       "version_major": 2,
       "version_minor": 0
      },
      "text/plain": [
       "  0%|          | 0/143 [00:00<?, ?it/s]"
      ]
     },
     "metadata": {},
     "output_type": "display_data"
    },
    {
     "name": "stderr",
     "output_type": "stream",
     "text": [
      "<ipython-input-148-7db04d123dcc>:14: RuntimeWarning: Mean of empty slice\n",
      "  masks_shift = np.nanmean(np.stack(dice_scores), 1)\n"
     ]
    },
    {
     "data": {
      "application/vnd.jupyter.widget-view+json": {
       "model_id": "2638759f73414adb82a625eb390a5b98",
       "version_major": 2,
       "version_minor": 0
      },
      "text/plain": [
       "  0%|          | 0/143 [00:00<?, ?it/s]"
      ]
     },
     "metadata": {},
     "output_type": "display_data"
    },
    {
     "name": "stderr",
     "output_type": "stream",
     "text": [
      "<ipython-input-148-7db04d123dcc>:14: RuntimeWarning: Mean of empty slice\n",
      "  masks_shift = np.nanmean(np.stack(dice_scores), 1)\n"
     ]
    },
    {
     "data": {
      "application/vnd.jupyter.widget-view+json": {
       "model_id": "4dacc63610624e49a93edd6ae66e04c3",
       "version_major": 2,
       "version_minor": 0
      },
      "text/plain": [
       "  0%|          | 0/143 [00:00<?, ?it/s]"
      ]
     },
     "metadata": {},
     "output_type": "display_data"
    },
    {
     "name": "stderr",
     "output_type": "stream",
     "text": [
      "<ipython-input-148-7db04d123dcc>:14: RuntimeWarning: Mean of empty slice\n",
      "  masks_shift = np.nanmean(np.stack(dice_scores), 1)\n"
     ]
    },
    {
     "data": {
      "application/vnd.jupyter.widget-view+json": {
       "model_id": "eee98045523542e98239f6c7716a83fe",
       "version_major": 2,
       "version_minor": 0
      },
      "text/plain": [
       "  0%|          | 0/143 [00:00<?, ?it/s]"
      ]
     },
     "metadata": {},
     "output_type": "display_data"
    },
    {
     "name": "stderr",
     "output_type": "stream",
     "text": [
      "<ipython-input-148-7db04d123dcc>:14: RuntimeWarning: Mean of empty slice\n",
      "  masks_shift = np.nanmean(np.stack(dice_scores), 1)\n",
      "Clipping input data to the valid range for imshow with RGB data ([0..1] for floats or [0..255] for integers).\n",
      "Clipping input data to the valid range for imshow with RGB data ([0..1] for floats or [0..255] for integers).\n",
      "Clipping input data to the valid range for imshow with RGB data ([0..1] for floats or [0..255] for integers).\n"
     ]
    },
    {
     "data": {
      "application/vnd.jupyter.widget-view+json": {
       "model_id": "9320c87361384142a7c1dccb2ebc84b8",
       "version_major": 2,
       "version_minor": 0
      },
      "text/plain": [
       "  0%|          | 0/143 [00:00<?, ?it/s]"
      ]
     },
     "metadata": {},
     "output_type": "display_data"
    },
    {
     "name": "stderr",
     "output_type": "stream",
     "text": [
      "<ipython-input-148-7db04d123dcc>:14: RuntimeWarning: Mean of empty slice\n",
      "  masks_shift = np.nanmean(np.stack(dice_scores), 1)\n",
      "Clipping input data to the valid range for imshow with RGB data ([0..1] for floats or [0..255] for integers).\n"
     ]
    },
    {
     "data": {
      "application/vnd.jupyter.widget-view+json": {
       "model_id": "b9c2713be1af43f18b4cf65f7dc4578e",
       "version_major": 2,
       "version_minor": 0
      },
      "text/plain": [
       "  0%|          | 0/143 [00:00<?, ?it/s]"
      ]
     },
     "metadata": {},
     "output_type": "display_data"
    },
    {
     "name": "stderr",
     "output_type": "stream",
     "text": [
      "<ipython-input-148-7db04d123dcc>:14: RuntimeWarning: Mean of empty slice\n",
      "  masks_shift = np.nanmean(np.stack(dice_scores), 1)\n",
      "Clipping input data to the valid range for imshow with RGB data ([0..1] for floats or [0..255] for integers).\n",
      "Clipping input data to the valid range for imshow with RGB data ([0..1] for floats or [0..255] for integers).\n"
     ]
    },
    {
     "data": {
      "application/vnd.jupyter.widget-view+json": {
       "model_id": "42e32763eaf94413bbad310af845be45",
       "version_major": 2,
       "version_minor": 0
      },
      "text/plain": [
       "  0%|          | 0/143 [00:00<?, ?it/s]"
      ]
     },
     "metadata": {},
     "output_type": "display_data"
    },
    {
     "name": "stderr",
     "output_type": "stream",
     "text": [
      "<ipython-input-148-7db04d123dcc>:14: RuntimeWarning: Mean of empty slice\n",
      "  masks_shift = np.nanmean(np.stack(dice_scores), 1)\n",
      "Clipping input data to the valid range for imshow with RGB data ([0..1] for floats or [0..255] for integers).\n"
     ]
    },
    {
     "data": {
      "application/vnd.jupyter.widget-view+json": {
       "model_id": "f964679a19924d5eb7c135699dc5ed74",
       "version_major": 2,
       "version_minor": 0
      },
      "text/plain": [
       "  0%|          | 0/143 [00:00<?, ?it/s]"
      ]
     },
     "metadata": {},
     "output_type": "display_data"
    },
    {
     "name": "stderr",
     "output_type": "stream",
     "text": [
      "<ipython-input-148-7db04d123dcc>:14: RuntimeWarning: Mean of empty slice\n",
      "  masks_shift = np.nanmean(np.stack(dice_scores), 1)\n"
     ]
    },
    {
     "data": {
      "application/vnd.jupyter.widget-view+json": {
       "model_id": "2f1daee920534722b3e3e5d41b98ea4f",
       "version_major": 2,
       "version_minor": 0
      },
      "text/plain": [
       "  0%|          | 0/143 [00:00<?, ?it/s]"
      ]
     },
     "metadata": {},
     "output_type": "display_data"
    },
    {
     "name": "stderr",
     "output_type": "stream",
     "text": [
      "<ipython-input-148-7db04d123dcc>:14: RuntimeWarning: Mean of empty slice\n",
      "  masks_shift = np.nanmean(np.stack(dice_scores), 1)\n"
     ]
    },
    {
     "data": {
      "application/vnd.jupyter.widget-view+json": {
       "model_id": "18941381cd5440cf92edab6177c288c6",
       "version_major": 2,
       "version_minor": 0
      },
      "text/plain": [
       "  0%|          | 0/143 [00:00<?, ?it/s]"
      ]
     },
     "metadata": {},
     "output_type": "display_data"
    },
    {
     "name": "stderr",
     "output_type": "stream",
     "text": [
      "<ipython-input-148-7db04d123dcc>:14: RuntimeWarning: Mean of empty slice\n",
      "  masks_shift = np.nanmean(np.stack(dice_scores), 1)\n"
     ]
    },
    {
     "data": {
      "application/vnd.jupyter.widget-view+json": {
       "model_id": "e2b5edb9a9f24931abc3bca6365366a3",
       "version_major": 2,
       "version_minor": 0
      },
      "text/plain": [
       "  0%|          | 0/143 [00:00<?, ?it/s]"
      ]
     },
     "metadata": {},
     "output_type": "display_data"
    },
    {
     "name": "stderr",
     "output_type": "stream",
     "text": [
      "<ipython-input-148-7db04d123dcc>:14: RuntimeWarning: Mean of empty slice\n",
      "  masks_shift = np.nanmean(np.stack(dice_scores), 1)\n"
     ]
    },
    {
     "data": {
      "application/vnd.jupyter.widget-view+json": {
       "model_id": "e9ccdabf33ab414482316873051f1a78",
       "version_major": 2,
       "version_minor": 0
      },
      "text/plain": [
       "  0%|          | 0/143 [00:00<?, ?it/s]"
      ]
     },
     "metadata": {},
     "output_type": "display_data"
    },
    {
     "name": "stderr",
     "output_type": "stream",
     "text": [
      "<ipython-input-148-7db04d123dcc>:14: RuntimeWarning: Mean of empty slice\n",
      "  masks_shift = np.nanmean(np.stack(dice_scores), 1)\n"
     ]
    },
    {
     "data": {
      "application/vnd.jupyter.widget-view+json": {
       "model_id": "55381f9d6e624d0abab1f7607f6dec97",
       "version_major": 2,
       "version_minor": 0
      },
      "text/plain": [
       "  0%|          | 0/143 [00:00<?, ?it/s]"
      ]
     },
     "metadata": {},
     "output_type": "display_data"
    },
    {
     "name": "stderr",
     "output_type": "stream",
     "text": [
      "<ipython-input-148-7db04d123dcc>:14: RuntimeWarning: Mean of empty slice\n",
      "  masks_shift = np.nanmean(np.stack(dice_scores), 1)\n"
     ]
    },
    {
     "data": {
      "application/vnd.jupyter.widget-view+json": {
       "model_id": "db7665c50b2b44ce95d943711f41a579",
       "version_major": 2,
       "version_minor": 0
      },
      "text/plain": [
       "  0%|          | 0/143 [00:00<?, ?it/s]"
      ]
     },
     "metadata": {},
     "output_type": "display_data"
    },
    {
     "name": "stderr",
     "output_type": "stream",
     "text": [
      "<ipython-input-148-7db04d123dcc>:14: RuntimeWarning: Mean of empty slice\n",
      "  masks_shift = np.nanmean(np.stack(dice_scores), 1)\n"
     ]
    },
    {
     "data": {
      "application/vnd.jupyter.widget-view+json": {
       "model_id": "74a5693277534a8396ff17613e271932",
       "version_major": 2,
       "version_minor": 0
      },
      "text/plain": [
       "  0%|          | 0/143 [00:00<?, ?it/s]"
      ]
     },
     "metadata": {},
     "output_type": "display_data"
    },
    {
     "name": "stderr",
     "output_type": "stream",
     "text": [
      "<ipython-input-148-7db04d123dcc>:14: RuntimeWarning: Mean of empty slice\n",
      "  masks_shift = np.nanmean(np.stack(dice_scores), 1)\n",
      "Clipping input data to the valid range for imshow with RGB data ([0..1] for floats or [0..255] for integers).\n"
     ]
    },
    {
     "data": {
      "application/vnd.jupyter.widget-view+json": {
       "model_id": "ab923594c7b9481b8ba38591788b0ca7",
       "version_major": 2,
       "version_minor": 0
      },
      "text/plain": [
       "  0%|          | 0/143 [00:00<?, ?it/s]"
      ]
     },
     "metadata": {},
     "output_type": "display_data"
    },
    {
     "name": "stderr",
     "output_type": "stream",
     "text": [
      "<ipython-input-148-7db04d123dcc>:14: RuntimeWarning: Mean of empty slice\n",
      "  masks_shift = np.nanmean(np.stack(dice_scores), 1)\n"
     ]
    },
    {
     "data": {
      "application/vnd.jupyter.widget-view+json": {
       "model_id": "aca5c3ef1e534109acd5a53dc659c2ca",
       "version_major": 2,
       "version_minor": 0
      },
      "text/plain": [
       "  0%|          | 0/143 [00:00<?, ?it/s]"
      ]
     },
     "metadata": {},
     "output_type": "display_data"
    },
    {
     "name": "stderr",
     "output_type": "stream",
     "text": [
      "<ipython-input-148-7db04d123dcc>:14: RuntimeWarning: Mean of empty slice\n",
      "  masks_shift = np.nanmean(np.stack(dice_scores), 1)\n"
     ]
    },
    {
     "data": {
      "application/vnd.jupyter.widget-view+json": {
       "model_id": "daf0d5541dc84241befe3656b1b8811a",
       "version_major": 2,
       "version_minor": 0
      },
      "text/plain": [
       "  0%|          | 0/143 [00:00<?, ?it/s]"
      ]
     },
     "metadata": {},
     "output_type": "display_data"
    },
    {
     "name": "stderr",
     "output_type": "stream",
     "text": [
      "<ipython-input-148-7db04d123dcc>:14: RuntimeWarning: Mean of empty slice\n",
      "  masks_shift = np.nanmean(np.stack(dice_scores), 1)\n",
      "Clipping input data to the valid range for imshow with RGB data ([0..1] for floats or [0..255] for integers).\n"
     ]
    },
    {
     "data": {
      "application/vnd.jupyter.widget-view+json": {
       "model_id": "d4a69c199e954eb484a0a7fe1602b1c9",
       "version_major": 2,
       "version_minor": 0
      },
      "text/plain": [
       "  0%|          | 0/143 [00:00<?, ?it/s]"
      ]
     },
     "metadata": {},
     "output_type": "display_data"
    },
    {
     "name": "stderr",
     "output_type": "stream",
     "text": [
      "<ipython-input-148-7db04d123dcc>:14: RuntimeWarning: Mean of empty slice\n",
      "  masks_shift = np.nanmean(np.stack(dice_scores), 1)\n"
     ]
    },
    {
     "data": {
      "application/vnd.jupyter.widget-view+json": {
       "model_id": "6efed29c44234260aa55702feb388147",
       "version_major": 2,
       "version_minor": 0
      },
      "text/plain": [
       "  0%|          | 0/143 [00:00<?, ?it/s]"
      ]
     },
     "metadata": {},
     "output_type": "display_data"
    },
    {
     "name": "stderr",
     "output_type": "stream",
     "text": [
      "<ipython-input-148-7db04d123dcc>:14: RuntimeWarning: Mean of empty slice\n",
      "  masks_shift = np.nanmean(np.stack(dice_scores), 1)\n",
      "Clipping input data to the valid range for imshow with RGB data ([0..1] for floats or [0..255] for integers).\n"
     ]
    },
    {
     "data": {
      "application/vnd.jupyter.widget-view+json": {
       "model_id": "a3294988ef36439490a64e3d43d8ff39",
       "version_major": 2,
       "version_minor": 0
      },
      "text/plain": [
       "  0%|          | 0/143 [00:00<?, ?it/s]"
      ]
     },
     "metadata": {},
     "output_type": "display_data"
    },
    {
     "name": "stderr",
     "output_type": "stream",
     "text": [
      "<ipython-input-148-7db04d123dcc>:14: RuntimeWarning: Mean of empty slice\n",
      "  masks_shift = np.nanmean(np.stack(dice_scores), 1)\n"
     ]
    },
    {
     "data": {
      "application/vnd.jupyter.widget-view+json": {
       "model_id": "674ea3a9c87e4844a0fd4199e2509846",
       "version_major": 2,
       "version_minor": 0
      },
      "text/plain": [
       "  0%|          | 0/79 [00:00<?, ?it/s]"
      ]
     },
     "metadata": {},
     "output_type": "display_data"
    },
    {
     "name": "stderr",
     "output_type": "stream",
     "text": [
      "<ipython-input-148-7db04d123dcc>:14: RuntimeWarning: Mean of empty slice\n",
      "  masks_shift = np.nanmean(np.stack(dice_scores), 1)\n",
      "Clipping input data to the valid range for imshow with RGB data ([0..1] for floats or [0..255] for integers).\n",
      "Clipping input data to the valid range for imshow with RGB data ([0..1] for floats or [0..255] for integers).\n"
     ]
    },
    {
     "data": {
      "application/vnd.jupyter.widget-view+json": {
       "model_id": "cd4fb7c57c38426c9137ab6f36124ef6",
       "version_major": 2,
       "version_minor": 0
      },
      "text/plain": [
       "  0%|          | 0/143 [00:00<?, ?it/s]"
      ]
     },
     "metadata": {},
     "output_type": "display_data"
    },
    {
     "name": "stderr",
     "output_type": "stream",
     "text": [
      "<ipython-input-148-7db04d123dcc>:14: RuntimeWarning: Mean of empty slice\n",
      "  masks_shift = np.nanmean(np.stack(dice_scores), 1)\n",
      "Clipping input data to the valid range for imshow with RGB data ([0..1] for floats or [0..255] for integers).\n"
     ]
    },
    {
     "data": {
      "application/vnd.jupyter.widget-view+json": {
       "model_id": "09655feae7c64b858ed9d70c7638dd20",
       "version_major": 2,
       "version_minor": 0
      },
      "text/plain": [
       "  0%|          | 0/79 [00:00<?, ?it/s]"
      ]
     },
     "metadata": {},
     "output_type": "display_data"
    },
    {
     "name": "stderr",
     "output_type": "stream",
     "text": [
      "<ipython-input-148-7db04d123dcc>:14: RuntimeWarning: Mean of empty slice\n",
      "  masks_shift = np.nanmean(np.stack(dice_scores), 1)\n"
     ]
    },
    {
     "data": {
      "application/vnd.jupyter.widget-view+json": {
       "model_id": "8dd30ce506a749768f5f7b98befde38c",
       "version_major": 2,
       "version_minor": 0
      },
      "text/plain": [
       "  0%|          | 0/79 [00:00<?, ?it/s]"
      ]
     },
     "metadata": {},
     "output_type": "display_data"
    },
    {
     "name": "stderr",
     "output_type": "stream",
     "text": [
      "<ipython-input-148-7db04d123dcc>:14: RuntimeWarning: Mean of empty slice\n",
      "  masks_shift = np.nanmean(np.stack(dice_scores), 1)\n",
      "Clipping input data to the valid range for imshow with RGB data ([0..1] for floats or [0..255] for integers).\n",
      "Clipping input data to the valid range for imshow with RGB data ([0..1] for floats or [0..255] for integers).\n",
      "Clipping input data to the valid range for imshow with RGB data ([0..1] for floats or [0..255] for integers).\n"
     ]
    },
    {
     "data": {
      "application/vnd.jupyter.widget-view+json": {
       "model_id": "84b7c75296d547cfa521f8bd6bd20ba6",
       "version_major": 2,
       "version_minor": 0
      },
      "text/plain": [
       "  0%|          | 0/79 [00:00<?, ?it/s]"
      ]
     },
     "metadata": {},
     "output_type": "display_data"
    },
    {
     "name": "stderr",
     "output_type": "stream",
     "text": [
      "<ipython-input-148-7db04d123dcc>:14: RuntimeWarning: Mean of empty slice\n",
      "  masks_shift = np.nanmean(np.stack(dice_scores), 1)\n"
     ]
    },
    {
     "data": {
      "application/vnd.jupyter.widget-view+json": {
       "model_id": "7012edc8a9364e298b79b7fedffbcdca",
       "version_major": 2,
       "version_minor": 0
      },
      "text/plain": [
       "  0%|          | 0/143 [00:00<?, ?it/s]"
      ]
     },
     "metadata": {},
     "output_type": "display_data"
    },
    {
     "name": "stderr",
     "output_type": "stream",
     "text": [
      "<ipython-input-148-7db04d123dcc>:14: RuntimeWarning: Mean of empty slice\n",
      "  masks_shift = np.nanmean(np.stack(dice_scores), 1)\n"
     ]
    },
    {
     "data": {
      "application/vnd.jupyter.widget-view+json": {
       "model_id": "1398197402454a2db8acb6689c1f4046",
       "version_major": 2,
       "version_minor": 0
      },
      "text/plain": [
       "  0%|          | 0/143 [00:00<?, ?it/s]"
      ]
     },
     "metadata": {},
     "output_type": "display_data"
    },
    {
     "name": "stderr",
     "output_type": "stream",
     "text": [
      "<ipython-input-148-7db04d123dcc>:14: RuntimeWarning: Mean of empty slice\n",
      "  masks_shift = np.nanmean(np.stack(dice_scores), 1)\n",
      "Clipping input data to the valid range for imshow with RGB data ([0..1] for floats or [0..255] for integers).\n"
     ]
    },
    {
     "data": {
      "application/vnd.jupyter.widget-view+json": {
       "model_id": "b6da792feb20470ea3c85408b8438ca7",
       "version_major": 2,
       "version_minor": 0
      },
      "text/plain": [
       "  0%|          | 0/143 [00:00<?, ?it/s]"
      ]
     },
     "metadata": {},
     "output_type": "display_data"
    },
    {
     "name": "stderr",
     "output_type": "stream",
     "text": [
      "<ipython-input-148-7db04d123dcc>:14: RuntimeWarning: Mean of empty slice\n",
      "  masks_shift = np.nanmean(np.stack(dice_scores), 1)\n"
     ]
    },
    {
     "data": {
      "application/vnd.jupyter.widget-view+json": {
       "model_id": "d8c2e97dabd54cf8b71e278cf2237c72",
       "version_major": 2,
       "version_minor": 0
      },
      "text/plain": [
       "  0%|          | 0/143 [00:00<?, ?it/s]"
      ]
     },
     "metadata": {},
     "output_type": "display_data"
    },
    {
     "name": "stderr",
     "output_type": "stream",
     "text": [
      "<ipython-input-148-7db04d123dcc>:14: RuntimeWarning: Mean of empty slice\n",
      "  masks_shift = np.nanmean(np.stack(dice_scores), 1)\n"
     ]
    },
    {
     "data": {
      "application/vnd.jupyter.widget-view+json": {
       "model_id": "107a3e24dc5a4adfb00e0440eb8a97ee",
       "version_major": 2,
       "version_minor": 0
      },
      "text/plain": [
       "  0%|          | 0/143 [00:00<?, ?it/s]"
      ]
     },
     "metadata": {},
     "output_type": "display_data"
    },
    {
     "name": "stderr",
     "output_type": "stream",
     "text": [
      "<ipython-input-148-7db04d123dcc>:14: RuntimeWarning: Mean of empty slice\n",
      "  masks_shift = np.nanmean(np.stack(dice_scores), 1)\n"
     ]
    },
    {
     "data": {
      "application/vnd.jupyter.widget-view+json": {
       "model_id": "5b8dcf639ae148a79f83661f5cae682f",
       "version_major": 2,
       "version_minor": 0
      },
      "text/plain": [
       "  0%|          | 0/143 [00:00<?, ?it/s]"
      ]
     },
     "metadata": {},
     "output_type": "display_data"
    },
    {
     "name": "stderr",
     "output_type": "stream",
     "text": [
      "<ipython-input-148-7db04d123dcc>:14: RuntimeWarning: Mean of empty slice\n",
      "  masks_shift = np.nanmean(np.stack(dice_scores), 1)\n"
     ]
    },
    {
     "data": {
      "application/vnd.jupyter.widget-view+json": {
       "model_id": "5cc768f883c14cdf944e1b113497b6eb",
       "version_major": 2,
       "version_minor": 0
      },
      "text/plain": [
       "  0%|          | 0/143 [00:00<?, ?it/s]"
      ]
     },
     "metadata": {},
     "output_type": "display_data"
    },
    {
     "name": "stderr",
     "output_type": "stream",
     "text": [
      "<ipython-input-148-7db04d123dcc>:14: RuntimeWarning: Mean of empty slice\n",
      "  masks_shift = np.nanmean(np.stack(dice_scores), 1)\n"
     ]
    },
    {
     "data": {
      "application/vnd.jupyter.widget-view+json": {
       "model_id": "7689e9998cb84654a90d2905bf32e4aa",
       "version_major": 2,
       "version_minor": 0
      },
      "text/plain": [
       "  0%|          | 0/143 [00:00<?, ?it/s]"
      ]
     },
     "metadata": {},
     "output_type": "display_data"
    },
    {
     "name": "stderr",
     "output_type": "stream",
     "text": [
      "<ipython-input-148-7db04d123dcc>:14: RuntimeWarning: Mean of empty slice\n",
      "  masks_shift = np.nanmean(np.stack(dice_scores), 1)\n",
      "Clipping input data to the valid range for imshow with RGB data ([0..1] for floats or [0..255] for integers).\n"
     ]
    },
    {
     "data": {
      "application/vnd.jupyter.widget-view+json": {
       "model_id": "f551eef683ca4461810b40186a7be85d",
       "version_major": 2,
       "version_minor": 0
      },
      "text/plain": [
       "  0%|          | 0/143 [00:00<?, ?it/s]"
      ]
     },
     "metadata": {},
     "output_type": "display_data"
    },
    {
     "name": "stderr",
     "output_type": "stream",
     "text": [
      "<ipython-input-148-7db04d123dcc>:14: RuntimeWarning: Mean of empty slice\n",
      "  masks_shift = np.nanmean(np.stack(dice_scores), 1)\n"
     ]
    },
    {
     "data": {
      "application/vnd.jupyter.widget-view+json": {
       "model_id": "206fcd3522e845ca920b318954f4d621",
       "version_major": 2,
       "version_minor": 0
      },
      "text/plain": [
       "  0%|          | 0/143 [00:00<?, ?it/s]"
      ]
     },
     "metadata": {},
     "output_type": "display_data"
    },
    {
     "name": "stderr",
     "output_type": "stream",
     "text": [
      "<ipython-input-148-7db04d123dcc>:14: RuntimeWarning: Mean of empty slice\n",
      "  masks_shift = np.nanmean(np.stack(dice_scores), 1)\n"
     ]
    },
    {
     "data": {
      "application/vnd.jupyter.widget-view+json": {
       "model_id": "d84cdc5aa4ef4c908dcb3e087b086e8e",
       "version_major": 2,
       "version_minor": 0
      },
      "text/plain": [
       "  0%|          | 0/143 [00:00<?, ?it/s]"
      ]
     },
     "metadata": {},
     "output_type": "display_data"
    },
    {
     "name": "stderr",
     "output_type": "stream",
     "text": [
      "<ipython-input-148-7db04d123dcc>:14: RuntimeWarning: Mean of empty slice\n",
      "  masks_shift = np.nanmean(np.stack(dice_scores), 1)\n"
     ]
    },
    {
     "data": {
      "application/vnd.jupyter.widget-view+json": {
       "model_id": "04c1b920ba874154b16f3872dc4b1a5b",
       "version_major": 2,
       "version_minor": 0
      },
      "text/plain": [
       "  0%|          | 0/143 [00:00<?, ?it/s]"
      ]
     },
     "metadata": {},
     "output_type": "display_data"
    },
    {
     "name": "stderr",
     "output_type": "stream",
     "text": [
      "<ipython-input-148-7db04d123dcc>:14: RuntimeWarning: Mean of empty slice\n",
      "  masks_shift = np.nanmean(np.stack(dice_scores), 1)\n"
     ]
    },
    {
     "data": {
      "application/vnd.jupyter.widget-view+json": {
       "model_id": "00d534d9972941b785514468bfb313fc",
       "version_major": 2,
       "version_minor": 0
      },
      "text/plain": [
       "  0%|          | 0/143 [00:00<?, ?it/s]"
      ]
     },
     "metadata": {},
     "output_type": "display_data"
    },
    {
     "name": "stderr",
     "output_type": "stream",
     "text": [
      "<ipython-input-148-7db04d123dcc>:14: RuntimeWarning: Mean of empty slice\n",
      "  masks_shift = np.nanmean(np.stack(dice_scores), 1)\n"
     ]
    },
    {
     "data": {
      "application/vnd.jupyter.widget-view+json": {
       "model_id": "83ae2fd7cbb8450dae0ce505646390d8",
       "version_major": 2,
       "version_minor": 0
      },
      "text/plain": [
       "  0%|          | 0/143 [00:00<?, ?it/s]"
      ]
     },
     "metadata": {},
     "output_type": "display_data"
    },
    {
     "name": "stderr",
     "output_type": "stream",
     "text": [
      "<ipython-input-148-7db04d123dcc>:14: RuntimeWarning: Mean of empty slice\n",
      "  masks_shift = np.nanmean(np.stack(dice_scores), 1)\n"
     ]
    },
    {
     "data": {
      "application/vnd.jupyter.widget-view+json": {
       "model_id": "0d953ff69263448c9398b9ab41293597",
       "version_major": 2,
       "version_minor": 0
      },
      "text/plain": [
       "  0%|          | 0/143 [00:00<?, ?it/s]"
      ]
     },
     "metadata": {},
     "output_type": "display_data"
    },
    {
     "name": "stderr",
     "output_type": "stream",
     "text": [
      "<ipython-input-148-7db04d123dcc>:14: RuntimeWarning: Mean of empty slice\n",
      "  masks_shift = np.nanmean(np.stack(dice_scores), 1)\n"
     ]
    },
    {
     "data": {
      "application/vnd.jupyter.widget-view+json": {
       "model_id": "ff5a1e6c2bb74d05a7497ae6af668b9b",
       "version_major": 2,
       "version_minor": 0
      },
      "text/plain": [
       "  0%|          | 0/143 [00:00<?, ?it/s]"
      ]
     },
     "metadata": {},
     "output_type": "display_data"
    },
    {
     "name": "stderr",
     "output_type": "stream",
     "text": [
      "<ipython-input-148-7db04d123dcc>:14: RuntimeWarning: Mean of empty slice\n",
      "  masks_shift = np.nanmean(np.stack(dice_scores), 1)\n"
     ]
    },
    {
     "data": {
      "application/vnd.jupyter.widget-view+json": {
       "model_id": "7e6dd0b6d99a44cdbc631e2efe3da2ef",
       "version_major": 2,
       "version_minor": 0
      },
      "text/plain": [
       "  0%|          | 0/143 [00:00<?, ?it/s]"
      ]
     },
     "metadata": {},
     "output_type": "display_data"
    },
    {
     "name": "stderr",
     "output_type": "stream",
     "text": [
      "<ipython-input-148-7db04d123dcc>:14: RuntimeWarning: Mean of empty slice\n",
      "  masks_shift = np.nanmean(np.stack(dice_scores), 1)\n"
     ]
    },
    {
     "data": {
      "application/vnd.jupyter.widget-view+json": {
       "model_id": "2c8ab083e5c14ba6ba6d03f9d27a9403",
       "version_major": 2,
       "version_minor": 0
      },
      "text/plain": [
       "  0%|          | 0/143 [00:00<?, ?it/s]"
      ]
     },
     "metadata": {},
     "output_type": "display_data"
    },
    {
     "name": "stderr",
     "output_type": "stream",
     "text": [
      "<ipython-input-148-7db04d123dcc>:14: RuntimeWarning: Mean of empty slice\n",
      "  masks_shift = np.nanmean(np.stack(dice_scores), 1)\n"
     ]
    },
    {
     "data": {
      "application/vnd.jupyter.widget-view+json": {
       "model_id": "1ba085589b13486f83c2f600ee8c7da9",
       "version_major": 2,
       "version_minor": 0
      },
      "text/plain": [
       "  0%|          | 0/143 [00:00<?, ?it/s]"
      ]
     },
     "metadata": {},
     "output_type": "display_data"
    },
    {
     "name": "stderr",
     "output_type": "stream",
     "text": [
      "<ipython-input-148-7db04d123dcc>:14: RuntimeWarning: Mean of empty slice\n",
      "  masks_shift = np.nanmean(np.stack(dice_scores), 1)\n"
     ]
    },
    {
     "data": {
      "application/vnd.jupyter.widget-view+json": {
       "model_id": "9697e6e234a246a79eeb07be1a84c73c",
       "version_major": 2,
       "version_minor": 0
      },
      "text/plain": [
       "  0%|          | 0/143 [00:00<?, ?it/s]"
      ]
     },
     "metadata": {},
     "output_type": "display_data"
    },
    {
     "name": "stderr",
     "output_type": "stream",
     "text": [
      "<ipython-input-148-7db04d123dcc>:14: RuntimeWarning: Mean of empty slice\n",
      "  masks_shift = np.nanmean(np.stack(dice_scores), 1)\n"
     ]
    },
    {
     "data": {
      "application/vnd.jupyter.widget-view+json": {
       "model_id": "c448c112d40d44389134353cfa1accf7",
       "version_major": 2,
       "version_minor": 0
      },
      "text/plain": [
       "  0%|          | 0/143 [00:00<?, ?it/s]"
      ]
     },
     "metadata": {},
     "output_type": "display_data"
    },
    {
     "name": "stderr",
     "output_type": "stream",
     "text": [
      "<ipython-input-148-7db04d123dcc>:14: RuntimeWarning: Mean of empty slice\n",
      "  masks_shift = np.nanmean(np.stack(dice_scores), 1)\n"
     ]
    },
    {
     "data": {
      "application/vnd.jupyter.widget-view+json": {
       "model_id": "e42c847cd8024f8fbb62b7cb86df1407",
       "version_major": 2,
       "version_minor": 0
      },
      "text/plain": [
       "  0%|          | 0/143 [00:00<?, ?it/s]"
      ]
     },
     "metadata": {},
     "output_type": "display_data"
    },
    {
     "name": "stderr",
     "output_type": "stream",
     "text": [
      "<ipython-input-148-7db04d123dcc>:14: RuntimeWarning: Mean of empty slice\n",
      "  masks_shift = np.nanmean(np.stack(dice_scores), 1)\n"
     ]
    },
    {
     "data": {
      "application/vnd.jupyter.widget-view+json": {
       "model_id": "68767b2c9d104c59b69531086b5d0fe0",
       "version_major": 2,
       "version_minor": 0
      },
      "text/plain": [
       "  0%|          | 0/143 [00:00<?, ?it/s]"
      ]
     },
     "metadata": {},
     "output_type": "display_data"
    },
    {
     "name": "stderr",
     "output_type": "stream",
     "text": [
      "<ipython-input-148-7db04d123dcc>:14: RuntimeWarning: Mean of empty slice\n",
      "  masks_shift = np.nanmean(np.stack(dice_scores), 1)\n"
     ]
    },
    {
     "data": {
      "application/vnd.jupyter.widget-view+json": {
       "model_id": "872ef225fbbe4b429fa12a49997cbf6d",
       "version_major": 2,
       "version_minor": 0
      },
      "text/plain": [
       "  0%|          | 0/143 [00:00<?, ?it/s]"
      ]
     },
     "metadata": {},
     "output_type": "display_data"
    },
    {
     "name": "stderr",
     "output_type": "stream",
     "text": [
      "<ipython-input-148-7db04d123dcc>:14: RuntimeWarning: Mean of empty slice\n",
      "  masks_shift = np.nanmean(np.stack(dice_scores), 1)\n"
     ]
    },
    {
     "data": {
      "application/vnd.jupyter.widget-view+json": {
       "model_id": "b3f494bce1a74b07bb49bed6c504c63e",
       "version_major": 2,
       "version_minor": 0
      },
      "text/plain": [
       "  0%|          | 0/143 [00:00<?, ?it/s]"
      ]
     },
     "metadata": {},
     "output_type": "display_data"
    },
    {
     "name": "stderr",
     "output_type": "stream",
     "text": [
      "<ipython-input-148-7db04d123dcc>:14: RuntimeWarning: Mean of empty slice\n",
      "  masks_shift = np.nanmean(np.stack(dice_scores), 1)\n"
     ]
    },
    {
     "data": {
      "application/vnd.jupyter.widget-view+json": {
       "model_id": "8a4e290c6ac44f88b982b62ac6e5dc7c",
       "version_major": 2,
       "version_minor": 0
      },
      "text/plain": [
       "  0%|          | 0/143 [00:00<?, ?it/s]"
      ]
     },
     "metadata": {},
     "output_type": "display_data"
    },
    {
     "name": "stderr",
     "output_type": "stream",
     "text": [
      "<ipython-input-148-7db04d123dcc>:14: RuntimeWarning: Mean of empty slice\n",
      "  masks_shift = np.nanmean(np.stack(dice_scores), 1)\n"
     ]
    },
    {
     "data": {
      "application/vnd.jupyter.widget-view+json": {
       "model_id": "54d74e5507f24ff7907c16e00e698dfe",
       "version_major": 2,
       "version_minor": 0
      },
      "text/plain": [
       "  0%|          | 0/143 [00:00<?, ?it/s]"
      ]
     },
     "metadata": {},
     "output_type": "display_data"
    },
    {
     "name": "stderr",
     "output_type": "stream",
     "text": [
      "<ipython-input-148-7db04d123dcc>:14: RuntimeWarning: Mean of empty slice\n",
      "  masks_shift = np.nanmean(np.stack(dice_scores), 1)\n",
      "Clipping input data to the valid range for imshow with RGB data ([0..1] for floats or [0..255] for integers).\n"
     ]
    },
    {
     "data": {
      "application/vnd.jupyter.widget-view+json": {
       "model_id": "47cdbed4c81e436fac29cbd3cff53d03",
       "version_major": 2,
       "version_minor": 0
      },
      "text/plain": [
       "  0%|          | 0/143 [00:00<?, ?it/s]"
      ]
     },
     "metadata": {},
     "output_type": "display_data"
    },
    {
     "name": "stderr",
     "output_type": "stream",
     "text": [
      "<ipython-input-148-7db04d123dcc>:14: RuntimeWarning: Mean of empty slice\n",
      "  masks_shift = np.nanmean(np.stack(dice_scores), 1)\n"
     ]
    },
    {
     "data": {
      "application/vnd.jupyter.widget-view+json": {
       "model_id": "cef81bde968e4151bb4d5887be752da2",
       "version_major": 2,
       "version_minor": 0
      },
      "text/plain": [
       "  0%|          | 0/143 [00:00<?, ?it/s]"
      ]
     },
     "metadata": {},
     "output_type": "display_data"
    },
    {
     "name": "stderr",
     "output_type": "stream",
     "text": [
      "<ipython-input-148-7db04d123dcc>:14: RuntimeWarning: Mean of empty slice\n",
      "  masks_shift = np.nanmean(np.stack(dice_scores), 1)\n"
     ]
    },
    {
     "data": {
      "application/vnd.jupyter.widget-view+json": {
       "model_id": "f9c6ae6619ae4354b0cd17ad266d1e07",
       "version_major": 2,
       "version_minor": 0
      },
      "text/plain": [
       "  0%|          | 0/143 [00:00<?, ?it/s]"
      ]
     },
     "metadata": {},
     "output_type": "display_data"
    },
    {
     "name": "stderr",
     "output_type": "stream",
     "text": [
      "<ipython-input-148-7db04d123dcc>:14: RuntimeWarning: Mean of empty slice\n",
      "  masks_shift = np.nanmean(np.stack(dice_scores), 1)\n",
      "Clipping input data to the valid range for imshow with RGB data ([0..1] for floats or [0..255] for integers).\n"
     ]
    },
    {
     "data": {
      "application/vnd.jupyter.widget-view+json": {
       "model_id": "8b76e624b8274cc393a58208b430e81c",
       "version_major": 2,
       "version_minor": 0
      },
      "text/plain": [
       "  0%|          | 0/143 [00:00<?, ?it/s]"
      ]
     },
     "metadata": {},
     "output_type": "display_data"
    },
    {
     "name": "stderr",
     "output_type": "stream",
     "text": [
      "<ipython-input-148-7db04d123dcc>:14: RuntimeWarning: Mean of empty slice\n",
      "  masks_shift = np.nanmean(np.stack(dice_scores), 1)\n",
      "Clipping input data to the valid range for imshow with RGB data ([0..1] for floats or [0..255] for integers).\n"
     ]
    },
    {
     "data": {
      "application/vnd.jupyter.widget-view+json": {
       "model_id": "c24c260f94194afb86fb6fe739ee3000",
       "version_major": 2,
       "version_minor": 0
      },
      "text/plain": [
       "  0%|          | 0/143 [00:00<?, ?it/s]"
      ]
     },
     "metadata": {},
     "output_type": "display_data"
    },
    {
     "name": "stderr",
     "output_type": "stream",
     "text": [
      "<ipython-input-148-7db04d123dcc>:14: RuntimeWarning: Mean of empty slice\n",
      "  masks_shift = np.nanmean(np.stack(dice_scores), 1)\n",
      "Clipping input data to the valid range for imshow with RGB data ([0..1] for floats or [0..255] for integers).\n"
     ]
    },
    {
     "data": {
      "application/vnd.jupyter.widget-view+json": {
       "model_id": "47f5a223675c43e5a34d1abdebdd512f",
       "version_major": 2,
       "version_minor": 0
      },
      "text/plain": [
       "  0%|          | 0/143 [00:00<?, ?it/s]"
      ]
     },
     "metadata": {},
     "output_type": "display_data"
    },
    {
     "name": "stderr",
     "output_type": "stream",
     "text": [
      "<ipython-input-148-7db04d123dcc>:14: RuntimeWarning: Mean of empty slice\n",
      "  masks_shift = np.nanmean(np.stack(dice_scores), 1)\n",
      "Clipping input data to the valid range for imshow with RGB data ([0..1] for floats or [0..255] for integers).\n",
      "Clipping input data to the valid range for imshow with RGB data ([0..1] for floats or [0..255] for integers).\n"
     ]
    },
    {
     "data": {
      "application/vnd.jupyter.widget-view+json": {
       "model_id": "cdb3c961c6934f64a04c3a6c6dc5d438",
       "version_major": 2,
       "version_minor": 0
      },
      "text/plain": [
       "  0%|          | 0/143 [00:00<?, ?it/s]"
      ]
     },
     "metadata": {},
     "output_type": "display_data"
    },
    {
     "name": "stderr",
     "output_type": "stream",
     "text": [
      "<ipython-input-148-7db04d123dcc>:14: RuntimeWarning: Mean of empty slice\n",
      "  masks_shift = np.nanmean(np.stack(dice_scores), 1)\n",
      "Clipping input data to the valid range for imshow with RGB data ([0..1] for floats or [0..255] for integers).\n",
      "Clipping input data to the valid range for imshow with RGB data ([0..1] for floats or [0..255] for integers).\n"
     ]
    },
    {
     "data": {
      "application/vnd.jupyter.widget-view+json": {
       "model_id": "18ce4c4b1fc244efa630e99cb324f54c",
       "version_major": 2,
       "version_minor": 0
      },
      "text/plain": [
       "  0%|          | 0/143 [00:00<?, ?it/s]"
      ]
     },
     "metadata": {},
     "output_type": "display_data"
    },
    {
     "name": "stderr",
     "output_type": "stream",
     "text": [
      "<ipython-input-148-7db04d123dcc>:14: RuntimeWarning: Mean of empty slice\n",
      "  masks_shift = np.nanmean(np.stack(dice_scores), 1)\n"
     ]
    },
    {
     "data": {
      "application/vnd.jupyter.widget-view+json": {
       "model_id": "7e7879e1e71f4d75a9e7c39236d8c3bd",
       "version_major": 2,
       "version_minor": 0
      },
      "text/plain": [
       "  0%|          | 0/143 [00:00<?, ?it/s]"
      ]
     },
     "metadata": {},
     "output_type": "display_data"
    },
    {
     "name": "stderr",
     "output_type": "stream",
     "text": [
      "<ipython-input-148-7db04d123dcc>:14: RuntimeWarning: Mean of empty slice\n",
      "  masks_shift = np.nanmean(np.stack(dice_scores), 1)\n"
     ]
    },
    {
     "data": {
      "application/vnd.jupyter.widget-view+json": {
       "model_id": "1d82893bcab64dcd84da64434bdc7122",
       "version_major": 2,
       "version_minor": 0
      },
      "text/plain": [
       "  0%|          | 0/143 [00:00<?, ?it/s]"
      ]
     },
     "metadata": {},
     "output_type": "display_data"
    },
    {
     "name": "stderr",
     "output_type": "stream",
     "text": [
      "<ipython-input-148-7db04d123dcc>:14: RuntimeWarning: Mean of empty slice\n",
      "  masks_shift = np.nanmean(np.stack(dice_scores), 1)\n",
      "Clipping input data to the valid range for imshow with RGB data ([0..1] for floats or [0..255] for integers).\n"
     ]
    },
    {
     "data": {
      "application/vnd.jupyter.widget-view+json": {
       "model_id": "c5f9fddb941d4d6f8846fb6a313f761d",
       "version_major": 2,
       "version_minor": 0
      },
      "text/plain": [
       "  0%|          | 0/143 [00:00<?, ?it/s]"
      ]
     },
     "metadata": {},
     "output_type": "display_data"
    },
    {
     "name": "stderr",
     "output_type": "stream",
     "text": [
      "<ipython-input-148-7db04d123dcc>:14: RuntimeWarning: Mean of empty slice\n",
      "  masks_shift = np.nanmean(np.stack(dice_scores), 1)\n"
     ]
    },
    {
     "data": {
      "application/vnd.jupyter.widget-view+json": {
       "model_id": "d97d180c76c3446db5a504649ee99979",
       "version_major": 2,
       "version_minor": 0
      },
      "text/plain": [
       "  0%|          | 0/143 [00:00<?, ?it/s]"
      ]
     },
     "metadata": {},
     "output_type": "display_data"
    },
    {
     "name": "stderr",
     "output_type": "stream",
     "text": [
      "<ipython-input-148-7db04d123dcc>:14: RuntimeWarning: Mean of empty slice\n",
      "  masks_shift = np.nanmean(np.stack(dice_scores), 1)\n"
     ]
    },
    {
     "data": {
      "application/vnd.jupyter.widget-view+json": {
       "model_id": "c4285cf5e5b84ad3a917e69ef5ee3c46",
       "version_major": 2,
       "version_minor": 0
      },
      "text/plain": [
       "  0%|          | 0/143 [00:00<?, ?it/s]"
      ]
     },
     "metadata": {},
     "output_type": "display_data"
    },
    {
     "name": "stderr",
     "output_type": "stream",
     "text": [
      "<ipython-input-148-7db04d123dcc>:14: RuntimeWarning: Mean of empty slice\n",
      "  masks_shift = np.nanmean(np.stack(dice_scores), 1)\n"
     ]
    },
    {
     "data": {
      "application/vnd.jupyter.widget-view+json": {
       "model_id": "b7076291109c41518e24fdddada646f4",
       "version_major": 2,
       "version_minor": 0
      },
      "text/plain": [
       "  0%|          | 0/143 [00:00<?, ?it/s]"
      ]
     },
     "metadata": {},
     "output_type": "display_data"
    },
    {
     "name": "stderr",
     "output_type": "stream",
     "text": [
      "<ipython-input-148-7db04d123dcc>:14: RuntimeWarning: Mean of empty slice\n",
      "  masks_shift = np.nanmean(np.stack(dice_scores), 1)\n"
     ]
    },
    {
     "data": {
      "application/vnd.jupyter.widget-view+json": {
       "model_id": "e8d56d6d5873419aa588ae66e967666f",
       "version_major": 2,
       "version_minor": 0
      },
      "text/plain": [
       "  0%|          | 0/143 [00:00<?, ?it/s]"
      ]
     },
     "metadata": {},
     "output_type": "display_data"
    },
    {
     "name": "stderr",
     "output_type": "stream",
     "text": [
      "<ipython-input-148-7db04d123dcc>:14: RuntimeWarning: Mean of empty slice\n",
      "  masks_shift = np.nanmean(np.stack(dice_scores), 1)\n"
     ]
    },
    {
     "data": {
      "application/vnd.jupyter.widget-view+json": {
       "model_id": "0f264921a008429bac51ad3b0d03fc07",
       "version_major": 2,
       "version_minor": 0
      },
      "text/plain": [
       "  0%|          | 0/143 [00:00<?, ?it/s]"
      ]
     },
     "metadata": {},
     "output_type": "display_data"
    },
    {
     "name": "stderr",
     "output_type": "stream",
     "text": [
      "<ipython-input-148-7db04d123dcc>:14: RuntimeWarning: Mean of empty slice\n",
      "  masks_shift = np.nanmean(np.stack(dice_scores), 1)\n"
     ]
    },
    {
     "data": {
      "application/vnd.jupyter.widget-view+json": {
       "model_id": "3416501aa353435eb2e8147bd12c3fd3",
       "version_major": 2,
       "version_minor": 0
      },
      "text/plain": [
       "  0%|          | 0/143 [00:00<?, ?it/s]"
      ]
     },
     "metadata": {},
     "output_type": "display_data"
    },
    {
     "name": "stderr",
     "output_type": "stream",
     "text": [
      "<ipython-input-148-7db04d123dcc>:14: RuntimeWarning: Mean of empty slice\n",
      "  masks_shift = np.nanmean(np.stack(dice_scores), 1)\n"
     ]
    },
    {
     "data": {
      "application/vnd.jupyter.widget-view+json": {
       "model_id": "338701a91e904823960784c14c72b988",
       "version_major": 2,
       "version_minor": 0
      },
      "text/plain": [
       "  0%|          | 0/143 [00:00<?, ?it/s]"
      ]
     },
     "metadata": {},
     "output_type": "display_data"
    },
    {
     "name": "stderr",
     "output_type": "stream",
     "text": [
      "<ipython-input-148-7db04d123dcc>:14: RuntimeWarning: Mean of empty slice\n",
      "  masks_shift = np.nanmean(np.stack(dice_scores), 1)\n",
      "Clipping input data to the valid range for imshow with RGB data ([0..1] for floats or [0..255] for integers).\n",
      "Clipping input data to the valid range for imshow with RGB data ([0..1] for floats or [0..255] for integers).\n"
     ]
    },
    {
     "data": {
      "application/vnd.jupyter.widget-view+json": {
       "model_id": "255e536289b345c7b4e34a55e2c90549",
       "version_major": 2,
       "version_minor": 0
      },
      "text/plain": [
       "  0%|          | 0/143 [00:00<?, ?it/s]"
      ]
     },
     "metadata": {},
     "output_type": "display_data"
    },
    {
     "name": "stderr",
     "output_type": "stream",
     "text": [
      "<ipython-input-148-7db04d123dcc>:14: RuntimeWarning: Mean of empty slice\n",
      "  masks_shift = np.nanmean(np.stack(dice_scores), 1)\n",
      "Clipping input data to the valid range for imshow with RGB data ([0..1] for floats or [0..255] for integers).\n"
     ]
    },
    {
     "data": {
      "application/vnd.jupyter.widget-view+json": {
       "model_id": "5892e2907d27417cb5e2e66d36155521",
       "version_major": 2,
       "version_minor": 0
      },
      "text/plain": [
       "  0%|          | 0/143 [00:00<?, ?it/s]"
      ]
     },
     "metadata": {},
     "output_type": "display_data"
    },
    {
     "name": "stderr",
     "output_type": "stream",
     "text": [
      "<ipython-input-148-7db04d123dcc>:14: RuntimeWarning: Mean of empty slice\n",
      "  masks_shift = np.nanmean(np.stack(dice_scores), 1)\n",
      "Clipping input data to the valid range for imshow with RGB data ([0..1] for floats or [0..255] for integers).\n"
     ]
    },
    {
     "data": {
      "application/vnd.jupyter.widget-view+json": {
       "model_id": "ae85e72c3fbc480d8d77e18fc780c538",
       "version_major": 2,
       "version_minor": 0
      },
      "text/plain": [
       "  0%|          | 0/143 [00:00<?, ?it/s]"
      ]
     },
     "metadata": {},
     "output_type": "display_data"
    },
    {
     "name": "stderr",
     "output_type": "stream",
     "text": [
      "<ipython-input-148-7db04d123dcc>:14: RuntimeWarning: Mean of empty slice\n",
      "  masks_shift = np.nanmean(np.stack(dice_scores), 1)\n",
      "Clipping input data to the valid range for imshow with RGB data ([0..1] for floats or [0..255] for integers).\n"
     ]
    },
    {
     "data": {
      "application/vnd.jupyter.widget-view+json": {
       "model_id": "436489f14b4445fc992a7ded24a0ef17",
       "version_major": 2,
       "version_minor": 0
      },
      "text/plain": [
       "  0%|          | 0/143 [00:00<?, ?it/s]"
      ]
     },
     "metadata": {},
     "output_type": "display_data"
    },
    {
     "name": "stderr",
     "output_type": "stream",
     "text": [
      "<ipython-input-148-7db04d123dcc>:14: RuntimeWarning: Mean of empty slice\n",
      "  masks_shift = np.nanmean(np.stack(dice_scores), 1)\n"
     ]
    },
    {
     "data": {
      "application/vnd.jupyter.widget-view+json": {
       "model_id": "b46df94bac0b4aa6aef910f234f325a0",
       "version_major": 2,
       "version_minor": 0
      },
      "text/plain": [
       "  0%|          | 0/143 [00:00<?, ?it/s]"
      ]
     },
     "metadata": {},
     "output_type": "display_data"
    },
    {
     "name": "stderr",
     "output_type": "stream",
     "text": [
      "<ipython-input-148-7db04d123dcc>:14: RuntimeWarning: Mean of empty slice\n",
      "  masks_shift = np.nanmean(np.stack(dice_scores), 1)\n",
      "Clipping input data to the valid range for imshow with RGB data ([0..1] for floats or [0..255] for integers).\n"
     ]
    },
    {
     "data": {
      "application/vnd.jupyter.widget-view+json": {
       "model_id": "62c2bf38e82f4cc082b9e69ca386aeda",
       "version_major": 2,
       "version_minor": 0
      },
      "text/plain": [
       "  0%|          | 0/143 [00:00<?, ?it/s]"
      ]
     },
     "metadata": {},
     "output_type": "display_data"
    },
    {
     "name": "stderr",
     "output_type": "stream",
     "text": [
      "<ipython-input-148-7db04d123dcc>:14: RuntimeWarning: Mean of empty slice\n",
      "  masks_shift = np.nanmean(np.stack(dice_scores), 1)\n"
     ]
    },
    {
     "data": {
      "application/vnd.jupyter.widget-view+json": {
       "model_id": "d939f09d19bf4a99baafcc7e25af5f4f",
       "version_major": 2,
       "version_minor": 0
      },
      "text/plain": [
       "  0%|          | 0/143 [00:00<?, ?it/s]"
      ]
     },
     "metadata": {},
     "output_type": "display_data"
    },
    {
     "name": "stderr",
     "output_type": "stream",
     "text": [
      "<ipython-input-148-7db04d123dcc>:14: RuntimeWarning: Mean of empty slice\n",
      "  masks_shift = np.nanmean(np.stack(dice_scores), 1)\n"
     ]
    },
    {
     "data": {
      "application/vnd.jupyter.widget-view+json": {
       "model_id": "7c5b2c5a36b648cba6825216cd9dff03",
       "version_major": 2,
       "version_minor": 0
      },
      "text/plain": [
       "  0%|          | 0/143 [00:00<?, ?it/s]"
      ]
     },
     "metadata": {},
     "output_type": "display_data"
    },
    {
     "name": "stderr",
     "output_type": "stream",
     "text": [
      "<ipython-input-148-7db04d123dcc>:14: RuntimeWarning: Mean of empty slice\n",
      "  masks_shift = np.nanmean(np.stack(dice_scores), 1)\n"
     ]
    },
    {
     "data": {
      "application/vnd.jupyter.widget-view+json": {
       "model_id": "5121e641ca38456f92e5198e9ecffc8d",
       "version_major": 2,
       "version_minor": 0
      },
      "text/plain": [
       "  0%|          | 0/143 [00:00<?, ?it/s]"
      ]
     },
     "metadata": {},
     "output_type": "display_data"
    },
    {
     "name": "stderr",
     "output_type": "stream",
     "text": [
      "<ipython-input-148-7db04d123dcc>:14: RuntimeWarning: Mean of empty slice\n",
      "  masks_shift = np.nanmean(np.stack(dice_scores), 1)\n"
     ]
    },
    {
     "data": {
      "application/vnd.jupyter.widget-view+json": {
       "model_id": "824d0c2f2bf94931aab1a64154d02dc9",
       "version_major": 2,
       "version_minor": 0
      },
      "text/plain": [
       "  0%|          | 0/143 [00:00<?, ?it/s]"
      ]
     },
     "metadata": {},
     "output_type": "display_data"
    },
    {
     "name": "stderr",
     "output_type": "stream",
     "text": [
      "<ipython-input-148-7db04d123dcc>:14: RuntimeWarning: Mean of empty slice\n",
      "  masks_shift = np.nanmean(np.stack(dice_scores), 1)\n"
     ]
    },
    {
     "data": {
      "application/vnd.jupyter.widget-view+json": {
       "model_id": "84d9dc0b0aec40a3862edd793c37953a",
       "version_major": 2,
       "version_minor": 0
      },
      "text/plain": [
       "  0%|          | 0/143 [00:00<?, ?it/s]"
      ]
     },
     "metadata": {},
     "output_type": "display_data"
    },
    {
     "name": "stderr",
     "output_type": "stream",
     "text": [
      "<ipython-input-148-7db04d123dcc>:14: RuntimeWarning: Mean of empty slice\n",
      "  masks_shift = np.nanmean(np.stack(dice_scores), 1)\n",
      "Clipping input data to the valid range for imshow with RGB data ([0..1] for floats or [0..255] for integers).\n",
      "Clipping input data to the valid range for imshow with RGB data ([0..1] for floats or [0..255] for integers).\n"
     ]
    },
    {
     "data": {
      "application/vnd.jupyter.widget-view+json": {
       "model_id": "8572dd1c21e74e89ab8cc367153622a7",
       "version_major": 2,
       "version_minor": 0
      },
      "text/plain": [
       "  0%|          | 0/143 [00:00<?, ?it/s]"
      ]
     },
     "metadata": {},
     "output_type": "display_data"
    },
    {
     "name": "stderr",
     "output_type": "stream",
     "text": [
      "<ipython-input-148-7db04d123dcc>:14: RuntimeWarning: Mean of empty slice\n",
      "  masks_shift = np.nanmean(np.stack(dice_scores), 1)\n",
      "Clipping input data to the valid range for imshow with RGB data ([0..1] for floats or [0..255] for integers).\n",
      "Clipping input data to the valid range for imshow with RGB data ([0..1] for floats or [0..255] for integers).\n",
      "Clipping input data to the valid range for imshow with RGB data ([0..1] for floats or [0..255] for integers).\n"
     ]
    },
    {
     "data": {
      "application/vnd.jupyter.widget-view+json": {
       "model_id": "c343fd85510d4a9eb4345861ae7773be",
       "version_major": 2,
       "version_minor": 0
      },
      "text/plain": [
       "  0%|          | 0/143 [00:00<?, ?it/s]"
      ]
     },
     "metadata": {},
     "output_type": "display_data"
    },
    {
     "name": "stderr",
     "output_type": "stream",
     "text": [
      "<ipython-input-148-7db04d123dcc>:14: RuntimeWarning: Mean of empty slice\n",
      "  masks_shift = np.nanmean(np.stack(dice_scores), 1)\n",
      "Clipping input data to the valid range for imshow with RGB data ([0..1] for floats or [0..255] for integers).\n",
      "Clipping input data to the valid range for imshow with RGB data ([0..1] for floats or [0..255] for integers).\n",
      "Clipping input data to the valid range for imshow with RGB data ([0..1] for floats or [0..255] for integers).\n"
     ]
    },
    {
     "data": {
      "application/vnd.jupyter.widget-view+json": {
       "model_id": "c310182adbfe48a39a6e10ca50923929",
       "version_major": 2,
       "version_minor": 0
      },
      "text/plain": [
       "  0%|          | 0/143 [00:00<?, ?it/s]"
      ]
     },
     "metadata": {},
     "output_type": "display_data"
    },
    {
     "name": "stderr",
     "output_type": "stream",
     "text": [
      "<ipython-input-148-7db04d123dcc>:14: RuntimeWarning: Mean of empty slice\n",
      "  masks_shift = np.nanmean(np.stack(dice_scores), 1)\n",
      "Clipping input data to the valid range for imshow with RGB data ([0..1] for floats or [0..255] for integers).\n"
     ]
    },
    {
     "data": {
      "application/vnd.jupyter.widget-view+json": {
       "model_id": "e6f79200dfdc47bab6eebbc3081f030f",
       "version_major": 2,
       "version_minor": 0
      },
      "text/plain": [
       "  0%|          | 0/143 [00:00<?, ?it/s]"
      ]
     },
     "metadata": {},
     "output_type": "display_data"
    },
    {
     "name": "stderr",
     "output_type": "stream",
     "text": [
      "<ipython-input-148-7db04d123dcc>:14: RuntimeWarning: Mean of empty slice\n",
      "  masks_shift = np.nanmean(np.stack(dice_scores), 1)\n",
      "Clipping input data to the valid range for imshow with RGB data ([0..1] for floats or [0..255] for integers).\n"
     ]
    },
    {
     "data": {
      "application/vnd.jupyter.widget-view+json": {
       "model_id": "d90fb4394cd84c07869eb185dcb3be01",
       "version_major": 2,
       "version_minor": 0
      },
      "text/plain": [
       "  0%|          | 0/79 [00:00<?, ?it/s]"
      ]
     },
     "metadata": {},
     "output_type": "display_data"
    },
    {
     "name": "stderr",
     "output_type": "stream",
     "text": [
      "<ipython-input-148-7db04d123dcc>:14: RuntimeWarning: Mean of empty slice\n",
      "  masks_shift = np.nanmean(np.stack(dice_scores), 1)\n"
     ]
    },
    {
     "data": {
      "application/vnd.jupyter.widget-view+json": {
       "model_id": "89d9eaff1f6c466e86eb74a0ec5592f6",
       "version_major": 2,
       "version_minor": 0
      },
      "text/plain": [
       "  0%|          | 0/143 [00:00<?, ?it/s]"
      ]
     },
     "metadata": {},
     "output_type": "display_data"
    },
    {
     "name": "stderr",
     "output_type": "stream",
     "text": [
      "<ipython-input-148-7db04d123dcc>:14: RuntimeWarning: Mean of empty slice\n",
      "  masks_shift = np.nanmean(np.stack(dice_scores), 1)\n",
      "Clipping input data to the valid range for imshow with RGB data ([0..1] for floats or [0..255] for integers).\n"
     ]
    },
    {
     "data": {
      "application/vnd.jupyter.widget-view+json": {
       "model_id": "1c5b8b0eaede4fa28f8479e566b5e809",
       "version_major": 2,
       "version_minor": 0
      },
      "text/plain": [
       "  0%|          | 0/143 [00:00<?, ?it/s]"
      ]
     },
     "metadata": {},
     "output_type": "display_data"
    },
    {
     "name": "stderr",
     "output_type": "stream",
     "text": [
      "<ipython-input-148-7db04d123dcc>:14: RuntimeWarning: Mean of empty slice\n",
      "  masks_shift = np.nanmean(np.stack(dice_scores), 1)\n"
     ]
    },
    {
     "data": {
      "application/vnd.jupyter.widget-view+json": {
       "model_id": "253e05f28b814188ace2cc52e097ae4c",
       "version_major": 2,
       "version_minor": 0
      },
      "text/plain": [
       "  0%|          | 0/143 [00:00<?, ?it/s]"
      ]
     },
     "metadata": {},
     "output_type": "display_data"
    },
    {
     "name": "stderr",
     "output_type": "stream",
     "text": [
      "<ipython-input-148-7db04d123dcc>:14: RuntimeWarning: Mean of empty slice\n",
      "  masks_shift = np.nanmean(np.stack(dice_scores), 1)\n"
     ]
    },
    {
     "data": {
      "application/vnd.jupyter.widget-view+json": {
       "model_id": "95afec43ef7d4eb8a1cc7e694e843b74",
       "version_major": 2,
       "version_minor": 0
      },
      "text/plain": [
       "  0%|          | 0/143 [00:00<?, ?it/s]"
      ]
     },
     "metadata": {},
     "output_type": "display_data"
    },
    {
     "name": "stderr",
     "output_type": "stream",
     "text": [
      "<ipython-input-148-7db04d123dcc>:14: RuntimeWarning: Mean of empty slice\n",
      "  masks_shift = np.nanmean(np.stack(dice_scores), 1)\n"
     ]
    },
    {
     "data": {
      "application/vnd.jupyter.widget-view+json": {
       "model_id": "5e2a7ef4f43e4a13a5f0575b941c32a1",
       "version_major": 2,
       "version_minor": 0
      },
      "text/plain": [
       "  0%|          | 0/143 [00:00<?, ?it/s]"
      ]
     },
     "metadata": {},
     "output_type": "display_data"
    },
    {
     "name": "stderr",
     "output_type": "stream",
     "text": [
      "<ipython-input-148-7db04d123dcc>:14: RuntimeWarning: Mean of empty slice\n",
      "  masks_shift = np.nanmean(np.stack(dice_scores), 1)\n",
      "Clipping input data to the valid range for imshow with RGB data ([0..1] for floats or [0..255] for integers).\n"
     ]
    },
    {
     "data": {
      "application/vnd.jupyter.widget-view+json": {
       "model_id": "d0b535fcb8a447e1b293b1e46d945d6a",
       "version_major": 2,
       "version_minor": 0
      },
      "text/plain": [
       "  0%|          | 0/143 [00:00<?, ?it/s]"
      ]
     },
     "metadata": {},
     "output_type": "display_data"
    },
    {
     "name": "stderr",
     "output_type": "stream",
     "text": [
      "<ipython-input-148-7db04d123dcc>:14: RuntimeWarning: Mean of empty slice\n",
      "  masks_shift = np.nanmean(np.stack(dice_scores), 1)\n",
      "Clipping input data to the valid range for imshow with RGB data ([0..1] for floats or [0..255] for integers).\n"
     ]
    },
    {
     "data": {
      "application/vnd.jupyter.widget-view+json": {
       "model_id": "d682791c86e04a14915bbf505076b42d",
       "version_major": 2,
       "version_minor": 0
      },
      "text/plain": [
       "  0%|          | 0/143 [00:00<?, ?it/s]"
      ]
     },
     "metadata": {},
     "output_type": "display_data"
    },
    {
     "name": "stderr",
     "output_type": "stream",
     "text": [
      "<ipython-input-148-7db04d123dcc>:14: RuntimeWarning: Mean of empty slice\n",
      "  masks_shift = np.nanmean(np.stack(dice_scores), 1)\n",
      "Clipping input data to the valid range for imshow with RGB data ([0..1] for floats or [0..255] for integers).\n"
     ]
    },
    {
     "data": {
      "application/vnd.jupyter.widget-view+json": {
       "model_id": "03246bf367114b218cd7dec4503cd4fe",
       "version_major": 2,
       "version_minor": 0
      },
      "text/plain": [
       "  0%|          | 0/143 [00:00<?, ?it/s]"
      ]
     },
     "metadata": {},
     "output_type": "display_data"
    },
    {
     "name": "stderr",
     "output_type": "stream",
     "text": [
      "<ipython-input-148-7db04d123dcc>:14: RuntimeWarning: Mean of empty slice\n",
      "  masks_shift = np.nanmean(np.stack(dice_scores), 1)\n"
     ]
    },
    {
     "data": {
      "application/vnd.jupyter.widget-view+json": {
       "model_id": "4ad4afa3f1c745639276f69bc8c9b5d4",
       "version_major": 2,
       "version_minor": 0
      },
      "text/plain": [
       "  0%|          | 0/143 [00:00<?, ?it/s]"
      ]
     },
     "metadata": {},
     "output_type": "display_data"
    },
    {
     "name": "stderr",
     "output_type": "stream",
     "text": [
      "<ipython-input-148-7db04d123dcc>:14: RuntimeWarning: Mean of empty slice\n",
      "  masks_shift = np.nanmean(np.stack(dice_scores), 1)\n",
      "Clipping input data to the valid range for imshow with RGB data ([0..1] for floats or [0..255] for integers).\n"
     ]
    },
    {
     "data": {
      "application/vnd.jupyter.widget-view+json": {
       "model_id": "4c769e72ff1248e1a864fcc0e979453e",
       "version_major": 2,
       "version_minor": 0
      },
      "text/plain": [
       "  0%|          | 0/143 [00:00<?, ?it/s]"
      ]
     },
     "metadata": {},
     "output_type": "display_data"
    },
    {
     "name": "stderr",
     "output_type": "stream",
     "text": [
      "<ipython-input-148-7db04d123dcc>:14: RuntimeWarning: Mean of empty slice\n",
      "  masks_shift = np.nanmean(np.stack(dice_scores), 1)\n",
      "Clipping input data to the valid range for imshow with RGB data ([0..1] for floats or [0..255] for integers).\n",
      "Clipping input data to the valid range for imshow with RGB data ([0..1] for floats or [0..255] for integers).\n"
     ]
    },
    {
     "data": {
      "application/vnd.jupyter.widget-view+json": {
       "model_id": "dd39f032754446d88675c3a7f4e799b1",
       "version_major": 2,
       "version_minor": 0
      },
      "text/plain": [
       "  0%|          | 0/143 [00:00<?, ?it/s]"
      ]
     },
     "metadata": {},
     "output_type": "display_data"
    },
    {
     "name": "stderr",
     "output_type": "stream",
     "text": [
      "<ipython-input-148-7db04d123dcc>:14: RuntimeWarning: Mean of empty slice\n",
      "  masks_shift = np.nanmean(np.stack(dice_scores), 1)\n",
      "Clipping input data to the valid range for imshow with RGB data ([0..1] for floats or [0..255] for integers).\n",
      "Clipping input data to the valid range for imshow with RGB data ([0..1] for floats or [0..255] for integers).\n"
     ]
    },
    {
     "data": {
      "application/vnd.jupyter.widget-view+json": {
       "model_id": "e6651094f2ae4aeb8281028ebdcb2fde",
       "version_major": 2,
       "version_minor": 0
      },
      "text/plain": [
       "  0%|          | 0/79 [00:00<?, ?it/s]"
      ]
     },
     "metadata": {},
     "output_type": "display_data"
    },
    {
     "name": "stderr",
     "output_type": "stream",
     "text": [
      "<ipython-input-148-7db04d123dcc>:14: RuntimeWarning: Mean of empty slice\n",
      "  masks_shift = np.nanmean(np.stack(dice_scores), 1)\n"
     ]
    },
    {
     "data": {
      "application/vnd.jupyter.widget-view+json": {
       "model_id": "ca1f4bad5f8340b89d5e62fbeb527ba0",
       "version_major": 2,
       "version_minor": 0
      },
      "text/plain": [
       "  0%|          | 0/143 [00:00<?, ?it/s]"
      ]
     },
     "metadata": {},
     "output_type": "display_data"
    },
    {
     "name": "stderr",
     "output_type": "stream",
     "text": [
      "<ipython-input-148-7db04d123dcc>:14: RuntimeWarning: Mean of empty slice\n",
      "  masks_shift = np.nanmean(np.stack(dice_scores), 1)\n"
     ]
    },
    {
     "data": {
      "application/vnd.jupyter.widget-view+json": {
       "model_id": "c6823519a57d426e8f8bf13cb53071b0",
       "version_major": 2,
       "version_minor": 0
      },
      "text/plain": [
       "  0%|          | 0/79 [00:00<?, ?it/s]"
      ]
     },
     "metadata": {},
     "output_type": "display_data"
    },
    {
     "name": "stderr",
     "output_type": "stream",
     "text": [
      "<ipython-input-148-7db04d123dcc>:14: RuntimeWarning: Mean of empty slice\n",
      "  masks_shift = np.nanmean(np.stack(dice_scores), 1)\n"
     ]
    },
    {
     "data": {
      "application/vnd.jupyter.widget-view+json": {
       "model_id": "693dae35a0ee4f4da779da3adaf5bd5f",
       "version_major": 2,
       "version_minor": 0
      },
      "text/plain": [
       "  0%|          | 0/79 [00:00<?, ?it/s]"
      ]
     },
     "metadata": {},
     "output_type": "display_data"
    },
    {
     "name": "stderr",
     "output_type": "stream",
     "text": [
      "<ipython-input-148-7db04d123dcc>:14: RuntimeWarning: Mean of empty slice\n",
      "  masks_shift = np.nanmean(np.stack(dice_scores), 1)\n",
      "Clipping input data to the valid range for imshow with RGB data ([0..1] for floats or [0..255] for integers).\n"
     ]
    },
    {
     "data": {
      "application/vnd.jupyter.widget-view+json": {
       "model_id": "97ce107ca79043bcb913d0183dc40b9b",
       "version_major": 2,
       "version_minor": 0
      },
      "text/plain": [
       "  0%|          | 0/79 [00:00<?, ?it/s]"
      ]
     },
     "metadata": {},
     "output_type": "display_data"
    },
    {
     "name": "stderr",
     "output_type": "stream",
     "text": [
      "<ipython-input-148-7db04d123dcc>:14: RuntimeWarning: Mean of empty slice\n",
      "  masks_shift = np.nanmean(np.stack(dice_scores), 1)\n",
      "Clipping input data to the valid range for imshow with RGB data ([0..1] for floats or [0..255] for integers).\n"
     ]
    },
    {
     "data": {
      "application/vnd.jupyter.widget-view+json": {
       "model_id": "efa074ffd69244a6a28616d852903b0e",
       "version_major": 2,
       "version_minor": 0
      },
      "text/plain": [
       "  0%|          | 0/143 [00:00<?, ?it/s]"
      ]
     },
     "metadata": {},
     "output_type": "display_data"
    },
    {
     "name": "stderr",
     "output_type": "stream",
     "text": [
      "<ipython-input-148-7db04d123dcc>:14: RuntimeWarning: Mean of empty slice\n",
      "  masks_shift = np.nanmean(np.stack(dice_scores), 1)\n"
     ]
    },
    {
     "data": {
      "application/vnd.jupyter.widget-view+json": {
       "model_id": "7b6a1d5e103a4be3b4a44cdc690f0def",
       "version_major": 2,
       "version_minor": 0
      },
      "text/plain": [
       "  0%|          | 0/143 [00:00<?, ?it/s]"
      ]
     },
     "metadata": {},
     "output_type": "display_data"
    },
    {
     "name": "stderr",
     "output_type": "stream",
     "text": [
      "<ipython-input-148-7db04d123dcc>:14: RuntimeWarning: Mean of empty slice\n",
      "  masks_shift = np.nanmean(np.stack(dice_scores), 1)\n",
      "Clipping input data to the valid range for imshow with RGB data ([0..1] for floats or [0..255] for integers).\n"
     ]
    },
    {
     "data": {
      "application/vnd.jupyter.widget-view+json": {
       "model_id": "d71ae7d055ce4c0980342d5d20ac5a03",
       "version_major": 2,
       "version_minor": 0
      },
      "text/plain": [
       "  0%|          | 0/143 [00:00<?, ?it/s]"
      ]
     },
     "metadata": {},
     "output_type": "display_data"
    },
    {
     "name": "stderr",
     "output_type": "stream",
     "text": [
      "<ipython-input-148-7db04d123dcc>:14: RuntimeWarning: Mean of empty slice\n",
      "  masks_shift = np.nanmean(np.stack(dice_scores), 1)\n"
     ]
    },
    {
     "data": {
      "application/vnd.jupyter.widget-view+json": {
       "model_id": "b09204c2d16543cbabda5a3b347259a2",
       "version_major": 2,
       "version_minor": 0
      },
      "text/plain": [
       "  0%|          | 0/143 [00:00<?, ?it/s]"
      ]
     },
     "metadata": {},
     "output_type": "display_data"
    },
    {
     "name": "stderr",
     "output_type": "stream",
     "text": [
      "<ipython-input-148-7db04d123dcc>:14: RuntimeWarning: Mean of empty slice\n",
      "  masks_shift = np.nanmean(np.stack(dice_scores), 1)\n"
     ]
    },
    {
     "data": {
      "application/vnd.jupyter.widget-view+json": {
       "model_id": "882d6c8745a649d0aa370613a2f06f39",
       "version_major": 2,
       "version_minor": 0
      },
      "text/plain": [
       "  0%|          | 0/143 [00:00<?, ?it/s]"
      ]
     },
     "metadata": {},
     "output_type": "display_data"
    },
    {
     "name": "stderr",
     "output_type": "stream",
     "text": [
      "<ipython-input-148-7db04d123dcc>:14: RuntimeWarning: Mean of empty slice\n",
      "  masks_shift = np.nanmean(np.stack(dice_scores), 1)\n",
      "Clipping input data to the valid range for imshow with RGB data ([0..1] for floats or [0..255] for integers).\n",
      "Clipping input data to the valid range for imshow with RGB data ([0..1] for floats or [0..255] for integers).\n"
     ]
    },
    {
     "data": {
      "application/vnd.jupyter.widget-view+json": {
       "model_id": "4f71f004c23b4f78909996879f3c46a8",
       "version_major": 2,
       "version_minor": 0
      },
      "text/plain": [
       "  0%|          | 0/143 [00:00<?, ?it/s]"
      ]
     },
     "metadata": {},
     "output_type": "display_data"
    },
    {
     "name": "stderr",
     "output_type": "stream",
     "text": [
      "<ipython-input-148-7db04d123dcc>:14: RuntimeWarning: Mean of empty slice\n",
      "  masks_shift = np.nanmean(np.stack(dice_scores), 1)\n"
     ]
    },
    {
     "data": {
      "application/vnd.jupyter.widget-view+json": {
       "model_id": "070d62c3c2a147d3896351e933293684",
       "version_major": 2,
       "version_minor": 0
      },
      "text/plain": [
       "  0%|          | 0/143 [00:00<?, ?it/s]"
      ]
     },
     "metadata": {},
     "output_type": "display_data"
    },
    {
     "name": "stderr",
     "output_type": "stream",
     "text": [
      "<ipython-input-148-7db04d123dcc>:14: RuntimeWarning: Mean of empty slice\n",
      "  masks_shift = np.nanmean(np.stack(dice_scores), 1)\n",
      "Clipping input data to the valid range for imshow with RGB data ([0..1] for floats or [0..255] for integers).\n",
      "Clipping input data to the valid range for imshow with RGB data ([0..1] for floats or [0..255] for integers).\n"
     ]
    },
    {
     "data": {
      "application/vnd.jupyter.widget-view+json": {
       "model_id": "c5688e51f91f4140ad3340a16162c363",
       "version_major": 2,
       "version_minor": 0
      },
      "text/plain": [
       "  0%|          | 0/143 [00:00<?, ?it/s]"
      ]
     },
     "metadata": {},
     "output_type": "display_data"
    },
    {
     "name": "stderr",
     "output_type": "stream",
     "text": [
      "<ipython-input-148-7db04d123dcc>:14: RuntimeWarning: Mean of empty slice\n",
      "  masks_shift = np.nanmean(np.stack(dice_scores), 1)\n",
      "Clipping input data to the valid range for imshow with RGB data ([0..1] for floats or [0..255] for integers).\n"
     ]
    },
    {
     "data": {
      "application/vnd.jupyter.widget-view+json": {
       "model_id": "b4a21dcca3ce43d29541bcf041a1fb2c",
       "version_major": 2,
       "version_minor": 0
      },
      "text/plain": [
       "  0%|          | 0/143 [00:00<?, ?it/s]"
      ]
     },
     "metadata": {},
     "output_type": "display_data"
    },
    {
     "name": "stderr",
     "output_type": "stream",
     "text": [
      "<ipython-input-148-7db04d123dcc>:14: RuntimeWarning: Mean of empty slice\n",
      "  masks_shift = np.nanmean(np.stack(dice_scores), 1)\n"
     ]
    },
    {
     "data": {
      "application/vnd.jupyter.widget-view+json": {
       "model_id": "ca630c2412c848598ea93ba407bf2c7c",
       "version_major": 2,
       "version_minor": 0
      },
      "text/plain": [
       "  0%|          | 0/143 [00:00<?, ?it/s]"
      ]
     },
     "metadata": {},
     "output_type": "display_data"
    },
    {
     "name": "stderr",
     "output_type": "stream",
     "text": [
      "<ipython-input-148-7db04d123dcc>:14: RuntimeWarning: Mean of empty slice\n",
      "  masks_shift = np.nanmean(np.stack(dice_scores), 1)\n"
     ]
    },
    {
     "data": {
      "application/vnd.jupyter.widget-view+json": {
       "model_id": "82c2347c66eb47df9026f45a33ac693b",
       "version_major": 2,
       "version_minor": 0
      },
      "text/plain": [
       "  0%|          | 0/143 [00:00<?, ?it/s]"
      ]
     },
     "metadata": {},
     "output_type": "display_data"
    },
    {
     "name": "stderr",
     "output_type": "stream",
     "text": [
      "<ipython-input-148-7db04d123dcc>:14: RuntimeWarning: Mean of empty slice\n",
      "  masks_shift = np.nanmean(np.stack(dice_scores), 1)\n"
     ]
    },
    {
     "data": {
      "application/vnd.jupyter.widget-view+json": {
       "model_id": "b3bf0a061c1147759133c7d936cc294d",
       "version_major": 2,
       "version_minor": 0
      },
      "text/plain": [
       "  0%|          | 0/143 [00:00<?, ?it/s]"
      ]
     },
     "metadata": {},
     "output_type": "display_data"
    },
    {
     "name": "stderr",
     "output_type": "stream",
     "text": [
      "<ipython-input-148-7db04d123dcc>:14: RuntimeWarning: Mean of empty slice\n",
      "  masks_shift = np.nanmean(np.stack(dice_scores), 1)\n",
      "Clipping input data to the valid range for imshow with RGB data ([0..1] for floats or [0..255] for integers).\n",
      "Clipping input data to the valid range for imshow with RGB data ([0..1] for floats or [0..255] for integers).\n"
     ]
    },
    {
     "data": {
      "application/vnd.jupyter.widget-view+json": {
       "model_id": "8983a6169cee41bb89d26212e52e5004",
       "version_major": 2,
       "version_minor": 0
      },
      "text/plain": [
       "  0%|          | 0/143 [00:00<?, ?it/s]"
      ]
     },
     "metadata": {},
     "output_type": "display_data"
    },
    {
     "name": "stderr",
     "output_type": "stream",
     "text": [
      "<ipython-input-148-7db04d123dcc>:14: RuntimeWarning: Mean of empty slice\n",
      "  masks_shift = np.nanmean(np.stack(dice_scores), 1)\n",
      "Clipping input data to the valid range for imshow with RGB data ([0..1] for floats or [0..255] for integers).\n",
      "Clipping input data to the valid range for imshow with RGB data ([0..1] for floats or [0..255] for integers).\n"
     ]
    },
    {
     "data": {
      "application/vnd.jupyter.widget-view+json": {
       "model_id": "58281e5ddb9844328a5c79fa3ae44026",
       "version_major": 2,
       "version_minor": 0
      },
      "text/plain": [
       "  0%|          | 0/143 [00:00<?, ?it/s]"
      ]
     },
     "metadata": {},
     "output_type": "display_data"
    },
    {
     "name": "stderr",
     "output_type": "stream",
     "text": [
      "<ipython-input-148-7db04d123dcc>:14: RuntimeWarning: Mean of empty slice\n",
      "  masks_shift = np.nanmean(np.stack(dice_scores), 1)\n",
      "Clipping input data to the valid range for imshow with RGB data ([0..1] for floats or [0..255] for integers).\n",
      "Clipping input data to the valid range for imshow with RGB data ([0..1] for floats or [0..255] for integers).\n"
     ]
    },
    {
     "data": {
      "application/vnd.jupyter.widget-view+json": {
       "model_id": "92da9ac81b6044e9b53e9724a4f7b499",
       "version_major": 2,
       "version_minor": 0
      },
      "text/plain": [
       "  0%|          | 0/143 [00:00<?, ?it/s]"
      ]
     },
     "metadata": {},
     "output_type": "display_data"
    },
    {
     "name": "stderr",
     "output_type": "stream",
     "text": [
      "<ipython-input-148-7db04d123dcc>:14: RuntimeWarning: Mean of empty slice\n",
      "  masks_shift = np.nanmean(np.stack(dice_scores), 1)\n"
     ]
    },
    {
     "data": {
      "application/vnd.jupyter.widget-view+json": {
       "model_id": "6a31acc011d445a8b434fe356926d15b",
       "version_major": 2,
       "version_minor": 0
      },
      "text/plain": [
       "  0%|          | 0/143 [00:00<?, ?it/s]"
      ]
     },
     "metadata": {},
     "output_type": "display_data"
    },
    {
     "name": "stderr",
     "output_type": "stream",
     "text": [
      "<ipython-input-148-7db04d123dcc>:14: RuntimeWarning: Mean of empty slice\n",
      "  masks_shift = np.nanmean(np.stack(dice_scores), 1)\n"
     ]
    },
    {
     "data": {
      "application/vnd.jupyter.widget-view+json": {
       "model_id": "5c4ca0dc81164208928f4be171629695",
       "version_major": 2,
       "version_minor": 0
      },
      "text/plain": [
       "  0%|          | 0/79 [00:00<?, ?it/s]"
      ]
     },
     "metadata": {},
     "output_type": "display_data"
    },
    {
     "name": "stderr",
     "output_type": "stream",
     "text": [
      "<ipython-input-148-7db04d123dcc>:14: RuntimeWarning: Mean of empty slice\n",
      "  masks_shift = np.nanmean(np.stack(dice_scores), 1)\n",
      "Clipping input data to the valid range for imshow with RGB data ([0..1] for floats or [0..255] for integers).\n"
     ]
    },
    {
     "data": {
      "application/vnd.jupyter.widget-view+json": {
       "model_id": "e531d0c69b6544c2afc2e9959949a8a7",
       "version_major": 2,
       "version_minor": 0
      },
      "text/plain": [
       "  0%|          | 0/143 [00:00<?, ?it/s]"
      ]
     },
     "metadata": {},
     "output_type": "display_data"
    },
    {
     "name": "stderr",
     "output_type": "stream",
     "text": [
      "<ipython-input-148-7db04d123dcc>:14: RuntimeWarning: Mean of empty slice\n",
      "  masks_shift = np.nanmean(np.stack(dice_scores), 1)\n"
     ]
    },
    {
     "data": {
      "application/vnd.jupyter.widget-view+json": {
       "model_id": "1b747d6c5879492d8ce37c7bf3892f29",
       "version_major": 2,
       "version_minor": 0
      },
      "text/plain": [
       "  0%|          | 0/143 [00:00<?, ?it/s]"
      ]
     },
     "metadata": {},
     "output_type": "display_data"
    },
    {
     "name": "stderr",
     "output_type": "stream",
     "text": [
      "<ipython-input-148-7db04d123dcc>:14: RuntimeWarning: Mean of empty slice\n",
      "  masks_shift = np.nanmean(np.stack(dice_scores), 1)\n"
     ]
    },
    {
     "data": {
      "application/vnd.jupyter.widget-view+json": {
       "model_id": "446706589162446093b2c32429b23503",
       "version_major": 2,
       "version_minor": 0
      },
      "text/plain": [
       "  0%|          | 0/143 [00:00<?, ?it/s]"
      ]
     },
     "metadata": {},
     "output_type": "display_data"
    },
    {
     "name": "stderr",
     "output_type": "stream",
     "text": [
      "<ipython-input-148-7db04d123dcc>:14: RuntimeWarning: Mean of empty slice\n",
      "  masks_shift = np.nanmean(np.stack(dice_scores), 1)\n"
     ]
    },
    {
     "data": {
      "application/vnd.jupyter.widget-view+json": {
       "model_id": "9deac8b451444b75930837580ec9a9b7",
       "version_major": 2,
       "version_minor": 0
      },
      "text/plain": [
       "  0%|          | 0/143 [00:00<?, ?it/s]"
      ]
     },
     "metadata": {},
     "output_type": "display_data"
    },
    {
     "name": "stderr",
     "output_type": "stream",
     "text": [
      "<ipython-input-148-7db04d123dcc>:14: RuntimeWarning: Mean of empty slice\n",
      "  masks_shift = np.nanmean(np.stack(dice_scores), 1)\n"
     ]
    },
    {
     "data": {
      "application/vnd.jupyter.widget-view+json": {
       "model_id": "8d4b8df9ae3c4d8297018d8045435886",
       "version_major": 2,
       "version_minor": 0
      },
      "text/plain": [
       "  0%|          | 0/79 [00:00<?, ?it/s]"
      ]
     },
     "metadata": {},
     "output_type": "display_data"
    },
    {
     "name": "stderr",
     "output_type": "stream",
     "text": [
      "<ipython-input-148-7db04d123dcc>:14: RuntimeWarning: Mean of empty slice\n",
      "  masks_shift = np.nanmean(np.stack(dice_scores), 1)\n",
      "Clipping input data to the valid range for imshow with RGB data ([0..1] for floats or [0..255] for integers).\n",
      "Clipping input data to the valid range for imshow with RGB data ([0..1] for floats or [0..255] for integers).\n"
     ]
    },
    {
     "data": {
      "application/vnd.jupyter.widget-view+json": {
       "model_id": "c5e5817e829d4d5daaf5ac97fda99c61",
       "version_major": 2,
       "version_minor": 0
      },
      "text/plain": [
       "  0%|          | 0/79 [00:00<?, ?it/s]"
      ]
     },
     "metadata": {},
     "output_type": "display_data"
    },
    {
     "name": "stderr",
     "output_type": "stream",
     "text": [
      "<ipython-input-148-7db04d123dcc>:14: RuntimeWarning: Mean of empty slice\n",
      "  masks_shift = np.nanmean(np.stack(dice_scores), 1)\n"
     ]
    },
    {
     "data": {
      "application/vnd.jupyter.widget-view+json": {
       "model_id": "11f08df86c744547b9b52c77e9c42818",
       "version_major": 2,
       "version_minor": 0
      },
      "text/plain": [
       "  0%|          | 0/79 [00:00<?, ?it/s]"
      ]
     },
     "metadata": {},
     "output_type": "display_data"
    },
    {
     "name": "stderr",
     "output_type": "stream",
     "text": [
      "<ipython-input-148-7db04d123dcc>:14: RuntimeWarning: Mean of empty slice\n",
      "  masks_shift = np.nanmean(np.stack(dice_scores), 1)\n",
      "Clipping input data to the valid range for imshow with RGB data ([0..1] for floats or [0..255] for integers).\n",
      "Clipping input data to the valid range for imshow with RGB data ([0..1] for floats or [0..255] for integers).\n"
     ]
    },
    {
     "data": {
      "application/vnd.jupyter.widget-view+json": {
       "model_id": "9d8c67e5266341d2b65438017776aa03",
       "version_major": 2,
       "version_minor": 0
      },
      "text/plain": [
       "  0%|          | 0/143 [00:00<?, ?it/s]"
      ]
     },
     "metadata": {},
     "output_type": "display_data"
    },
    {
     "name": "stderr",
     "output_type": "stream",
     "text": [
      "<ipython-input-148-7db04d123dcc>:14: RuntimeWarning: Mean of empty slice\n",
      "  masks_shift = np.nanmean(np.stack(dice_scores), 1)\n"
     ]
    },
    {
     "data": {
      "application/vnd.jupyter.widget-view+json": {
       "model_id": "1f443b8d87c34f2bbf87c3f0e510af36",
       "version_major": 2,
       "version_minor": 0
      },
      "text/plain": [
       "  0%|          | 0/143 [00:00<?, ?it/s]"
      ]
     },
     "metadata": {},
     "output_type": "display_data"
    },
    {
     "name": "stderr",
     "output_type": "stream",
     "text": [
      "<ipython-input-148-7db04d123dcc>:14: RuntimeWarning: Mean of empty slice\n",
      "  masks_shift = np.nanmean(np.stack(dice_scores), 1)\n",
      "Clipping input data to the valid range for imshow with RGB data ([0..1] for floats or [0..255] for integers).\n"
     ]
    },
    {
     "data": {
      "application/vnd.jupyter.widget-view+json": {
       "model_id": "cfd75f8a159e45f883af45d50fee1b1f",
       "version_major": 2,
       "version_minor": 0
      },
      "text/plain": [
       "  0%|          | 0/143 [00:00<?, ?it/s]"
      ]
     },
     "metadata": {},
     "output_type": "display_data"
    },
    {
     "name": "stderr",
     "output_type": "stream",
     "text": [
      "<ipython-input-148-7db04d123dcc>:14: RuntimeWarning: Mean of empty slice\n",
      "  masks_shift = np.nanmean(np.stack(dice_scores), 1)\n"
     ]
    },
    {
     "data": {
      "application/vnd.jupyter.widget-view+json": {
       "model_id": "8023533c754d4328beedcd16bcad64aa",
       "version_major": 2,
       "version_minor": 0
      },
      "text/plain": [
       "  0%|          | 0/143 [00:00<?, ?it/s]"
      ]
     },
     "metadata": {},
     "output_type": "display_data"
    },
    {
     "name": "stderr",
     "output_type": "stream",
     "text": [
      "<ipython-input-148-7db04d123dcc>:14: RuntimeWarning: Mean of empty slice\n",
      "  masks_shift = np.nanmean(np.stack(dice_scores), 1)\n"
     ]
    },
    {
     "data": {
      "application/vnd.jupyter.widget-view+json": {
       "model_id": "38facdda335343bfb948de4e3f4e9d9d",
       "version_major": 2,
       "version_minor": 0
      },
      "text/plain": [
       "  0%|          | 0/143 [00:00<?, ?it/s]"
      ]
     },
     "metadata": {},
     "output_type": "display_data"
    },
    {
     "name": "stderr",
     "output_type": "stream",
     "text": [
      "<ipython-input-148-7db04d123dcc>:14: RuntimeWarning: Mean of empty slice\n",
      "  masks_shift = np.nanmean(np.stack(dice_scores), 1)\n"
     ]
    },
    {
     "data": {
      "application/vnd.jupyter.widget-view+json": {
       "model_id": "2c74fe1e48874c3ebbe69867057a031a",
       "version_major": 2,
       "version_minor": 0
      },
      "text/plain": [
       "  0%|          | 0/143 [00:00<?, ?it/s]"
      ]
     },
     "metadata": {},
     "output_type": "display_data"
    },
    {
     "name": "stderr",
     "output_type": "stream",
     "text": [
      "<ipython-input-148-7db04d123dcc>:14: RuntimeWarning: Mean of empty slice\n",
      "  masks_shift = np.nanmean(np.stack(dice_scores), 1)\n"
     ]
    },
    {
     "data": {
      "application/vnd.jupyter.widget-view+json": {
       "model_id": "1de34c0dd19c4647b07e7697e9ca51c7",
       "version_major": 2,
       "version_minor": 0
      },
      "text/plain": [
       "  0%|          | 0/143 [00:00<?, ?it/s]"
      ]
     },
     "metadata": {},
     "output_type": "display_data"
    },
    {
     "name": "stderr",
     "output_type": "stream",
     "text": [
      "<ipython-input-148-7db04d123dcc>:14: RuntimeWarning: Mean of empty slice\n",
      "  masks_shift = np.nanmean(np.stack(dice_scores), 1)\n",
      "Clipping input data to the valid range for imshow with RGB data ([0..1] for floats or [0..255] for integers).\n"
     ]
    },
    {
     "data": {
      "application/vnd.jupyter.widget-view+json": {
       "model_id": "3e28df8da61b4284ab14177f65c5125a",
       "version_major": 2,
       "version_minor": 0
      },
      "text/plain": [
       "  0%|          | 0/143 [00:00<?, ?it/s]"
      ]
     },
     "metadata": {},
     "output_type": "display_data"
    },
    {
     "name": "stderr",
     "output_type": "stream",
     "text": [
      "<ipython-input-148-7db04d123dcc>:14: RuntimeWarning: Mean of empty slice\n",
      "  masks_shift = np.nanmean(np.stack(dice_scores), 1)\n"
     ]
    },
    {
     "data": {
      "application/vnd.jupyter.widget-view+json": {
       "model_id": "738648d1a1fd4b5794b58fad66b9f0e0",
       "version_major": 2,
       "version_minor": 0
      },
      "text/plain": [
       "  0%|          | 0/143 [00:00<?, ?it/s]"
      ]
     },
     "metadata": {},
     "output_type": "display_data"
    },
    {
     "name": "stderr",
     "output_type": "stream",
     "text": [
      "<ipython-input-148-7db04d123dcc>:14: RuntimeWarning: Mean of empty slice\n",
      "  masks_shift = np.nanmean(np.stack(dice_scores), 1)\n",
      "Clipping input data to the valid range for imshow with RGB data ([0..1] for floats or [0..255] for integers).\n"
     ]
    },
    {
     "data": {
      "application/vnd.jupyter.widget-view+json": {
       "model_id": "a025885821844d87890ce0dcea3dbfa7",
       "version_major": 2,
       "version_minor": 0
      },
      "text/plain": [
       "  0%|          | 0/143 [00:00<?, ?it/s]"
      ]
     },
     "metadata": {},
     "output_type": "display_data"
    },
    {
     "name": "stderr",
     "output_type": "stream",
     "text": [
      "<ipython-input-148-7db04d123dcc>:14: RuntimeWarning: Mean of empty slice\n",
      "  masks_shift = np.nanmean(np.stack(dice_scores), 1)\n"
     ]
    },
    {
     "data": {
      "application/vnd.jupyter.widget-view+json": {
       "model_id": "3c3bdf2f7592405a9ca38695e5beab85",
       "version_major": 2,
       "version_minor": 0
      },
      "text/plain": [
       "  0%|          | 0/143 [00:00<?, ?it/s]"
      ]
     },
     "metadata": {},
     "output_type": "display_data"
    },
    {
     "name": "stderr",
     "output_type": "stream",
     "text": [
      "<ipython-input-148-7db04d123dcc>:14: RuntimeWarning: Mean of empty slice\n",
      "  masks_shift = np.nanmean(np.stack(dice_scores), 1)\n"
     ]
    },
    {
     "data": {
      "application/vnd.jupyter.widget-view+json": {
       "model_id": "3e403ff16d6d4ecd94f503e9e6d6cd37",
       "version_major": 2,
       "version_minor": 0
      },
      "text/plain": [
       "  0%|          | 0/143 [00:00<?, ?it/s]"
      ]
     },
     "metadata": {},
     "output_type": "display_data"
    },
    {
     "name": "stderr",
     "output_type": "stream",
     "text": [
      "<ipython-input-148-7db04d123dcc>:14: RuntimeWarning: Mean of empty slice\n",
      "  masks_shift = np.nanmean(np.stack(dice_scores), 1)\n"
     ]
    },
    {
     "data": {
      "application/vnd.jupyter.widget-view+json": {
       "model_id": "6f7b055279134970b87f78e82f9fec7e",
       "version_major": 2,
       "version_minor": 0
      },
      "text/plain": [
       "  0%|          | 0/143 [00:00<?, ?it/s]"
      ]
     },
     "metadata": {},
     "output_type": "display_data"
    },
    {
     "name": "stderr",
     "output_type": "stream",
     "text": [
      "<ipython-input-148-7db04d123dcc>:14: RuntimeWarning: Mean of empty slice\n",
      "  masks_shift = np.nanmean(np.stack(dice_scores), 1)\n"
     ]
    },
    {
     "data": {
      "application/vnd.jupyter.widget-view+json": {
       "model_id": "c93aa1e2c8c04973bf2fe4dc46d3d7c2",
       "version_major": 2,
       "version_minor": 0
      },
      "text/plain": [
       "  0%|          | 0/143 [00:00<?, ?it/s]"
      ]
     },
     "metadata": {},
     "output_type": "display_data"
    },
    {
     "name": "stderr",
     "output_type": "stream",
     "text": [
      "<ipython-input-148-7db04d123dcc>:14: RuntimeWarning: Mean of empty slice\n",
      "  masks_shift = np.nanmean(np.stack(dice_scores), 1)\n",
      "Clipping input data to the valid range for imshow with RGB data ([0..1] for floats or [0..255] for integers).\n",
      "Clipping input data to the valid range for imshow with RGB data ([0..1] for floats or [0..255] for integers).\n",
      "Clipping input data to the valid range for imshow with RGB data ([0..1] for floats or [0..255] for integers).\n"
     ]
    },
    {
     "data": {
      "application/vnd.jupyter.widget-view+json": {
       "model_id": "2f1fd55062e74bb39787f8e38c8363cf",
       "version_major": 2,
       "version_minor": 0
      },
      "text/plain": [
       "  0%|          | 0/143 [00:00<?, ?it/s]"
      ]
     },
     "metadata": {},
     "output_type": "display_data"
    },
    {
     "name": "stderr",
     "output_type": "stream",
     "text": [
      "<ipython-input-148-7db04d123dcc>:14: RuntimeWarning: Mean of empty slice\n",
      "  masks_shift = np.nanmean(np.stack(dice_scores), 1)\n"
     ]
    },
    {
     "data": {
      "application/vnd.jupyter.widget-view+json": {
       "model_id": "475a202dc2e94ce4b4a0108d5516e728",
       "version_major": 2,
       "version_minor": 0
      },
      "text/plain": [
       "  0%|          | 0/143 [00:00<?, ?it/s]"
      ]
     },
     "metadata": {},
     "output_type": "display_data"
    },
    {
     "name": "stderr",
     "output_type": "stream",
     "text": [
      "<ipython-input-148-7db04d123dcc>:14: RuntimeWarning: Mean of empty slice\n",
      "  masks_shift = np.nanmean(np.stack(dice_scores), 1)\n"
     ]
    },
    {
     "data": {
      "application/vnd.jupyter.widget-view+json": {
       "model_id": "8e03b022bad044b6b411905d816d3745",
       "version_major": 2,
       "version_minor": 0
      },
      "text/plain": [
       "  0%|          | 0/143 [00:00<?, ?it/s]"
      ]
     },
     "metadata": {},
     "output_type": "display_data"
    },
    {
     "name": "stderr",
     "output_type": "stream",
     "text": [
      "<ipython-input-148-7db04d123dcc>:14: RuntimeWarning: Mean of empty slice\n",
      "  masks_shift = np.nanmean(np.stack(dice_scores), 1)\n",
      "Clipping input data to the valid range for imshow with RGB data ([0..1] for floats or [0..255] for integers).\n",
      "Clipping input data to the valid range for imshow with RGB data ([0..1] for floats or [0..255] for integers).\n"
     ]
    },
    {
     "data": {
      "application/vnd.jupyter.widget-view+json": {
       "model_id": "61de55ba957a477ba6e3e3f99b3fef7a",
       "version_major": 2,
       "version_minor": 0
      },
      "text/plain": [
       "  0%|          | 0/143 [00:00<?, ?it/s]"
      ]
     },
     "metadata": {},
     "output_type": "display_data"
    },
    {
     "name": "stderr",
     "output_type": "stream",
     "text": [
      "<ipython-input-148-7db04d123dcc>:14: RuntimeWarning: Mean of empty slice\n",
      "  masks_shift = np.nanmean(np.stack(dice_scores), 1)\n"
     ]
    },
    {
     "data": {
      "application/vnd.jupyter.widget-view+json": {
       "model_id": "bc7eb6ce1653423bbaba4c0d940db321",
       "version_major": 2,
       "version_minor": 0
      },
      "text/plain": [
       "  0%|          | 0/143 [00:00<?, ?it/s]"
      ]
     },
     "metadata": {},
     "output_type": "display_data"
    },
    {
     "name": "stderr",
     "output_type": "stream",
     "text": [
      "<ipython-input-148-7db04d123dcc>:14: RuntimeWarning: Mean of empty slice\n",
      "  masks_shift = np.nanmean(np.stack(dice_scores), 1)\n",
      "Clipping input data to the valid range for imshow with RGB data ([0..1] for floats or [0..255] for integers).\n"
     ]
    },
    {
     "data": {
      "application/vnd.jupyter.widget-view+json": {
       "model_id": "5d306109ad3147ceac789b2c059ab322",
       "version_major": 2,
       "version_minor": 0
      },
      "text/plain": [
       "  0%|          | 0/143 [00:00<?, ?it/s]"
      ]
     },
     "metadata": {},
     "output_type": "display_data"
    },
    {
     "name": "stderr",
     "output_type": "stream",
     "text": [
      "<ipython-input-148-7db04d123dcc>:14: RuntimeWarning: Mean of empty slice\n",
      "  masks_shift = np.nanmean(np.stack(dice_scores), 1)\n"
     ]
    },
    {
     "data": {
      "application/vnd.jupyter.widget-view+json": {
       "model_id": "cf55c1230bcf4ec7b84b48ec6dfd4143",
       "version_major": 2,
       "version_minor": 0
      },
      "text/plain": [
       "  0%|          | 0/143 [00:00<?, ?it/s]"
      ]
     },
     "metadata": {},
     "output_type": "display_data"
    },
    {
     "name": "stderr",
     "output_type": "stream",
     "text": [
      "<ipython-input-148-7db04d123dcc>:14: RuntimeWarning: Mean of empty slice\n",
      "  masks_shift = np.nanmean(np.stack(dice_scores), 1)\n"
     ]
    },
    {
     "data": {
      "application/vnd.jupyter.widget-view+json": {
       "model_id": "1388997c15994f4081eb5d8b4f579c80",
       "version_major": 2,
       "version_minor": 0
      },
      "text/plain": [
       "  0%|          | 0/143 [00:00<?, ?it/s]"
      ]
     },
     "metadata": {},
     "output_type": "display_data"
    },
    {
     "name": "stderr",
     "output_type": "stream",
     "text": [
      "<ipython-input-148-7db04d123dcc>:14: RuntimeWarning: Mean of empty slice\n",
      "  masks_shift = np.nanmean(np.stack(dice_scores), 1)\n"
     ]
    },
    {
     "data": {
      "application/vnd.jupyter.widget-view+json": {
       "model_id": "c2731f5e575240c4a28baaa76ec514ac",
       "version_major": 2,
       "version_minor": 0
      },
      "text/plain": [
       "  0%|          | 0/143 [00:00<?, ?it/s]"
      ]
     },
     "metadata": {},
     "output_type": "display_data"
    },
    {
     "name": "stderr",
     "output_type": "stream",
     "text": [
      "<ipython-input-148-7db04d123dcc>:14: RuntimeWarning: Mean of empty slice\n",
      "  masks_shift = np.nanmean(np.stack(dice_scores), 1)\n",
      "Clipping input data to the valid range for imshow with RGB data ([0..1] for floats or [0..255] for integers).\n"
     ]
    },
    {
     "data": {
      "application/vnd.jupyter.widget-view+json": {
       "model_id": "b63fd42507584e6e8b7e1d7c3c8cfb4a",
       "version_major": 2,
       "version_minor": 0
      },
      "text/plain": [
       "  0%|          | 0/79 [00:00<?, ?it/s]"
      ]
     },
     "metadata": {},
     "output_type": "display_data"
    },
    {
     "name": "stderr",
     "output_type": "stream",
     "text": [
      "<ipython-input-148-7db04d123dcc>:14: RuntimeWarning: Mean of empty slice\n",
      "  masks_shift = np.nanmean(np.stack(dice_scores), 1)\n",
      "Clipping input data to the valid range for imshow with RGB data ([0..1] for floats or [0..255] for integers).\n"
     ]
    },
    {
     "data": {
      "application/vnd.jupyter.widget-view+json": {
       "model_id": "8554a38b4818491cb03b0c296b0f239e",
       "version_major": 2,
       "version_minor": 0
      },
      "text/plain": [
       "  0%|          | 0/143 [00:00<?, ?it/s]"
      ]
     },
     "metadata": {},
     "output_type": "display_data"
    },
    {
     "name": "stderr",
     "output_type": "stream",
     "text": [
      "<ipython-input-148-7db04d123dcc>:14: RuntimeWarning: Mean of empty slice\n",
      "  masks_shift = np.nanmean(np.stack(dice_scores), 1)\n",
      "Clipping input data to the valid range for imshow with RGB data ([0..1] for floats or [0..255] for integers).\n"
     ]
    },
    {
     "data": {
      "application/vnd.jupyter.widget-view+json": {
       "model_id": "325322ca5d9a490684021d0454068d6e",
       "version_major": 2,
       "version_minor": 0
      },
      "text/plain": [
       "  0%|          | 0/143 [00:00<?, ?it/s]"
      ]
     },
     "metadata": {},
     "output_type": "display_data"
    },
    {
     "name": "stderr",
     "output_type": "stream",
     "text": [
      "<ipython-input-148-7db04d123dcc>:14: RuntimeWarning: Mean of empty slice\n",
      "  masks_shift = np.nanmean(np.stack(dice_scores), 1)\n"
     ]
    },
    {
     "data": {
      "application/vnd.jupyter.widget-view+json": {
       "model_id": "b24a6f06bb8c48298b228b6adbfcc1f8",
       "version_major": 2,
       "version_minor": 0
      },
      "text/plain": [
       "  0%|          | 0/143 [00:00<?, ?it/s]"
      ]
     },
     "metadata": {},
     "output_type": "display_data"
    },
    {
     "name": "stderr",
     "output_type": "stream",
     "text": [
      "<ipython-input-148-7db04d123dcc>:14: RuntimeWarning: Mean of empty slice\n",
      "  masks_shift = np.nanmean(np.stack(dice_scores), 1)\n",
      "Clipping input data to the valid range for imshow with RGB data ([0..1] for floats or [0..255] for integers).\n",
      "Clipping input data to the valid range for imshow with RGB data ([0..1] for floats or [0..255] for integers).\n",
      "Clipping input data to the valid range for imshow with RGB data ([0..1] for floats or [0..255] for integers).\n"
     ]
    },
    {
     "data": {
      "application/vnd.jupyter.widget-view+json": {
       "model_id": "9c072f5af39d4d42976f0bb902eb4f37",
       "version_major": 2,
       "version_minor": 0
      },
      "text/plain": [
       "  0%|          | 0/143 [00:00<?, ?it/s]"
      ]
     },
     "metadata": {},
     "output_type": "display_data"
    },
    {
     "name": "stderr",
     "output_type": "stream",
     "text": [
      "<ipython-input-148-7db04d123dcc>:14: RuntimeWarning: Mean of empty slice\n",
      "  masks_shift = np.nanmean(np.stack(dice_scores), 1)\n",
      "Clipping input data to the valid range for imshow with RGB data ([0..1] for floats or [0..255] for integers).\n",
      "Clipping input data to the valid range for imshow with RGB data ([0..1] for floats or [0..255] for integers).\n",
      "Clipping input data to the valid range for imshow with RGB data ([0..1] for floats or [0..255] for integers).\n",
      "Clipping input data to the valid range for imshow with RGB data ([0..1] for floats or [0..255] for integers).\n",
      "Clipping input data to the valid range for imshow with RGB data ([0..1] for floats or [0..255] for integers).\n",
      "Clipping input data to the valid range for imshow with RGB data ([0..1] for floats or [0..255] for integers).\n",
      "Clipping input data to the valid range for imshow with RGB data ([0..1] for floats or [0..255] for integers).\n",
      "Clipping input data to the valid range for imshow with RGB data ([0..1] for floats or [0..255] for integers).\n",
      "Clipping input data to the valid range for imshow with RGB data ([0..1] for floats or [0..255] for integers).\n"
     ]
    },
    {
     "data": {
      "application/vnd.jupyter.widget-view+json": {
       "model_id": "55f67d570ba44f97b81098fdb7af03ff",
       "version_major": 2,
       "version_minor": 0
      },
      "text/plain": [
       "  0%|          | 0/143 [00:00<?, ?it/s]"
      ]
     },
     "metadata": {},
     "output_type": "display_data"
    },
    {
     "name": "stderr",
     "output_type": "stream",
     "text": [
      "<ipython-input-148-7db04d123dcc>:14: RuntimeWarning: Mean of empty slice\n",
      "  masks_shift = np.nanmean(np.stack(dice_scores), 1)\n",
      "Clipping input data to the valid range for imshow with RGB data ([0..1] for floats or [0..255] for integers).\n",
      "Clipping input data to the valid range for imshow with RGB data ([0..1] for floats or [0..255] for integers).\n",
      "Clipping input data to the valid range for imshow with RGB data ([0..1] for floats or [0..255] for integers).\n"
     ]
    },
    {
     "data": {
      "application/vnd.jupyter.widget-view+json": {
       "model_id": "6d1d42745f3146ce99ee11eeb9194129",
       "version_major": 2,
       "version_minor": 0
      },
      "text/plain": [
       "  0%|          | 0/143 [00:00<?, ?it/s]"
      ]
     },
     "metadata": {},
     "output_type": "display_data"
    },
    {
     "name": "stderr",
     "output_type": "stream",
     "text": [
      "<ipython-input-148-7db04d123dcc>:14: RuntimeWarning: Mean of empty slice\n",
      "  masks_shift = np.nanmean(np.stack(dice_scores), 1)\n",
      "Clipping input data to the valid range for imshow with RGB data ([0..1] for floats or [0..255] for integers).\n",
      "Clipping input data to the valid range for imshow with RGB data ([0..1] for floats or [0..255] for integers).\n"
     ]
    },
    {
     "data": {
      "application/vnd.jupyter.widget-view+json": {
       "model_id": "f97b6b893b864955b1877a67e93b902d",
       "version_major": 2,
       "version_minor": 0
      },
      "text/plain": [
       "  0%|          | 0/143 [00:00<?, ?it/s]"
      ]
     },
     "metadata": {},
     "output_type": "display_data"
    },
    {
     "name": "stderr",
     "output_type": "stream",
     "text": [
      "<ipython-input-148-7db04d123dcc>:14: RuntimeWarning: Mean of empty slice\n",
      "  masks_shift = np.nanmean(np.stack(dice_scores), 1)\n",
      "Clipping input data to the valid range for imshow with RGB data ([0..1] for floats or [0..255] for integers).\n",
      "Clipping input data to the valid range for imshow with RGB data ([0..1] for floats or [0..255] for integers).\n",
      "Clipping input data to the valid range for imshow with RGB data ([0..1] for floats or [0..255] for integers).\n"
     ]
    },
    {
     "data": {
      "application/vnd.jupyter.widget-view+json": {
       "model_id": "f6590827743d4fcc9d5f75868b3ef52d",
       "version_major": 2,
       "version_minor": 0
      },
      "text/plain": [
       "  0%|          | 0/143 [00:00<?, ?it/s]"
      ]
     },
     "metadata": {},
     "output_type": "display_data"
    },
    {
     "name": "stderr",
     "output_type": "stream",
     "text": [
      "<ipython-input-148-7db04d123dcc>:14: RuntimeWarning: Mean of empty slice\n",
      "  masks_shift = np.nanmean(np.stack(dice_scores), 1)\n"
     ]
    },
    {
     "data": {
      "application/vnd.jupyter.widget-view+json": {
       "model_id": "599268f485ad416a9777181c537ed54f",
       "version_major": 2,
       "version_minor": 0
      },
      "text/plain": [
       "  0%|          | 0/143 [00:00<?, ?it/s]"
      ]
     },
     "metadata": {},
     "output_type": "display_data"
    },
    {
     "name": "stderr",
     "output_type": "stream",
     "text": [
      "<ipython-input-148-7db04d123dcc>:14: RuntimeWarning: Mean of empty slice\n",
      "  masks_shift = np.nanmean(np.stack(dice_scores), 1)\n",
      "Clipping input data to the valid range for imshow with RGB data ([0..1] for floats or [0..255] for integers).\n",
      "Clipping input data to the valid range for imshow with RGB data ([0..1] for floats or [0..255] for integers).\n",
      "Clipping input data to the valid range for imshow with RGB data ([0..1] for floats or [0..255] for integers).\n"
     ]
    },
    {
     "data": {
      "application/vnd.jupyter.widget-view+json": {
       "model_id": "cc34496ab0fc467ab6edddd774b9d551",
       "version_major": 2,
       "version_minor": 0
      },
      "text/plain": [
       "  0%|          | 0/143 [00:00<?, ?it/s]"
      ]
     },
     "metadata": {},
     "output_type": "display_data"
    },
    {
     "name": "stderr",
     "output_type": "stream",
     "text": [
      "<ipython-input-148-7db04d123dcc>:14: RuntimeWarning: Mean of empty slice\n",
      "  masks_shift = np.nanmean(np.stack(dice_scores), 1)\n",
      "Clipping input data to the valid range for imshow with RGB data ([0..1] for floats or [0..255] for integers).\n"
     ]
    },
    {
     "data": {
      "application/vnd.jupyter.widget-view+json": {
       "model_id": "625d204d63e94d058b94cd3b581e1a4b",
       "version_major": 2,
       "version_minor": 0
      },
      "text/plain": [
       "  0%|          | 0/143 [00:00<?, ?it/s]"
      ]
     },
     "metadata": {},
     "output_type": "display_data"
    },
    {
     "name": "stderr",
     "output_type": "stream",
     "text": [
      "<ipython-input-148-7db04d123dcc>:14: RuntimeWarning: Mean of empty slice\n",
      "  masks_shift = np.nanmean(np.stack(dice_scores), 1)\n"
     ]
    },
    {
     "data": {
      "application/vnd.jupyter.widget-view+json": {
       "model_id": "6c74c9da1fd94d50881b44b8866c6c03",
       "version_major": 2,
       "version_minor": 0
      },
      "text/plain": [
       "  0%|          | 0/143 [00:00<?, ?it/s]"
      ]
     },
     "metadata": {},
     "output_type": "display_data"
    },
    {
     "name": "stderr",
     "output_type": "stream",
     "text": [
      "<ipython-input-148-7db04d123dcc>:14: RuntimeWarning: Mean of empty slice\n",
      "  masks_shift = np.nanmean(np.stack(dice_scores), 1)\n"
     ]
    },
    {
     "data": {
      "application/vnd.jupyter.widget-view+json": {
       "model_id": "259c0c7e4975493180d9132730e90d2a",
       "version_major": 2,
       "version_minor": 0
      },
      "text/plain": [
       "  0%|          | 0/143 [00:00<?, ?it/s]"
      ]
     },
     "metadata": {},
     "output_type": "display_data"
    },
    {
     "name": "stderr",
     "output_type": "stream",
     "text": [
      "<ipython-input-148-7db04d123dcc>:14: RuntimeWarning: Mean of empty slice\n",
      "  masks_shift = np.nanmean(np.stack(dice_scores), 1)\n",
      "Clipping input data to the valid range for imshow with RGB data ([0..1] for floats or [0..255] for integers).\n"
     ]
    },
    {
     "data": {
      "application/vnd.jupyter.widget-view+json": {
       "model_id": "4ee4e765a6a54190b67d0c14a8a02f3e",
       "version_major": 2,
       "version_minor": 0
      },
      "text/plain": [
       "  0%|          | 0/143 [00:00<?, ?it/s]"
      ]
     },
     "metadata": {},
     "output_type": "display_data"
    },
    {
     "name": "stderr",
     "output_type": "stream",
     "text": [
      "<ipython-input-148-7db04d123dcc>:14: RuntimeWarning: Mean of empty slice\n",
      "  masks_shift = np.nanmean(np.stack(dice_scores), 1)\n"
     ]
    },
    {
     "data": {
      "application/vnd.jupyter.widget-view+json": {
       "model_id": "3cda59c7e1c24bed84289a2faf1aa1a5",
       "version_major": 2,
       "version_minor": 0
      },
      "text/plain": [
       "  0%|          | 0/143 [00:00<?, ?it/s]"
      ]
     },
     "metadata": {},
     "output_type": "display_data"
    },
    {
     "name": "stderr",
     "output_type": "stream",
     "text": [
      "<ipython-input-148-7db04d123dcc>:14: RuntimeWarning: Mean of empty slice\n",
      "  masks_shift = np.nanmean(np.stack(dice_scores), 1)\n"
     ]
    },
    {
     "data": {
      "application/vnd.jupyter.widget-view+json": {
       "model_id": "c5da3cdab28c4953978171aada34a567",
       "version_major": 2,
       "version_minor": 0
      },
      "text/plain": [
       "  0%|          | 0/143 [00:00<?, ?it/s]"
      ]
     },
     "metadata": {},
     "output_type": "display_data"
    },
    {
     "name": "stderr",
     "output_type": "stream",
     "text": [
      "<ipython-input-148-7db04d123dcc>:14: RuntimeWarning: Mean of empty slice\n",
      "  masks_shift = np.nanmean(np.stack(dice_scores), 1)\n"
     ]
    },
    {
     "data": {
      "application/vnd.jupyter.widget-view+json": {
       "model_id": "b637b9462d024092bd3225632da994b6",
       "version_major": 2,
       "version_minor": 0
      },
      "text/plain": [
       "  0%|          | 0/143 [00:00<?, ?it/s]"
      ]
     },
     "metadata": {},
     "output_type": "display_data"
    },
    {
     "name": "stderr",
     "output_type": "stream",
     "text": [
      "<ipython-input-148-7db04d123dcc>:14: RuntimeWarning: Mean of empty slice\n",
      "  masks_shift = np.nanmean(np.stack(dice_scores), 1)\n"
     ]
    },
    {
     "data": {
      "application/vnd.jupyter.widget-view+json": {
       "model_id": "a2c26e3e84594c74ac8cfd488bcdadee",
       "version_major": 2,
       "version_minor": 0
      },
      "text/plain": [
       "  0%|          | 0/143 [00:00<?, ?it/s]"
      ]
     },
     "metadata": {},
     "output_type": "display_data"
    },
    {
     "name": "stderr",
     "output_type": "stream",
     "text": [
      "<ipython-input-148-7db04d123dcc>:14: RuntimeWarning: Mean of empty slice\n",
      "  masks_shift = np.nanmean(np.stack(dice_scores), 1)\n"
     ]
    },
    {
     "data": {
      "application/vnd.jupyter.widget-view+json": {
       "model_id": "ca2e234b72b1413d946a3cf4b223fafa",
       "version_major": 2,
       "version_minor": 0
      },
      "text/plain": [
       "  0%|          | 0/143 [00:00<?, ?it/s]"
      ]
     },
     "metadata": {},
     "output_type": "display_data"
    },
    {
     "name": "stderr",
     "output_type": "stream",
     "text": [
      "<ipython-input-148-7db04d123dcc>:14: RuntimeWarning: Mean of empty slice\n",
      "  masks_shift = np.nanmean(np.stack(dice_scores), 1)\n"
     ]
    },
    {
     "data": {
      "application/vnd.jupyter.widget-view+json": {
       "model_id": "ec574751695d41b48d6278cc2915fbe2",
       "version_major": 2,
       "version_minor": 0
      },
      "text/plain": [
       "  0%|          | 0/143 [00:00<?, ?it/s]"
      ]
     },
     "metadata": {},
     "output_type": "display_data"
    },
    {
     "name": "stderr",
     "output_type": "stream",
     "text": [
      "<ipython-input-148-7db04d123dcc>:14: RuntimeWarning: Mean of empty slice\n",
      "  masks_shift = np.nanmean(np.stack(dice_scores), 1)\n",
      "Clipping input data to the valid range for imshow with RGB data ([0..1] for floats or [0..255] for integers).\n"
     ]
    },
    {
     "data": {
      "application/vnd.jupyter.widget-view+json": {
       "model_id": "fe9a6b21da634aefab7fa27185e21e8a",
       "version_major": 2,
       "version_minor": 0
      },
      "text/plain": [
       "  0%|          | 0/143 [00:00<?, ?it/s]"
      ]
     },
     "metadata": {},
     "output_type": "display_data"
    },
    {
     "name": "stderr",
     "output_type": "stream",
     "text": [
      "<ipython-input-148-7db04d123dcc>:14: RuntimeWarning: Mean of empty slice\n",
      "  masks_shift = np.nanmean(np.stack(dice_scores), 1)\n"
     ]
    },
    {
     "data": {
      "application/vnd.jupyter.widget-view+json": {
       "model_id": "1b690a566f4a40f6935716cfe0b0ec73",
       "version_major": 2,
       "version_minor": 0
      },
      "text/plain": [
       "  0%|          | 0/143 [00:00<?, ?it/s]"
      ]
     },
     "metadata": {},
     "output_type": "display_data"
    },
    {
     "name": "stderr",
     "output_type": "stream",
     "text": [
      "<ipython-input-148-7db04d123dcc>:14: RuntimeWarning: Mean of empty slice\n",
      "  masks_shift = np.nanmean(np.stack(dice_scores), 1)\n"
     ]
    },
    {
     "data": {
      "application/vnd.jupyter.widget-view+json": {
       "model_id": "2d87f6f9382b40d9a876435e50264084",
       "version_major": 2,
       "version_minor": 0
      },
      "text/plain": [
       "  0%|          | 0/143 [00:00<?, ?it/s]"
      ]
     },
     "metadata": {},
     "output_type": "display_data"
    },
    {
     "name": "stderr",
     "output_type": "stream",
     "text": [
      "<ipython-input-148-7db04d123dcc>:14: RuntimeWarning: Mean of empty slice\n",
      "  masks_shift = np.nanmean(np.stack(dice_scores), 1)\n"
     ]
    },
    {
     "data": {
      "application/vnd.jupyter.widget-view+json": {
       "model_id": "e021d5e604d5475b9429739606de0a9e",
       "version_major": 2,
       "version_minor": 0
      },
      "text/plain": [
       "  0%|          | 0/143 [00:00<?, ?it/s]"
      ]
     },
     "metadata": {},
     "output_type": "display_data"
    },
    {
     "name": "stderr",
     "output_type": "stream",
     "text": [
      "<ipython-input-148-7db04d123dcc>:14: RuntimeWarning: Mean of empty slice\n",
      "  masks_shift = np.nanmean(np.stack(dice_scores), 1)\n"
     ]
    },
    {
     "data": {
      "application/vnd.jupyter.widget-view+json": {
       "model_id": "0d85bf219b0944d7b7273ccc7f63019b",
       "version_major": 2,
       "version_minor": 0
      },
      "text/plain": [
       "  0%|          | 0/143 [00:00<?, ?it/s]"
      ]
     },
     "metadata": {},
     "output_type": "display_data"
    },
    {
     "name": "stderr",
     "output_type": "stream",
     "text": [
      "<ipython-input-148-7db04d123dcc>:14: RuntimeWarning: Mean of empty slice\n",
      "  masks_shift = np.nanmean(np.stack(dice_scores), 1)\n"
     ]
    },
    {
     "data": {
      "application/vnd.jupyter.widget-view+json": {
       "model_id": "73be368d3fc945319c36ee1e0593d041",
       "version_major": 2,
       "version_minor": 0
      },
      "text/plain": [
       "  0%|          | 0/143 [00:00<?, ?it/s]"
      ]
     },
     "metadata": {},
     "output_type": "display_data"
    },
    {
     "name": "stderr",
     "output_type": "stream",
     "text": [
      "<ipython-input-148-7db04d123dcc>:14: RuntimeWarning: Mean of empty slice\n",
      "  masks_shift = np.nanmean(np.stack(dice_scores), 1)\n"
     ]
    },
    {
     "data": {
      "application/vnd.jupyter.widget-view+json": {
       "model_id": "35de5bb7c0e3457cbd4a6115673a74c9",
       "version_major": 2,
       "version_minor": 0
      },
      "text/plain": [
       "  0%|          | 0/143 [00:00<?, ?it/s]"
      ]
     },
     "metadata": {},
     "output_type": "display_data"
    },
    {
     "name": "stderr",
     "output_type": "stream",
     "text": [
      "<ipython-input-148-7db04d123dcc>:14: RuntimeWarning: Mean of empty slice\n",
      "  masks_shift = np.nanmean(np.stack(dice_scores), 1)\n"
     ]
    },
    {
     "data": {
      "application/vnd.jupyter.widget-view+json": {
       "model_id": "d94a391a953d40dc84679a55450b6191",
       "version_major": 2,
       "version_minor": 0
      },
      "text/plain": [
       "  0%|          | 0/143 [00:00<?, ?it/s]"
      ]
     },
     "metadata": {},
     "output_type": "display_data"
    },
    {
     "name": "stderr",
     "output_type": "stream",
     "text": [
      "<ipython-input-148-7db04d123dcc>:14: RuntimeWarning: Mean of empty slice\n",
      "  masks_shift = np.nanmean(np.stack(dice_scores), 1)\n",
      "Clipping input data to the valid range for imshow with RGB data ([0..1] for floats or [0..255] for integers).\n"
     ]
    },
    {
     "data": {
      "application/vnd.jupyter.widget-view+json": {
       "model_id": "a3e8de194989404cba000fa423fc1a9f",
       "version_major": 2,
       "version_minor": 0
      },
      "text/plain": [
       "  0%|          | 0/143 [00:00<?, ?it/s]"
      ]
     },
     "metadata": {},
     "output_type": "display_data"
    },
    {
     "name": "stderr",
     "output_type": "stream",
     "text": [
      "<ipython-input-148-7db04d123dcc>:14: RuntimeWarning: Mean of empty slice\n",
      "  masks_shift = np.nanmean(np.stack(dice_scores), 1)\n"
     ]
    },
    {
     "data": {
      "application/vnd.jupyter.widget-view+json": {
       "model_id": "2df7c9aad69347f5a2bf106fcacbd43b",
       "version_major": 2,
       "version_minor": 0
      },
      "text/plain": [
       "  0%|          | 0/143 [00:00<?, ?it/s]"
      ]
     },
     "metadata": {},
     "output_type": "display_data"
    },
    {
     "name": "stderr",
     "output_type": "stream",
     "text": [
      "<ipython-input-148-7db04d123dcc>:14: RuntimeWarning: Mean of empty slice\n",
      "  masks_shift = np.nanmean(np.stack(dice_scores), 1)\n"
     ]
    },
    {
     "data": {
      "application/vnd.jupyter.widget-view+json": {
       "model_id": "6e8d74235c424dcbb1b65cb4653d80f9",
       "version_major": 2,
       "version_minor": 0
      },
      "text/plain": [
       "  0%|          | 0/143 [00:00<?, ?it/s]"
      ]
     },
     "metadata": {},
     "output_type": "display_data"
    },
    {
     "name": "stderr",
     "output_type": "stream",
     "text": [
      "<ipython-input-148-7db04d123dcc>:14: RuntimeWarning: Mean of empty slice\n",
      "  masks_shift = np.nanmean(np.stack(dice_scores), 1)\n"
     ]
    },
    {
     "data": {
      "application/vnd.jupyter.widget-view+json": {
       "model_id": "6aa12eb1c68d46758149e67d1002efe1",
       "version_major": 2,
       "version_minor": 0
      },
      "text/plain": [
       "  0%|          | 0/143 [00:00<?, ?it/s]"
      ]
     },
     "metadata": {},
     "output_type": "display_data"
    },
    {
     "name": "stderr",
     "output_type": "stream",
     "text": [
      "<ipython-input-148-7db04d123dcc>:14: RuntimeWarning: Mean of empty slice\n",
      "  masks_shift = np.nanmean(np.stack(dice_scores), 1)\n"
     ]
    },
    {
     "data": {
      "application/vnd.jupyter.widget-view+json": {
       "model_id": "14cdc12f14d3429b8038b1f17ccf958a",
       "version_major": 2,
       "version_minor": 0
      },
      "text/plain": [
       "  0%|          | 0/143 [00:00<?, ?it/s]"
      ]
     },
     "metadata": {},
     "output_type": "display_data"
    },
    {
     "name": "stderr",
     "output_type": "stream",
     "text": [
      "<ipython-input-148-7db04d123dcc>:14: RuntimeWarning: Mean of empty slice\n",
      "  masks_shift = np.nanmean(np.stack(dice_scores), 1)\n",
      "Clipping input data to the valid range for imshow with RGB data ([0..1] for floats or [0..255] for integers).\n"
     ]
    }
   ],
   "source": [
    "for case_day_idx in range(len(unique_case_days)):\n",
    "    case = int(unique_case_days[case_day_idx].split('_')[0])\n",
    "    day = int(unique_case_days[case_day_idx].split('_')[1])\n",
    "    case_day_data = train_df.loc[(train_df['case']==case) & (train_df['day']==day)]\n",
    "    dice_scores = []\n",
    "    for idx in tqdm(range(case_day_data.shape[0]-1)):\n",
    "        data = datamodule.train_dataset[case_day_data.index.values[idx]]\n",
    "        mask = data['mask']\n",
    "        data = datamodule.train_dataset[case_day_data.index.values[idx+1]]\n",
    "        mask_next = data['mask']\n",
    "        dice_scores.append(dice_meter.score_fn(mask, mask_next))\n",
    "        mask = mask_next\n",
    "\n",
    "    masks_shift = np.nanmean(np.stack(dice_scores), 1)\n",
    "    sus_annotation_idx = np.where(masks_shift<=0.6)[0]\n",
    "    for sus_an_idx in sus_annotation_idx:\n",
    "        plot_sus_pairs(case_day_data, case, day, sus_an_idx, True)"
   ]
  },
  {
   "cell_type": "markdown",
   "id": "565c585b-67f5-4dec-9237-34db59e53216",
   "metadata": {},
   "source": [
    "what if we simply drop incosistent annotations"
   ]
  },
  {
   "cell_type": "code",
   "execution_count": null,
   "id": "e9967760-52e5-41c6-977f-be4d64a8bd07",
   "metadata": {},
   "outputs": [],
   "source": []
  }
 ],
 "metadata": {
  "kernelspec": {
   "display_name": "Python 3",
   "language": "python",
   "name": "python3"
  },
  "language_info": {
   "codemirror_mode": {
    "name": "ipython",
    "version": 3
   },
   "file_extension": ".py",
   "mimetype": "text/x-python",
   "name": "python",
   "nbconvert_exporter": "python",
   "pygments_lexer": "ipython3",
   "version": "3.8.10"
  },
  "uuid": "cf72b441-585b-45ee-878b-414698e70b3f"
 },
 "nbformat": 4,
 "nbformat_minor": 5
}
